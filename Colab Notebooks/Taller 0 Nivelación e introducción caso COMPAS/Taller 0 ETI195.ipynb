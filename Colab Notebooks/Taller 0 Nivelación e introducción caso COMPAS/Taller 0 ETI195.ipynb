{
 "cells": [
  {
   "cell_type": "markdown",
   "metadata": {
    "id": "kx57r62efB5k"
   },
   "source": [
    "<h1></h1>\n",
    "<h2><center> ETI195 - Ética para Ciencia de Datos y Estadística </center></h2>\n",
    "\n",
    "<h1></h1>\n",
    "<h2><center> Taller 0: Nivelación e introducción caso COMPAS </center></h2>\n",
    "\n"
   ]
  },
  {
   "cell_type": "markdown",
   "metadata": {},
   "source": [
    "## Imports"
   ]
  },
  {
   "cell_type": "code",
   "execution_count": 1,
   "metadata": {
    "id": "DTRglEQvGSLM"
   },
   "outputs": [],
   "source": [
    "import pandas as pd\n",
    "import numpy as np\n",
    "\n",
    "import matplotlib\n",
    "from matplotlib import pyplot as plt\n",
    "\n",
    "import seaborn as sns\n",
    "\n",
    "import warnings\n",
    "warnings.filterwarnings('ignore')"
   ]
  },
  {
   "cell_type": "markdown",
   "metadata": {},
   "source": [
    "Verificar que todas esas librerías estén instaladas, dado que se usarán continuamente en el curso.\n",
    "\n",
    "```python\n",
    "py -m pip install numpy pandas matplotlib seaborn scikit-learn\n",
    "python3 -m pip install numpy pandas matplotlib seaborn scikit-learn\n",
    "```\n"
   ]
  },
  {
   "cell_type": "markdown",
   "metadata": {},
   "source": [
    "## Introducción al caso"
   ]
  },
  {
   "cell_type": "markdown",
   "metadata": {},
   "source": [
    "### ¿Qué es COMPAS?"
   ]
  },
  {
   "cell_type": "markdown",
   "metadata": {},
   "source": [
    "- COMPAS es un algoritmo desarrollado por la empresa\n",
    "NorthPointe que es utilizado en el sistema de justicia criminal\n",
    "de Estados Unidos para predecir la probabilidad o riesgo de\n",
    "que un acusado vuelva a cometer un delito en el futuro.\n",
    "\n",
    "- Este sistema fue diseñado con el objetivo de ayudar a los\n",
    "jueces a tomar decisiones más informadas sobre el riesgo de\n",
    "reincidencia y a determinar qué medidas cautelares o\n",
    "sentencias serían más adecuadas para cada acusado.\n",
    "\n",
    "- Este tipo de herramientas las conocemos generalmente como\n",
    "“Instrumentos de evaluación de riesgo”."
   ]
  },
  {
   "cell_type": "markdown",
   "metadata": {},
   "source": [
    "Una investigación reciente llevada a cabo por ProPublica, un\n",
    "medio de comunicación independiente y sin fines de lucro, encontró varios problemas con este algoritmo:"
   ]
  },
  {
   "cell_type": "markdown",
   "metadata": {},
   "source": [
    "- El algoritmo suele etiquetar falsamente a los acusados\n",
    "afro-americanos como futuros delincuentes, etiquetándolos\n",
    "erróneamente de esta manera en una razón que duplica a la\n",
    "de los acusados caucásicos.\n",
    "\n",
    "- De la misma forma, el algoritmo suele etiquetar falsamente a\n",
    "los acusados caucásicos como delincuentes de bajo riesgo, en\n",
    "una razón que duplica a la de los acusados afro-americanos."
   ]
  },
  {
   "cell_type": "markdown",
   "metadata": {
    "id": "8ds8fjiifqja"
   },
   "source": [
    "### COMPAS: Correctional Offender Management Profiling for Alternative Sanctions \n",
    "\n",
    "![imagen](https://static.propublica.org/projects/algorithmic-bias/assets/img/generated/opener-b-crop-960*540-00796e.jpg)\n",
    "<b><h6> Imagen 1 - Machine Bias (ProPublica) </h6></b>\n",
    "\n",
    "**Investigación hecha por ProPublica: Existe una clara diferencia en la distribución de los puntajes de riesgo según raza.**\n",
    "\n",
    "<b><h3>Links de interés: </h3></b>\n",
    "\n",
    "- [Artículo ProPublica: Machine Bias](https://www.propublica.org/article/machine-bias-risk-assessments-in-criminal-sentencing)\n",
    "\n",
    "- [Metodología](https://www.propublica.org/article/how-we-analyzed-the-compas-recidivism-algorithm)\n",
    "\n",
    "- [Códigos originales de ProPublica](https://github.com/propublica/compas-analysis/tree/master)\n",
    "\n",
    "\n"
   ]
  },
  {
   "cell_type": "code",
   "execution_count": 2,
   "metadata": {
    "colab": {
     "base_uri": "https://localhost:8080/"
    },
    "executionInfo": {
     "elapsed": 63,
     "status": "ok",
     "timestamp": 1710265788993,
     "user": {
      "displayName": "Diego Rodríguez",
      "userId": "02273920844464973837"
     },
     "user_tz": 180
    },
    "id": "OJCeVwSAgds8",
    "outputId": "5914f016-c2fe-4b91-b7f5-04848d6c83ef"
   },
   "outputs": [
    {
     "data": {
      "text/plain": [
       "(7214, 53)"
      ]
     },
     "execution_count": 2,
     "metadata": {},
     "output_type": "execute_result"
    }
   ],
   "source": [
    "# Cargamos el dataset de githubusercontent.com\n",
    "\n",
    "compas = pd.read_csv(\n",
    "    \"https://raw.githubusercontent.com/propublica/compas-analysis/master/compas-scores-two-years.csv\"\n",
    ")\n",
    "\n",
    "compas.shape"
   ]
  },
  {
   "cell_type": "code",
   "execution_count": 3,
   "metadata": {},
   "outputs": [
    {
     "name": "stdout",
     "output_type": "stream",
     "text": [
      "El dataset tiene 7214 filas y 53 columnas\n"
     ]
    }
   ],
   "source": [
    "print(f\"El dataset tiene {compas.shape[0]} filas y {compas.shape[1]} columnas\")"
   ]
  },
  {
   "cell_type": "code",
   "execution_count": 4,
   "metadata": {
    "colab": {
     "base_uri": "https://localhost:8080/",
     "height": 342
    },
    "executionInfo": {
     "elapsed": 58,
     "status": "ok",
     "timestamp": 1710265788993,
     "user": {
      "displayName": "Diego Rodríguez",
      "userId": "02273920844464973837"
     },
     "user_tz": 180
    },
    "id": "rt9_ISPzn8IV",
    "outputId": "a04544b8-15ae-4e8f-f150-e75c183c73c8"
   },
   "outputs": [
    {
     "data": {
      "text/html": [
       "<div>\n",
       "<style scoped>\n",
       "    .dataframe tbody tr th:only-of-type {\n",
       "        vertical-align: middle;\n",
       "    }\n",
       "\n",
       "    .dataframe tbody tr th {\n",
       "        vertical-align: top;\n",
       "    }\n",
       "\n",
       "    .dataframe thead th {\n",
       "        text-align: right;\n",
       "    }\n",
       "</style>\n",
       "<table border=\"1\" class=\"dataframe\">\n",
       "  <thead>\n",
       "    <tr style=\"text-align: right;\">\n",
       "      <th></th>\n",
       "      <th>id</th>\n",
       "      <th>name</th>\n",
       "      <th>first</th>\n",
       "      <th>last</th>\n",
       "      <th>compas_screening_date</th>\n",
       "      <th>sex</th>\n",
       "      <th>dob</th>\n",
       "      <th>age</th>\n",
       "      <th>age_cat</th>\n",
       "      <th>race</th>\n",
       "      <th>...</th>\n",
       "      <th>v_decile_score</th>\n",
       "      <th>v_score_text</th>\n",
       "      <th>v_screening_date</th>\n",
       "      <th>in_custody</th>\n",
       "      <th>out_custody</th>\n",
       "      <th>priors_count.1</th>\n",
       "      <th>start</th>\n",
       "      <th>end</th>\n",
       "      <th>event</th>\n",
       "      <th>two_year_recid</th>\n",
       "    </tr>\n",
       "  </thead>\n",
       "  <tbody>\n",
       "    <tr>\n",
       "      <th>0</th>\n",
       "      <td>1</td>\n",
       "      <td>miguel hernandez</td>\n",
       "      <td>miguel</td>\n",
       "      <td>hernandez</td>\n",
       "      <td>2013-08-14</td>\n",
       "      <td>Male</td>\n",
       "      <td>1947-04-18</td>\n",
       "      <td>69</td>\n",
       "      <td>Greater than 45</td>\n",
       "      <td>Other</td>\n",
       "      <td>...</td>\n",
       "      <td>1</td>\n",
       "      <td>Low</td>\n",
       "      <td>2013-08-14</td>\n",
       "      <td>2014-07-07</td>\n",
       "      <td>2014-07-14</td>\n",
       "      <td>0</td>\n",
       "      <td>0</td>\n",
       "      <td>327</td>\n",
       "      <td>0</td>\n",
       "      <td>0</td>\n",
       "    </tr>\n",
       "    <tr>\n",
       "      <th>1</th>\n",
       "      <td>3</td>\n",
       "      <td>kevon dixon</td>\n",
       "      <td>kevon</td>\n",
       "      <td>dixon</td>\n",
       "      <td>2013-01-27</td>\n",
       "      <td>Male</td>\n",
       "      <td>1982-01-22</td>\n",
       "      <td>34</td>\n",
       "      <td>25 - 45</td>\n",
       "      <td>African-American</td>\n",
       "      <td>...</td>\n",
       "      <td>1</td>\n",
       "      <td>Low</td>\n",
       "      <td>2013-01-27</td>\n",
       "      <td>2013-01-26</td>\n",
       "      <td>2013-02-05</td>\n",
       "      <td>0</td>\n",
       "      <td>9</td>\n",
       "      <td>159</td>\n",
       "      <td>1</td>\n",
       "      <td>1</td>\n",
       "    </tr>\n",
       "    <tr>\n",
       "      <th>2</th>\n",
       "      <td>4</td>\n",
       "      <td>ed philo</td>\n",
       "      <td>ed</td>\n",
       "      <td>philo</td>\n",
       "      <td>2013-04-14</td>\n",
       "      <td>Male</td>\n",
       "      <td>1991-05-14</td>\n",
       "      <td>24</td>\n",
       "      <td>Less than 25</td>\n",
       "      <td>African-American</td>\n",
       "      <td>...</td>\n",
       "      <td>3</td>\n",
       "      <td>Low</td>\n",
       "      <td>2013-04-14</td>\n",
       "      <td>2013-06-16</td>\n",
       "      <td>2013-06-16</td>\n",
       "      <td>4</td>\n",
       "      <td>0</td>\n",
       "      <td>63</td>\n",
       "      <td>0</td>\n",
       "      <td>1</td>\n",
       "    </tr>\n",
       "    <tr>\n",
       "      <th>3</th>\n",
       "      <td>5</td>\n",
       "      <td>marcu brown</td>\n",
       "      <td>marcu</td>\n",
       "      <td>brown</td>\n",
       "      <td>2013-01-13</td>\n",
       "      <td>Male</td>\n",
       "      <td>1993-01-21</td>\n",
       "      <td>23</td>\n",
       "      <td>Less than 25</td>\n",
       "      <td>African-American</td>\n",
       "      <td>...</td>\n",
       "      <td>6</td>\n",
       "      <td>Medium</td>\n",
       "      <td>2013-01-13</td>\n",
       "      <td>NaN</td>\n",
       "      <td>NaN</td>\n",
       "      <td>1</td>\n",
       "      <td>0</td>\n",
       "      <td>1174</td>\n",
       "      <td>0</td>\n",
       "      <td>0</td>\n",
       "    </tr>\n",
       "    <tr>\n",
       "      <th>4</th>\n",
       "      <td>6</td>\n",
       "      <td>bouthy pierrelouis</td>\n",
       "      <td>bouthy</td>\n",
       "      <td>pierrelouis</td>\n",
       "      <td>2013-03-26</td>\n",
       "      <td>Male</td>\n",
       "      <td>1973-01-22</td>\n",
       "      <td>43</td>\n",
       "      <td>25 - 45</td>\n",
       "      <td>Other</td>\n",
       "      <td>...</td>\n",
       "      <td>1</td>\n",
       "      <td>Low</td>\n",
       "      <td>2013-03-26</td>\n",
       "      <td>NaN</td>\n",
       "      <td>NaN</td>\n",
       "      <td>2</td>\n",
       "      <td>0</td>\n",
       "      <td>1102</td>\n",
       "      <td>0</td>\n",
       "      <td>0</td>\n",
       "    </tr>\n",
       "  </tbody>\n",
       "</table>\n",
       "<p>5 rows × 53 columns</p>\n",
       "</div>"
      ],
      "text/plain": [
       "   id                name   first         last compas_screening_date   sex  \\\n",
       "0   1    miguel hernandez  miguel    hernandez            2013-08-14  Male   \n",
       "1   3         kevon dixon   kevon        dixon            2013-01-27  Male   \n",
       "2   4            ed philo      ed        philo            2013-04-14  Male   \n",
       "3   5         marcu brown   marcu        brown            2013-01-13  Male   \n",
       "4   6  bouthy pierrelouis  bouthy  pierrelouis            2013-03-26  Male   \n",
       "\n",
       "          dob  age          age_cat              race  ...  v_decile_score  \\\n",
       "0  1947-04-18   69  Greater than 45             Other  ...               1   \n",
       "1  1982-01-22   34          25 - 45  African-American  ...               1   \n",
       "2  1991-05-14   24     Less than 25  African-American  ...               3   \n",
       "3  1993-01-21   23     Less than 25  African-American  ...               6   \n",
       "4  1973-01-22   43          25 - 45             Other  ...               1   \n",
       "\n",
       "   v_score_text  v_screening_date  in_custody  out_custody  priors_count.1  \\\n",
       "0           Low        2013-08-14  2014-07-07   2014-07-14               0   \n",
       "1           Low        2013-01-27  2013-01-26   2013-02-05               0   \n",
       "2           Low        2013-04-14  2013-06-16   2013-06-16               4   \n",
       "3        Medium        2013-01-13         NaN          NaN               1   \n",
       "4           Low        2013-03-26         NaN          NaN               2   \n",
       "\n",
       "  start   end event two_year_recid  \n",
       "0     0   327     0              0  \n",
       "1     9   159     1              1  \n",
       "2     0    63     0              1  \n",
       "3     0  1174     0              0  \n",
       "4     0  1102     0              0  \n",
       "\n",
       "[5 rows x 53 columns]"
      ]
     },
     "execution_count": 4,
     "metadata": {},
     "output_type": "execute_result"
    }
   ],
   "source": [
    "compas.head()"
   ]
  },
  {
   "cell_type": "markdown",
   "metadata": {
    "id": "5Fy-7oWplFhK"
   },
   "source": [
    "## Columnas de interés:"
   ]
  },
  {
   "cell_type": "markdown",
   "metadata": {},
   "source": [
    "1. `age` - Edad del acusado. Variable numérica.\n",
    "2. `age_cat` - Categoría de edad. Puede ser < 25, 25-45, >45.\n",
    "3. `sex` - Sexo del acusado. Puede ser  'Male' o 'Female'.\n",
    "4. `race` - Raza del acusado. Puede ser 'African-American', 'Caucasian', 'Hispanic', 'Asian', o 'Other'.\n",
    "5. `c_charge_degree` - Grado del crimen. Es o bien M (Misdemeanor), F (Felony), u O (Ordinary traffic offense).\n",
    "6. `priors_count` - Número de crimenes anteriores cometidos por el acusado. Variable numérica.\n",
    "7. `days_b_screening_arrest` - Días entre el arresto y la fecha del cargo por el delito registrado en COMPAS.\n",
    "8. `decile_score` - Puntaje COMPAS predicho por el sistema. Toma valores entre 0 y 10.\n",
    "9. `score_text` - Categoría de decile_score. Puede ser Low (1-4), Medium (5-7), y High (8-10).\n",
    "10. `is_recid` - Variable que indica si un acusado es reincidente o no. Puede tomar valores 1, 0 o -1.\n",
    "11. `two_year_recid` - Variable que indica si un acusado tuvo reincidencia dentro de un período de dos años.\n",
    "12. `c_jail_in` - Momento en que el acusado fue ingresado a la cárcel.\n",
    "13. `c_jail_out` - Momento en que el acusado fue liberado de la cárcel."
   ]
  },
  {
   "cell_type": "code",
   "execution_count": 5,
   "metadata": {
    "id": "M1MUoBHcjlnL"
   },
   "outputs": [],
   "source": [
    "# Mantenemos las columnas de interés.\n",
    "\n",
    "columns = [\n",
    "    \"age\",\n",
    "    \"c_charge_degree\",\n",
    "    \"race\",\n",
    "    \"age_cat\",\n",
    "    \"score_text\",\n",
    "    \"sex\",\n",
    "    \"priors_count\",\n",
    "    \"days_b_screening_arrest\",\n",
    "    \"decile_score\",\n",
    "    \"is_recid\",\n",
    "    \"two_year_recid\",\n",
    "    \"c_jail_in\",\n",
    "    \"c_jail_out\",\n",
    "]\n",
    "\n",
    "compas = compas[columns]"
   ]
  },
  {
   "cell_type": "code",
   "execution_count": 6,
   "metadata": {
    "colab": {
     "base_uri": "https://localhost:8080/",
     "height": 206
    },
    "executionInfo": {
     "elapsed": 55,
     "status": "ok",
     "timestamp": 1710265788994,
     "user": {
      "displayName": "Diego Rodríguez",
      "userId": "02273920844464973837"
     },
     "user_tz": 180
    },
    "id": "Lp0wcqVlqkuh",
    "outputId": "27a3dc5c-f9a8-431b-d7c4-411e6e01ad97"
   },
   "outputs": [
    {
     "data": {
      "text/html": [
       "<div>\n",
       "<style scoped>\n",
       "    .dataframe tbody tr th:only-of-type {\n",
       "        vertical-align: middle;\n",
       "    }\n",
       "\n",
       "    .dataframe tbody tr th {\n",
       "        vertical-align: top;\n",
       "    }\n",
       "\n",
       "    .dataframe thead th {\n",
       "        text-align: right;\n",
       "    }\n",
       "</style>\n",
       "<table border=\"1\" class=\"dataframe\">\n",
       "  <thead>\n",
       "    <tr style=\"text-align: right;\">\n",
       "      <th></th>\n",
       "      <th>age</th>\n",
       "      <th>c_charge_degree</th>\n",
       "      <th>race</th>\n",
       "      <th>age_cat</th>\n",
       "      <th>score_text</th>\n",
       "      <th>sex</th>\n",
       "      <th>priors_count</th>\n",
       "      <th>days_b_screening_arrest</th>\n",
       "      <th>decile_score</th>\n",
       "      <th>is_recid</th>\n",
       "      <th>two_year_recid</th>\n",
       "      <th>c_jail_in</th>\n",
       "      <th>c_jail_out</th>\n",
       "    </tr>\n",
       "  </thead>\n",
       "  <tbody>\n",
       "    <tr>\n",
       "      <th>0</th>\n",
       "      <td>69</td>\n",
       "      <td>F</td>\n",
       "      <td>Other</td>\n",
       "      <td>Greater than 45</td>\n",
       "      <td>Low</td>\n",
       "      <td>Male</td>\n",
       "      <td>0</td>\n",
       "      <td>-1.0</td>\n",
       "      <td>1</td>\n",
       "      <td>0</td>\n",
       "      <td>0</td>\n",
       "      <td>2013-08-13 06:03:42</td>\n",
       "      <td>2013-08-14 05:41:20</td>\n",
       "    </tr>\n",
       "    <tr>\n",
       "      <th>1</th>\n",
       "      <td>34</td>\n",
       "      <td>F</td>\n",
       "      <td>African-American</td>\n",
       "      <td>25 - 45</td>\n",
       "      <td>Low</td>\n",
       "      <td>Male</td>\n",
       "      <td>0</td>\n",
       "      <td>-1.0</td>\n",
       "      <td>3</td>\n",
       "      <td>1</td>\n",
       "      <td>1</td>\n",
       "      <td>2013-01-26 03:45:27</td>\n",
       "      <td>2013-02-05 05:36:53</td>\n",
       "    </tr>\n",
       "    <tr>\n",
       "      <th>2</th>\n",
       "      <td>24</td>\n",
       "      <td>F</td>\n",
       "      <td>African-American</td>\n",
       "      <td>Less than 25</td>\n",
       "      <td>Low</td>\n",
       "      <td>Male</td>\n",
       "      <td>4</td>\n",
       "      <td>-1.0</td>\n",
       "      <td>4</td>\n",
       "      <td>1</td>\n",
       "      <td>1</td>\n",
       "      <td>2013-04-13 04:58:34</td>\n",
       "      <td>2013-04-14 07:02:04</td>\n",
       "    </tr>\n",
       "    <tr>\n",
       "      <th>3</th>\n",
       "      <td>23</td>\n",
       "      <td>F</td>\n",
       "      <td>African-American</td>\n",
       "      <td>Less than 25</td>\n",
       "      <td>High</td>\n",
       "      <td>Male</td>\n",
       "      <td>1</td>\n",
       "      <td>NaN</td>\n",
       "      <td>8</td>\n",
       "      <td>0</td>\n",
       "      <td>0</td>\n",
       "      <td>NaN</td>\n",
       "      <td>NaN</td>\n",
       "    </tr>\n",
       "    <tr>\n",
       "      <th>4</th>\n",
       "      <td>43</td>\n",
       "      <td>F</td>\n",
       "      <td>Other</td>\n",
       "      <td>25 - 45</td>\n",
       "      <td>Low</td>\n",
       "      <td>Male</td>\n",
       "      <td>2</td>\n",
       "      <td>NaN</td>\n",
       "      <td>1</td>\n",
       "      <td>0</td>\n",
       "      <td>0</td>\n",
       "      <td>NaN</td>\n",
       "      <td>NaN</td>\n",
       "    </tr>\n",
       "  </tbody>\n",
       "</table>\n",
       "</div>"
      ],
      "text/plain": [
       "   age c_charge_degree              race          age_cat score_text   sex  \\\n",
       "0   69               F             Other  Greater than 45        Low  Male   \n",
       "1   34               F  African-American          25 - 45        Low  Male   \n",
       "2   24               F  African-American     Less than 25        Low  Male   \n",
       "3   23               F  African-American     Less than 25       High  Male   \n",
       "4   43               F             Other          25 - 45        Low  Male   \n",
       "\n",
       "   priors_count  days_b_screening_arrest  decile_score  is_recid  \\\n",
       "0             0                     -1.0             1         0   \n",
       "1             0                     -1.0             3         1   \n",
       "2             4                     -1.0             4         1   \n",
       "3             1                      NaN             8         0   \n",
       "4             2                      NaN             1         0   \n",
       "\n",
       "   two_year_recid            c_jail_in           c_jail_out  \n",
       "0               0  2013-08-13 06:03:42  2013-08-14 05:41:20  \n",
       "1               1  2013-01-26 03:45:27  2013-02-05 05:36:53  \n",
       "2               1  2013-04-13 04:58:34  2013-04-14 07:02:04  \n",
       "3               0                  NaN                  NaN  \n",
       "4               0                  NaN                  NaN  "
      ]
     },
     "execution_count": 6,
     "metadata": {},
     "output_type": "execute_result"
    }
   ],
   "source": [
    "compas.head()"
   ]
  },
  {
   "cell_type": "code",
   "execution_count": 7,
   "metadata": {
    "colab": {
     "base_uri": "https://localhost:8080/"
    },
    "executionInfo": {
     "elapsed": 54,
     "status": "ok",
     "timestamp": 1710265788995,
     "user": {
      "displayName": "Diego Rodríguez",
      "userId": "02273920844464973837"
     },
     "user_tz": 180
    },
    "id": "zcDS4cCEo5Ef",
    "outputId": "f0be9aa8-1397-47cb-f9ee-141e49ae6a4f"
   },
   "outputs": [
    {
     "name": "stdout",
     "output_type": "stream",
     "text": [
      "<class 'pandas.core.frame.DataFrame'>\n",
      "RangeIndex: 7214 entries, 0 to 7213\n",
      "Data columns (total 13 columns):\n",
      " #   Column                   Non-Null Count  Dtype  \n",
      "---  ------                   --------------  -----  \n",
      " 0   age                      7214 non-null   int64  \n",
      " 1   c_charge_degree          7214 non-null   object \n",
      " 2   race                     7214 non-null   object \n",
      " 3   age_cat                  7214 non-null   object \n",
      " 4   score_text               7214 non-null   object \n",
      " 5   sex                      7214 non-null   object \n",
      " 6   priors_count             7214 non-null   int64  \n",
      " 7   days_b_screening_arrest  6907 non-null   float64\n",
      " 8   decile_score             7214 non-null   int64  \n",
      " 9   is_recid                 7214 non-null   int64  \n",
      " 10  two_year_recid           7214 non-null   int64  \n",
      " 11  c_jail_in                6907 non-null   object \n",
      " 12  c_jail_out               6907 non-null   object \n",
      "dtypes: float64(1), int64(5), object(7)\n",
      "memory usage: 732.8+ KB\n"
     ]
    }
   ],
   "source": [
    "compas.info()"
   ]
  },
  {
   "cell_type": "markdown",
   "metadata": {
    "id": "basxaHnXwtFV"
   },
   "source": [
    "En la metodología propuesta por ProPublica (revisar <b>Links de interés</b>) se presentan los siguientes criterios para realizar la limpieza de los datos:\n",
    "\n",
    "- Si la fecha del cargo por el delito de un acusado evaluado por COMPAS no estaba dentro de los 30 días desde el momento en que la persona fue arrestada, asumimos que, debido a razones de calidad de datos, no tenemos el delito correcto.\n",
    "\n",
    "- Según se indica en el código publicado por ProPublica, se etiquetó con ```is_recid = -1``` los casos para los cuales no se encontró el caso de COMPAS.\n",
    "\n",
    "- En una línea similar, se eliminan las infracciones de tráfico comunes (aquellas con un grado de ```c_charge_degree``` <b>'O'</b>), que no resultarían en tiempo de prisión.\n"
   ]
  },
  {
   "cell_type": "code",
   "execution_count": 8,
   "metadata": {
    "colab": {
     "base_uri": "https://localhost:8080/"
    },
    "executionInfo": {
     "elapsed": 50,
     "status": "ok",
     "timestamp": 1710265788996,
     "user": {
      "displayName": "Diego Rodríguez",
      "userId": "02273920844464973837"
     },
     "user_tz": 180
    },
    "id": "NQKIEGGkzeKj",
    "outputId": "fc2be575-e2a6-482b-9a21-f9bf440a7f65"
   },
   "outputs": [
    {
     "data": {
      "text/plain": [
       "(6172, 13)"
      ]
     },
     "execution_count": 8,
     "metadata": {},
     "output_type": "execute_result"
    }
   ],
   "source": [
    "# Aplicamos los filtros necesarios para limpiar el dataset según las condiciones dadas.\n",
    "clean_df = compas[\n",
    "    (\n",
    "        (compas[\"days_b_screening_arrest\"] <= 30)\n",
    "        & (compas[\"days_b_screening_arrest\"] >= -30)\n",
    "        & (compas[\"is_recid\"] != -1)\n",
    "        & (compas[\"c_charge_degree\"] != \"O\")\n",
    "    )\n",
    "]\n",
    "clean_df.shape"
   ]
  },
  {
   "cell_type": "code",
   "execution_count": 9,
   "metadata": {
    "colab": {
     "base_uri": "https://localhost:8080/"
    },
    "executionInfo": {
     "elapsed": 46,
     "status": "ok",
     "timestamp": 1710265788996,
     "user": {
      "displayName": "Diego Rodríguez",
      "userId": "02273920844464973837"
     },
     "user_tz": 180
    },
    "id": "-HaWd8ju6V-5",
    "outputId": "5cac2ab7-1e41-43a8-c15c-ba55d4a414de"
   },
   "outputs": [
    {
     "data": {
      "text/plain": [
       "(7214, 13)"
      ]
     },
     "execution_count": 9,
     "metadata": {},
     "output_type": "execute_result"
    }
   ],
   "source": [
    "compas.shape"
   ]
  },
  {
   "cell_type": "code",
   "execution_count": 10,
   "metadata": {
    "colab": {
     "base_uri": "https://localhost:8080/"
    },
    "executionInfo": {
     "elapsed": 43,
     "status": "ok",
     "timestamp": 1710265788997,
     "user": {
      "displayName": "Diego Rodríguez",
      "userId": "02273920844464973837"
     },
     "user_tz": 180
    },
    "id": "dVL-ZBpC6fzL",
    "outputId": "f51af228-d752-4139-8988-a9d988d81f68"
   },
   "outputs": [
    {
     "name": "stdout",
     "output_type": "stream",
     "text": [
      "Se eliminaron 1042 registros.\n"
     ]
    }
   ],
   "source": [
    "print(f\"Se eliminaron {compas.shape[0] - clean_df.shape[0]} registros.\")"
   ]
  },
  {
   "cell_type": "code",
   "execution_count": 11,
   "metadata": {
    "colab": {
     "base_uri": "https://localhost:8080/"
    },
    "executionInfo": {
     "elapsed": 40,
     "status": "ok",
     "timestamp": 1710265788997,
     "user": {
      "displayName": "Diego Rodríguez",
      "userId": "02273920844464973837"
     },
     "user_tz": 180
    },
    "id": "RkGdDRqHpACb",
    "outputId": "47fa38b5-6527-41cb-8a1f-f88f51edf5eb"
   },
   "outputs": [
    {
     "name": "stdout",
     "output_type": "stream",
     "text": [
      "<class 'pandas.core.frame.DataFrame'>\n",
      "Index: 6172 entries, 0 to 7213\n",
      "Data columns (total 13 columns):\n",
      " #   Column                   Non-Null Count  Dtype  \n",
      "---  ------                   --------------  -----  \n",
      " 0   age                      6172 non-null   int64  \n",
      " 1   c_charge_degree          6172 non-null   object \n",
      " 2   race                     6172 non-null   object \n",
      " 3   age_cat                  6172 non-null   object \n",
      " 4   score_text               6172 non-null   object \n",
      " 5   sex                      6172 non-null   object \n",
      " 6   priors_count             6172 non-null   int64  \n",
      " 7   days_b_screening_arrest  6172 non-null   float64\n",
      " 8   decile_score             6172 non-null   int64  \n",
      " 9   is_recid                 6172 non-null   int64  \n",
      " 10  two_year_recid           6172 non-null   int64  \n",
      " 11  c_jail_in                6172 non-null   object \n",
      " 12  c_jail_out               6172 non-null   object \n",
      "dtypes: float64(1), int64(5), object(7)\n",
      "memory usage: 675.1+ KB\n"
     ]
    }
   ],
   "source": [
    "clean_df.info()"
   ]
  }
 ],
 "metadata": {
  "colab": {
   "authorship_tag": "ABX9TyOpvM8Z83WT0NTNts3KnoGP",
   "provenance": [
    {
     "file_id": "1w75_55FtHvkCd_WG9ibuGbuqxHY224Su",
     "timestamp": 1710719063563
    },
    {
     "file_id": "1TrpdgQ-wANobfl6j5qIXW5SgijT5Uats",
     "timestamp": 1710254441763
    }
   ]
  },
  "kernelspec": {
   "display_name": "Python 3",
   "name": "python3"
  },
  "language_info": {
   "codemirror_mode": {
    "name": "ipython",
    "version": 3
   },
   "file_extension": ".py",
   "mimetype": "text/x-python",
   "name": "python",
   "nbconvert_exporter": "python",
   "pygments_lexer": "ipython3",
   "version": "3.11.7"
  }
 },
 "nbformat": 4,
 "nbformat_minor": 0
}
