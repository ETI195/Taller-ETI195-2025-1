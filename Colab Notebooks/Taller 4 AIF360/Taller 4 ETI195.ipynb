{
 "cells": [
  {
   "cell_type": "markdown",
   "metadata": {
    "id": "oFYSEWjrpAKZ"
   },
   "source": [
    "<h1></h1>\n",
    "<h2><center> ETI195 - Ética para Ciencia de Datos y Estadística </center></h2>\n",
    "\n",
    "<h1></h1>\n",
    "<h2><center> Taller 4: AIF360 </center></h2>\n",
    "\n",
    "![AIF360](https://opengraph.githubassets.com/4b7ff9fccf4e6cafd9e59f42921b31a0f7f6696b009c8519e584be278094769d/Trusted-AI/AIF360)"
   ]
  },
  {
   "cell_type": "code",
   "execution_count": null,
   "metadata": {
    "colab": {
     "base_uri": "https://localhost:8080/"
    },
    "executionInfo": {
     "elapsed": 155494,
     "status": "ok",
     "timestamp": 1712069057542,
     "user": {
      "displayName": "Diego Rodríguez",
      "userId": "02273920844464973837"
     },
     "user_tz": 180
    },
    "id": "QUzbzPo-uKDY",
    "outputId": "9be73f7e-b64e-46b3-d292-77b7fc230b47"
   },
   "outputs": [],
   "source": [
    "# Instalar la librería AIF360\n",
    "\n",
    "# En Google Colab:\n",
    "# Utilice el comando mágico %pip para instalar la librería.\n",
    "# %pip install aif360\n",
    "# o\n",
    "# %pip install aif360[all]\n",
    "\n",
    "# En una terminal de consola:\n",
    "\n",
    "# Ejecute el siguiente comando para instalar la librería.\n",
    "# pip install aif360\n",
    "# Para instalar todas las dependencias opcionales, usar:\n",
    "# pip install aif360[all]"
   ]
  },
  {
   "cell_type": "markdown",
   "metadata": {},
   "source": [
    "Tiene el siguiente GitHub:\n",
    "\n",
    "[AIF360](https://github.com/Trusted-AI/AIF360)"
   ]
  },
  {
   "cell_type": "markdown",
   "metadata": {},
   "source": [
    "## Import de librerías\n"
   ]
  },
  {
   "cell_type": "code",
   "execution_count": null,
   "metadata": {
    "colab": {
     "base_uri": "https://localhost:8080/"
    },
    "executionInfo": {
     "elapsed": 14977,
     "status": "ok",
     "timestamp": 1691567731508,
     "user": {
      "displayName": "Diego Rodríguez",
      "userId": "02273920844464973837"
     },
     "user_tz": 240
    },
    "id": "Ow1qvDLLu8li",
    "outputId": "46ea6842-7026-437d-c731-4fdc03551092"
   },
   "outputs": [],
   "source": [
    "# elementales\n",
    "\n",
    "import numpy as np\n",
    "import pandas as pd\n",
    "from matplotlib import pyplot as plt\n",
    "\n",
    "palette = [\"#f04498\", \"#8881c7\"]\n",
    "import seaborn as sns\n",
    "\n",
    "# sklearn\n",
    "\n",
    "from sklearn.linear_model import LogisticRegressionCV\n",
    "from sklearn.model_selection import train_test_split\n",
    "from sklearn.metrics import (\n",
    "    accuracy_score,\n",
    "    recall_score,\n",
    "    f1_score,\n",
    ")\n",
    "\n",
    "# aif360\n",
    "\n",
    "from aif360.sklearn.datasets import fetch_german\n",
    "from aif360.algorithms.preprocessing import Reweighing\n",
    "from aif360.metrics import BinaryLabelDatasetMetric\n",
    "from aif360.datasets import BinaryLabelDataset"
   ]
  },
  {
   "cell_type": "markdown",
   "metadata": {
    "id": "DVHzMS1jzv3e"
   },
   "source": [
    "## Obtención y manipulación de los datos"
   ]
  },
  {
   "cell_type": "markdown",
   "metadata": {
    "id": "7ZU5n2qI0gBC"
   },
   "source": [
    "Estaremos utilizando el dataset 'German Credit Data', uno de los más utilizados en el área para demostrar la eficiencia de las distintas técnicas de debiasing."
   ]
  },
  {
   "cell_type": "code",
   "execution_count": 3,
   "metadata": {
    "colab": {
     "base_uri": "https://localhost:8080/",
     "height": 383
    },
    "executionInfo": {
     "elapsed": 28,
     "status": "ok",
     "timestamp": 1691567731509,
     "user": {
      "displayName": "Diego Rodríguez",
      "userId": "02273920844464973837"
     },
     "user_tz": 240
    },
    "id": "WGkk12m4zFsF",
    "outputId": "df256db0-ddc1-469c-8cc8-181f42900034"
   },
   "outputs": [
    {
     "data": {
      "text/html": [
       "<div>\n",
       "<style scoped>\n",
       "    .dataframe tbody tr th:only-of-type {\n",
       "        vertical-align: middle;\n",
       "    }\n",
       "\n",
       "    .dataframe tbody tr th {\n",
       "        vertical-align: top;\n",
       "    }\n",
       "\n",
       "    .dataframe thead th {\n",
       "        text-align: right;\n",
       "    }\n",
       "</style>\n",
       "<table border=\"1\" class=\"dataframe\">\n",
       "  <thead>\n",
       "    <tr style=\"text-align: right;\">\n",
       "      <th></th>\n",
       "      <th></th>\n",
       "      <th></th>\n",
       "      <th>checking_status</th>\n",
       "      <th>duration</th>\n",
       "      <th>credit_history</th>\n",
       "      <th>purpose</th>\n",
       "      <th>credit_amount</th>\n",
       "      <th>savings_status</th>\n",
       "      <th>employment</th>\n",
       "      <th>installment_commitment</th>\n",
       "      <th>other_parties</th>\n",
       "      <th>residence_since</th>\n",
       "      <th>...</th>\n",
       "      <th>age</th>\n",
       "      <th>other_payment_plans</th>\n",
       "      <th>housing</th>\n",
       "      <th>existing_credits</th>\n",
       "      <th>job</th>\n",
       "      <th>num_dependents</th>\n",
       "      <th>own_telephone</th>\n",
       "      <th>foreign_worker</th>\n",
       "      <th>sex</th>\n",
       "      <th>marital_status</th>\n",
       "    </tr>\n",
       "    <tr>\n",
       "      <th>sex</th>\n",
       "      <th>age</th>\n",
       "      <th>foreign_worker</th>\n",
       "      <th></th>\n",
       "      <th></th>\n",
       "      <th></th>\n",
       "      <th></th>\n",
       "      <th></th>\n",
       "      <th></th>\n",
       "      <th></th>\n",
       "      <th></th>\n",
       "      <th></th>\n",
       "      <th></th>\n",
       "      <th></th>\n",
       "      <th></th>\n",
       "      <th></th>\n",
       "      <th></th>\n",
       "      <th></th>\n",
       "      <th></th>\n",
       "      <th></th>\n",
       "      <th></th>\n",
       "      <th></th>\n",
       "      <th></th>\n",
       "      <th></th>\n",
       "    </tr>\n",
       "  </thead>\n",
       "  <tbody>\n",
       "    <tr>\n",
       "      <th>male</th>\n",
       "      <th>aged</th>\n",
       "      <th>yes</th>\n",
       "      <td>&lt;0</td>\n",
       "      <td>6</td>\n",
       "      <td>critical/other existing credit</td>\n",
       "      <td>radio/tv</td>\n",
       "      <td>1169</td>\n",
       "      <td>no known savings</td>\n",
       "      <td>&gt;=7</td>\n",
       "      <td>4</td>\n",
       "      <td>none</td>\n",
       "      <td>4</td>\n",
       "      <td>...</td>\n",
       "      <td>67</td>\n",
       "      <td>none</td>\n",
       "      <td>own</td>\n",
       "      <td>2</td>\n",
       "      <td>skilled</td>\n",
       "      <td>1</td>\n",
       "      <td>yes</td>\n",
       "      <td>yes</td>\n",
       "      <td>male</td>\n",
       "      <td>single</td>\n",
       "    </tr>\n",
       "    <tr>\n",
       "      <th>female</th>\n",
       "      <th>young</th>\n",
       "      <th>yes</th>\n",
       "      <td>0&lt;=X&lt;200</td>\n",
       "      <td>48</td>\n",
       "      <td>existing paid</td>\n",
       "      <td>radio/tv</td>\n",
       "      <td>5951</td>\n",
       "      <td>&lt;100</td>\n",
       "      <td>1&lt;=X&lt;4</td>\n",
       "      <td>2</td>\n",
       "      <td>none</td>\n",
       "      <td>2</td>\n",
       "      <td>...</td>\n",
       "      <td>22</td>\n",
       "      <td>none</td>\n",
       "      <td>own</td>\n",
       "      <td>1</td>\n",
       "      <td>skilled</td>\n",
       "      <td>1</td>\n",
       "      <td>none</td>\n",
       "      <td>yes</td>\n",
       "      <td>female</td>\n",
       "      <td>div/dep/mar</td>\n",
       "    </tr>\n",
       "    <tr>\n",
       "      <th rowspan=\"3\" valign=\"top\">male</th>\n",
       "      <th rowspan=\"3\" valign=\"top\">aged</th>\n",
       "      <th>yes</th>\n",
       "      <td>no checking</td>\n",
       "      <td>12</td>\n",
       "      <td>critical/other existing credit</td>\n",
       "      <td>education</td>\n",
       "      <td>2096</td>\n",
       "      <td>&lt;100</td>\n",
       "      <td>4&lt;=X&lt;7</td>\n",
       "      <td>2</td>\n",
       "      <td>none</td>\n",
       "      <td>3</td>\n",
       "      <td>...</td>\n",
       "      <td>49</td>\n",
       "      <td>none</td>\n",
       "      <td>own</td>\n",
       "      <td>1</td>\n",
       "      <td>unskilled resident</td>\n",
       "      <td>2</td>\n",
       "      <td>none</td>\n",
       "      <td>yes</td>\n",
       "      <td>male</td>\n",
       "      <td>single</td>\n",
       "    </tr>\n",
       "    <tr>\n",
       "      <th>yes</th>\n",
       "      <td>&lt;0</td>\n",
       "      <td>42</td>\n",
       "      <td>existing paid</td>\n",
       "      <td>furniture/equipment</td>\n",
       "      <td>7882</td>\n",
       "      <td>&lt;100</td>\n",
       "      <td>4&lt;=X&lt;7</td>\n",
       "      <td>2</td>\n",
       "      <td>guarantor</td>\n",
       "      <td>4</td>\n",
       "      <td>...</td>\n",
       "      <td>45</td>\n",
       "      <td>none</td>\n",
       "      <td>for free</td>\n",
       "      <td>1</td>\n",
       "      <td>skilled</td>\n",
       "      <td>2</td>\n",
       "      <td>none</td>\n",
       "      <td>yes</td>\n",
       "      <td>male</td>\n",
       "      <td>single</td>\n",
       "    </tr>\n",
       "    <tr>\n",
       "      <th>yes</th>\n",
       "      <td>&lt;0</td>\n",
       "      <td>24</td>\n",
       "      <td>delayed previously</td>\n",
       "      <td>new car</td>\n",
       "      <td>4870</td>\n",
       "      <td>&lt;100</td>\n",
       "      <td>1&lt;=X&lt;4</td>\n",
       "      <td>3</td>\n",
       "      <td>none</td>\n",
       "      <td>4</td>\n",
       "      <td>...</td>\n",
       "      <td>53</td>\n",
       "      <td>none</td>\n",
       "      <td>for free</td>\n",
       "      <td>2</td>\n",
       "      <td>skilled</td>\n",
       "      <td>2</td>\n",
       "      <td>none</td>\n",
       "      <td>yes</td>\n",
       "      <td>male</td>\n",
       "      <td>single</td>\n",
       "    </tr>\n",
       "  </tbody>\n",
       "</table>\n",
       "<p>5 rows × 21 columns</p>\n",
       "</div>"
      ],
      "text/plain": [
       "                            checking_status  duration  \\\n",
       "sex    age   foreign_worker                             \n",
       "male   aged  yes                         <0         6   \n",
       "female young yes                   0<=X<200        48   \n",
       "male   aged  yes                no checking        12   \n",
       "             yes                         <0        42   \n",
       "             yes                         <0        24   \n",
       "\n",
       "                                             credit_history  \\\n",
       "sex    age   foreign_worker                                   \n",
       "male   aged  yes             critical/other existing credit   \n",
       "female young yes                              existing paid   \n",
       "male   aged  yes             critical/other existing credit   \n",
       "             yes                              existing paid   \n",
       "             yes                         delayed previously   \n",
       "\n",
       "                                         purpose  credit_amount  \\\n",
       "sex    age   foreign_worker                                       \n",
       "male   aged  yes                        radio/tv           1169   \n",
       "female young yes                        radio/tv           5951   \n",
       "male   aged  yes                       education           2096   \n",
       "             yes             furniture/equipment           7882   \n",
       "             yes                         new car           4870   \n",
       "\n",
       "                               savings_status employment  \\\n",
       "sex    age   foreign_worker                                \n",
       "male   aged  yes             no known savings        >=7   \n",
       "female young yes                         <100     1<=X<4   \n",
       "male   aged  yes                         <100     4<=X<7   \n",
       "             yes                         <100     4<=X<7   \n",
       "             yes                         <100     1<=X<4   \n",
       "\n",
       "                             installment_commitment other_parties  \\\n",
       "sex    age   foreign_worker                                         \n",
       "male   aged  yes                                  4          none   \n",
       "female young yes                                  2          none   \n",
       "male   aged  yes                                  2          none   \n",
       "             yes                                  2     guarantor   \n",
       "             yes                                  3          none   \n",
       "\n",
       "                             residence_since  ... age  other_payment_plans  \\\n",
       "sex    age   foreign_worker                   ...                            \n",
       "male   aged  yes                           4  ...  67                 none   \n",
       "female young yes                           2  ...  22                 none   \n",
       "male   aged  yes                           3  ...  49                 none   \n",
       "             yes                           4  ...  45                 none   \n",
       "             yes                           4  ...  53                 none   \n",
       "\n",
       "                              housing existing_credits                 job  \\\n",
       "sex    age   foreign_worker                                                  \n",
       "male   aged  yes                  own                2             skilled   \n",
       "female young yes                  own                1             skilled   \n",
       "male   aged  yes                  own                1  unskilled resident   \n",
       "             yes             for free                1             skilled   \n",
       "             yes             for free                2             skilled   \n",
       "\n",
       "                            num_dependents  own_telephone foreign_worker  \\\n",
       "sex    age   foreign_worker                                                \n",
       "male   aged  yes                         1            yes            yes   \n",
       "female young yes                         1           none            yes   \n",
       "male   aged  yes                         2           none            yes   \n",
       "             yes                         2           none            yes   \n",
       "             yes                         2           none            yes   \n",
       "\n",
       "                                sex marital_status  \n",
       "sex    age   foreign_worker                         \n",
       "male   aged  yes               male         single  \n",
       "female young yes             female    div/dep/mar  \n",
       "male   aged  yes               male         single  \n",
       "             yes               male         single  \n",
       "             yes               male         single  \n",
       "\n",
       "[5 rows x 21 columns]"
      ]
     },
     "execution_count": 3,
     "metadata": {},
     "output_type": "execute_result"
    }
   ],
   "source": [
    "# Obtenemos los datos.\n",
    "\n",
    "X, y = fetch_german() # type: ignore\n",
    "X.head()"
   ]
  },
  {
   "cell_type": "code",
   "execution_count": 4,
   "metadata": {
    "colab": {
     "base_uri": "https://localhost:8080/",
     "height": 369
    },
    "executionInfo": {
     "elapsed": 419,
     "status": "ok",
     "timestamp": 1691567731905,
     "user": {
      "displayName": "Diego Rodríguez",
      "userId": "02273920844464973837"
     },
     "user_tz": 240
    },
    "id": "Sc6D3yZqzbnh",
    "outputId": "ece74762-bb3a-436a-bf72-a4477c9defeb"
   },
   "outputs": [
    {
     "data": {
      "text/html": [
       "<div>\n",
       "<style scoped>\n",
       "    .dataframe tbody tr th:only-of-type {\n",
       "        vertical-align: middle;\n",
       "    }\n",
       "\n",
       "    .dataframe tbody tr th {\n",
       "        vertical-align: top;\n",
       "    }\n",
       "\n",
       "    .dataframe thead th {\n",
       "        text-align: right;\n",
       "    }\n",
       "</style>\n",
       "<table border=\"1\" class=\"dataframe\">\n",
       "  <thead>\n",
       "    <tr style=\"text-align: right;\">\n",
       "      <th></th>\n",
       "      <th>sex</th>\n",
       "      <th>age</th>\n",
       "      <th>foreign_worker</th>\n",
       "      <th>checking_status</th>\n",
       "      <th>duration</th>\n",
       "      <th>credit_history</th>\n",
       "      <th>purpose</th>\n",
       "      <th>credit_amount</th>\n",
       "      <th>savings_status</th>\n",
       "      <th>employment</th>\n",
       "      <th>...</th>\n",
       "      <th>property_magnitude</th>\n",
       "      <th>age_numeric</th>\n",
       "      <th>other_payment_plans</th>\n",
       "      <th>housing</th>\n",
       "      <th>existing_credits</th>\n",
       "      <th>job</th>\n",
       "      <th>num_dependents</th>\n",
       "      <th>own_telephone</th>\n",
       "      <th>marital_status</th>\n",
       "      <th>credit-risk</th>\n",
       "    </tr>\n",
       "  </thead>\n",
       "  <tbody>\n",
       "    <tr>\n",
       "      <th>0</th>\n",
       "      <td>male</td>\n",
       "      <td>aged</td>\n",
       "      <td>yes</td>\n",
       "      <td>&lt;0</td>\n",
       "      <td>6</td>\n",
       "      <td>critical/other existing credit</td>\n",
       "      <td>radio/tv</td>\n",
       "      <td>1169</td>\n",
       "      <td>no known savings</td>\n",
       "      <td>&gt;=7</td>\n",
       "      <td>...</td>\n",
       "      <td>real estate</td>\n",
       "      <td>67</td>\n",
       "      <td>none</td>\n",
       "      <td>own</td>\n",
       "      <td>2</td>\n",
       "      <td>skilled</td>\n",
       "      <td>1</td>\n",
       "      <td>yes</td>\n",
       "      <td>single</td>\n",
       "      <td>good</td>\n",
       "    </tr>\n",
       "    <tr>\n",
       "      <th>1</th>\n",
       "      <td>female</td>\n",
       "      <td>young</td>\n",
       "      <td>yes</td>\n",
       "      <td>0&lt;=X&lt;200</td>\n",
       "      <td>48</td>\n",
       "      <td>existing paid</td>\n",
       "      <td>radio/tv</td>\n",
       "      <td>5951</td>\n",
       "      <td>&lt;100</td>\n",
       "      <td>1&lt;=X&lt;4</td>\n",
       "      <td>...</td>\n",
       "      <td>real estate</td>\n",
       "      <td>22</td>\n",
       "      <td>none</td>\n",
       "      <td>own</td>\n",
       "      <td>1</td>\n",
       "      <td>skilled</td>\n",
       "      <td>1</td>\n",
       "      <td>none</td>\n",
       "      <td>div/dep/mar</td>\n",
       "      <td>bad</td>\n",
       "    </tr>\n",
       "    <tr>\n",
       "      <th>2</th>\n",
       "      <td>male</td>\n",
       "      <td>aged</td>\n",
       "      <td>yes</td>\n",
       "      <td>no checking</td>\n",
       "      <td>12</td>\n",
       "      <td>critical/other existing credit</td>\n",
       "      <td>education</td>\n",
       "      <td>2096</td>\n",
       "      <td>&lt;100</td>\n",
       "      <td>4&lt;=X&lt;7</td>\n",
       "      <td>...</td>\n",
       "      <td>real estate</td>\n",
       "      <td>49</td>\n",
       "      <td>none</td>\n",
       "      <td>own</td>\n",
       "      <td>1</td>\n",
       "      <td>unskilled resident</td>\n",
       "      <td>2</td>\n",
       "      <td>none</td>\n",
       "      <td>single</td>\n",
       "      <td>good</td>\n",
       "    </tr>\n",
       "    <tr>\n",
       "      <th>3</th>\n",
       "      <td>male</td>\n",
       "      <td>aged</td>\n",
       "      <td>yes</td>\n",
       "      <td>&lt;0</td>\n",
       "      <td>42</td>\n",
       "      <td>existing paid</td>\n",
       "      <td>furniture/equipment</td>\n",
       "      <td>7882</td>\n",
       "      <td>&lt;100</td>\n",
       "      <td>4&lt;=X&lt;7</td>\n",
       "      <td>...</td>\n",
       "      <td>life insurance</td>\n",
       "      <td>45</td>\n",
       "      <td>none</td>\n",
       "      <td>for free</td>\n",
       "      <td>1</td>\n",
       "      <td>skilled</td>\n",
       "      <td>2</td>\n",
       "      <td>none</td>\n",
       "      <td>single</td>\n",
       "      <td>good</td>\n",
       "    </tr>\n",
       "    <tr>\n",
       "      <th>4</th>\n",
       "      <td>male</td>\n",
       "      <td>aged</td>\n",
       "      <td>yes</td>\n",
       "      <td>&lt;0</td>\n",
       "      <td>24</td>\n",
       "      <td>delayed previously</td>\n",
       "      <td>new car</td>\n",
       "      <td>4870</td>\n",
       "      <td>&lt;100</td>\n",
       "      <td>1&lt;=X&lt;4</td>\n",
       "      <td>...</td>\n",
       "      <td>no known property</td>\n",
       "      <td>53</td>\n",
       "      <td>none</td>\n",
       "      <td>for free</td>\n",
       "      <td>2</td>\n",
       "      <td>skilled</td>\n",
       "      <td>2</td>\n",
       "      <td>none</td>\n",
       "      <td>single</td>\n",
       "      <td>bad</td>\n",
       "    </tr>\n",
       "  </tbody>\n",
       "</table>\n",
       "<p>5 rows × 23 columns</p>\n",
       "</div>"
      ],
      "text/plain": [
       "      sex    age foreign_worker checking_status  duration  \\\n",
       "0    male   aged            yes              <0         6   \n",
       "1  female  young            yes        0<=X<200        48   \n",
       "2    male   aged            yes     no checking        12   \n",
       "3    male   aged            yes              <0        42   \n",
       "4    male   aged            yes              <0        24   \n",
       "\n",
       "                   credit_history              purpose  credit_amount  \\\n",
       "0  critical/other existing credit             radio/tv           1169   \n",
       "1                   existing paid             radio/tv           5951   \n",
       "2  critical/other existing credit            education           2096   \n",
       "3                   existing paid  furniture/equipment           7882   \n",
       "4              delayed previously              new car           4870   \n",
       "\n",
       "     savings_status employment  ...  property_magnitude age_numeric  \\\n",
       "0  no known savings        >=7  ...         real estate          67   \n",
       "1              <100     1<=X<4  ...         real estate          22   \n",
       "2              <100     4<=X<7  ...         real estate          49   \n",
       "3              <100     4<=X<7  ...      life insurance          45   \n",
       "4              <100     1<=X<4  ...   no known property          53   \n",
       "\n",
       "   other_payment_plans   housing  existing_credits                 job  \\\n",
       "0                 none       own                 2             skilled   \n",
       "1                 none       own                 1             skilled   \n",
       "2                 none       own                 1  unskilled resident   \n",
       "3                 none  for free                 1             skilled   \n",
       "4                 none  for free                 2             skilled   \n",
       "\n",
       "  num_dependents  own_telephone marital_status  credit-risk  \n",
       "0              1            yes         single         good  \n",
       "1              1           none    div/dep/mar          bad  \n",
       "2              2           none         single         good  \n",
       "3              2           none         single         good  \n",
       "4              2           none         single          bad  \n",
       "\n",
       "[5 rows x 23 columns]"
      ]
     },
     "execution_count": 4,
     "metadata": {},
     "output_type": "execute_result"
    }
   ],
   "source": [
    "# Los manipularemos para dejarlos en el formato habitual.\n",
    "\n",
    "df = (\n",
    "    pd.concat([X, y], axis=1)\n",
    "    .drop(columns=[\"sex\", \"foreign_worker\"])\n",
    "    .rename(columns={\"age\": \"age_numeric\"})\n",
    "    .reset_index()\n",
    ")\n",
    "df.head()"
   ]
  },
  {
   "cell_type": "code",
   "execution_count": null,
   "metadata": {
    "colab": {
     "base_uri": "https://localhost:8080/"
    },
    "executionInfo": {
     "elapsed": 14,
     "status": "ok",
     "timestamp": 1691567731906,
     "user": {
      "displayName": "Diego Rodríguez",
      "userId": "02273920844464973837"
     },
     "user_tz": 240
    },
    "id": "_tY9Vjen1StS",
    "outputId": "db34b21f-a087-43d2-e269-18b14d00841b"
   },
   "outputs": [
    {
     "name": "stdout",
     "output_type": "stream",
     "text": [
      "<class 'pandas.core.frame.DataFrame'>\n",
      "RangeIndex: 1000 entries, 0 to 999\n",
      "Data columns (total 23 columns):\n",
      " #   Column                  Non-Null Count  Dtype   \n",
      "---  ------                  --------------  -----   \n",
      " 0   sex                     1000 non-null   category\n",
      " 1   age_cat                 1000 non-null   category\n",
      " 2   foreign_worker          1000 non-null   category\n",
      " 3   checking_status         1000 non-null   category\n",
      " 4   duration                1000 non-null   int64   \n",
      " 5   credit_history          1000 non-null   category\n",
      " 6   purpose                 1000 non-null   category\n",
      " 7   credit_amount           1000 non-null   int64   \n",
      " 8   savings_status          1000 non-null   category\n",
      " 9   employment              1000 non-null   category\n",
      " 10  installment_commitment  1000 non-null   int64   \n",
      " 11  other_parties           1000 non-null   category\n",
      " 12  residence_since         1000 non-null   int64   \n",
      " 13  property_magnitude      1000 non-null   category\n",
      " 14  age                     1000 non-null   int64   \n",
      " 15  other_payment_plans     1000 non-null   category\n",
      " 16  housing                 1000 non-null   category\n",
      " 17  existing_credits        1000 non-null   int64   \n",
      " 18  job                     1000 non-null   category\n",
      " 19  num_dependents          1000 non-null   int64   \n",
      " 20  own_telephone           1000 non-null   category\n",
      " 21  marital_status          1000 non-null   category\n",
      " 22  credit-risk             1000 non-null   category\n",
      "dtypes: category(16), int64(7)\n",
      "memory usage: 71.3 KB\n"
     ]
    }
   ],
   "source": [
    "df = df.rename(columns={\"age\": \"age_cat\", \"age_numeric\": \"age\"})\n",
    "df.info()"
   ]
  },
  {
   "cell_type": "markdown",
   "metadata": {
    "id": "zZVIYFC929se"
   },
   "source": [
    "### Descripción de las columnas.\n",
    "\n",
    "**Atributos Numéricos**\n",
    "\n",
    "- `duration`: Duración en meses. Rango (4,72).\n",
    "- `credit_amount`: Cantidad de crédito solicitada. Rango (250, 18424) en DM - Marco alemán.\n",
    "- `installment_commitment`: Tasa de cuota en porcentaje del ingreso disponible. Rango (1,4).\n",
    "- `residence_since`: Tiempo de residencia actual. Rango (1,4).\n",
    "- `age`: Edad en años. Rango (19, 75).\n",
    "- `existing_credits`: Número de créditos existentes en este banco. Rango (1,4) en DM - Marco alemán.\n",
    "- `num_dependents`: Número de personas responsables de proveer el mantenimiento. Rango (1,2).\n",
    "\n",
    "**Atributos Categóricos**\n",
    "\n",
    "- `checking_status`: Valores `'0<=X<200', '<0', '>=200', 'no checking'`.\n",
    "- `credit_history`: Historial crediticio del solicitante. Valores `['all paid', 'critical/other existing credit', 'delayed previously', 'existing paid', 'no credits/all paid']`.\n",
    "- `purpose`: Motivo por el cual el solicitante solicitó un préstamo. Valores `['business', 'domestic appliance', 'education', 'furniture/equipment', 'new car', 'other', 'radio/tv', 'repairs', 'retraining', 'used car']`.\n",
    "- `savings_status`: Cuenta de ahorros/bonos. Valores `['100<=X<500', '500<=X<1000', '<100', '>=1000', 'no known savings']`.\n",
    "- `employment`: Empleo actual desde (en años). Valores `['1<=X<4', '4<=X<7', '<1', '>=7', 'unemployed']`.\n",
    "- `other_parties`: Otros deudores / garantes. Valores `['co applicant', 'guarantor', 'none']`.\n",
    "- `property_magnitude`: Bienes del solicitante. Valores `['car', 'life insurance', 'no known property', 'real estate']`.\n",
    "- `other_payment_plans`: Otros planes de pago a plazos. Valores `['bank', 'none', 'stores']`.\n",
    "- `housing`: Situación de vivienda del solicitante. Valores `['for free', 'own', 'rent']`.\n",
    "- `job`: Categorías de empleo definidas por el banco. Valores `['high qualif/self emp/mgmt', 'skilled', 'unemp/unskilled non res', 'unskilled resident']`.\n",
    "- `own_telephone`: Si hay un teléfono registrado a nombre del cliente. Valores `['none', 'yes']`.\n",
    "- `foreign_worker`: **Atributo protegido**. Valores `['no', 'yes']`.\n",
    "- `sex`: **Atributo protegido**. Valores `['female', 'male']`.\n",
    "- `marital_status`: Estado civil. Valores `['div/dep/mar', 'div/sep', 'mar/wid', 'single']`.\n",
    "\n",
    "**Etiqueta**\n",
    "\n",
    "- `credit-risk`: `'good'` (favorable) o `'bad'` (desfavorable)."
   ]
  },
  {
   "cell_type": "markdown",
   "metadata": {
    "id": "xS_bRYif67r3"
   },
   "source": [
    "## Análisis exploratorio.\n",
    "\n",
    "Es importante que conozcamos las características de los datos con los que estamos trabajando."
   ]
  },
  {
   "cell_type": "code",
   "execution_count": 6,
   "metadata": {
    "colab": {
     "base_uri": "https://localhost:8080/",
     "height": 488
    },
    "executionInfo": {
     "elapsed": 413,
     "status": "ok",
     "timestamp": 1691567732309,
     "user": {
      "displayName": "Diego Rodríguez",
      "userId": "02273920844464973837"
     },
     "user_tz": 240
    },
    "id": "rP9ui0NK69lA",
    "outputId": "8ed86385-8811-4db6-d63f-6da7c6bce853"
   },
   "outputs": [
    {
     "data": {
      "image/png": "[encoded data removed]",
      "text/plain": [
       "<Figure size 500x500 with 1 Axes>"
      ]
     },
     "metadata": {},
     "output_type": "display_data"
    }
   ],
   "source": [
    "# Distribución por sexo\n",
    "\n",
    "fig, ax = plt.subplots(1, figsize=(5, 5))\n",
    "sns.countplot(data=df, x=\"sex\", hue=\"sex\", palette=palette, legend=False)\n",
    "ax.set_title(\"Distribución por sexo\")\n",
    "plt.show()"
   ]
  },
  {
   "cell_type": "code",
   "execution_count": 7,
   "metadata": {
    "colab": {
     "base_uri": "https://localhost:8080/"
    },
    "executionInfo": {
     "elapsed": 11,
     "status": "ok",
     "timestamp": 1691567732311,
     "user": {
      "displayName": "Diego Rodríguez",
      "userId": "02273920844464973837"
     },
     "user_tz": 240
    },
    "id": "cZy2YyTK-wlT",
    "outputId": "3b98c103-692b-4524-e8be-ce677e31037d"
   },
   "outputs": [
    {
     "data": {
      "text/plain": [
       "sex\n",
       "male      69.0\n",
       "female    31.0\n",
       "Name: proportion, dtype: float64"
      ]
     },
     "execution_count": 7,
     "metadata": {},
     "output_type": "execute_result"
    }
   ],
   "source": [
    "df[\"sex\"].value_counts(normalize=True) * 100"
   ]
  },
  {
   "cell_type": "markdown",
   "metadata": {
    "id": "kmWPPXYi_w9O"
   },
   "source": [
    "**Pregunta**: Vemos que existe un desbalanceo importante en la representación por género. ¿Qué consecuencias podría tener esto en nuestro modelo?"
   ]
  },
  {
   "cell_type": "code",
   "execution_count": 8,
   "metadata": {
    "colab": {
     "base_uri": "https://localhost:8080/",
     "height": 488
    },
    "executionInfo": {
     "elapsed": 730,
     "status": "ok",
     "timestamp": 1691567733036,
     "user": {
      "displayName": "Diego Rodríguez",
      "userId": "02273920844464973837"
     },
     "user_tz": 240
    },
    "id": "vuIvzS6qAfAN",
    "outputId": "d0bd619a-ffa7-4802-931c-953a9be67677"
   },
   "outputs": [
    {
     "data": {
      "image/png": "[encoded data removed]",
      "text/plain": [
       "<Figure size 1500x500 with 2 Axes>"
      ]
     },
     "metadata": {},
     "output_type": "display_data"
    }
   ],
   "source": [
    "# Distribución de la edad\n",
    "\n",
    "fig, ax = plt.subplots(1, 2, figsize=(15, 5))\n",
    "ax = ax.flatten()\n",
    "\n",
    "sns.histplot(data=df, x=\"age\", color=\"#30296f\", ax=ax[0])\n",
    "sns.countplot(\n",
    "    data=df, x=\"age_cat\", ax=ax[1], hue=\"age_cat\", palette=palette, legend=False\n",
    ")\n",
    "\n",
    "ax[0].set_title(\"Distribución de la edad\")\n",
    "ax[1].set_title(\"Nº registros por categoría de edad\")\n",
    "plt.show()"
   ]
  },
  {
   "cell_type": "code",
   "execution_count": 9,
   "metadata": {
    "colab": {
     "base_uri": "https://localhost:8080/",
     "height": 143
    },
    "executionInfo": {
     "elapsed": 15,
     "status": "ok",
     "timestamp": 1691567733037,
     "user": {
      "displayName": "Diego Rodríguez",
      "userId": "02273920844464973837"
     },
     "user_tz": 240
    },
    "id": "KW2STdJLCxjq",
    "outputId": "2a8cebbe-5fd7-4789-b876-a65b97409af3"
   },
   "outputs": [
    {
     "data": {
      "text/html": [
       "<div>\n",
       "<style scoped>\n",
       "    .dataframe tbody tr th:only-of-type {\n",
       "        vertical-align: middle;\n",
       "    }\n",
       "\n",
       "    .dataframe tbody tr th {\n",
       "        vertical-align: top;\n",
       "    }\n",
       "\n",
       "    .dataframe thead th {\n",
       "        text-align: right;\n",
       "    }\n",
       "</style>\n",
       "<table border=\"1\" class=\"dataframe\">\n",
       "  <thead>\n",
       "    <tr style=\"text-align: right;\">\n",
       "      <th>sex</th>\n",
       "      <th>female</th>\n",
       "      <th>male</th>\n",
       "    </tr>\n",
       "    <tr>\n",
       "      <th>age_cat</th>\n",
       "      <th></th>\n",
       "      <th></th>\n",
       "    </tr>\n",
       "  </thead>\n",
       "  <tbody>\n",
       "    <tr>\n",
       "      <th>young</th>\n",
       "      <td>10.5</td>\n",
       "      <td>8.5</td>\n",
       "    </tr>\n",
       "    <tr>\n",
       "      <th>aged</th>\n",
       "      <td>20.5</td>\n",
       "      <td>60.5</td>\n",
       "    </tr>\n",
       "  </tbody>\n",
       "</table>\n",
       "</div>"
      ],
      "text/plain": [
       "sex      female  male\n",
       "age_cat              \n",
       "young      10.5   8.5\n",
       "aged       20.5  60.5"
      ]
     },
     "execution_count": 9,
     "metadata": {},
     "output_type": "execute_result"
    }
   ],
   "source": [
    "# Interseccionalidad\n",
    "\n",
    "# Interseccionalidad sexo-edad. Proporción respecto del total\n",
    "\n",
    "pd.crosstab(\n",
    "    values=df[\"credit-risk\"],\n",
    "    columns=df[\"sex\"],\n",
    "    index=df[\"age_cat\"],\n",
    "    aggfunc=lambda x: len(x),\n",
    "    normalize=\"all\",\n",
    ") * 100"
   ]
  },
  {
   "cell_type": "markdown",
   "metadata": {
    "id": "wyUzupIzNd3q"
   },
   "source": [
    "Vemos que los hombres adultos (>= 25 años) representan más del 60% de los datos, mientras que las mujeres adultas representan el 20% de los datos."
   ]
  },
  {
   "cell_type": "code",
   "execution_count": 10,
   "metadata": {
    "colab": {
     "base_uri": "https://localhost:8080/",
     "height": 143
    },
    "executionInfo": {
     "elapsed": 14,
     "status": "ok",
     "timestamp": 1691567733038,
     "user": {
      "displayName": "Diego Rodríguez",
      "userId": "02273920844464973837"
     },
     "user_tz": 240
    },
    "id": "s8AyJnlUDEif",
    "outputId": "baf7cd11-10e7-42d9-f536-abc0e64730c0"
   },
   "outputs": [
    {
     "data": {
      "text/html": [
       "<div>\n",
       "<style scoped>\n",
       "    .dataframe tbody tr th:only-of-type {\n",
       "        vertical-align: middle;\n",
       "    }\n",
       "\n",
       "    .dataframe tbody tr th {\n",
       "        vertical-align: top;\n",
       "    }\n",
       "\n",
       "    .dataframe thead th {\n",
       "        text-align: right;\n",
       "    }\n",
       "</style>\n",
       "<table border=\"1\" class=\"dataframe\">\n",
       "  <thead>\n",
       "    <tr style=\"text-align: right;\">\n",
       "      <th>sex</th>\n",
       "      <th>female</th>\n",
       "      <th>male</th>\n",
       "    </tr>\n",
       "    <tr>\n",
       "      <th>age_cat</th>\n",
       "      <th></th>\n",
       "      <th></th>\n",
       "    </tr>\n",
       "  </thead>\n",
       "  <tbody>\n",
       "    <tr>\n",
       "      <th>young</th>\n",
       "      <td>55.263158</td>\n",
       "      <td>44.736842</td>\n",
       "    </tr>\n",
       "    <tr>\n",
       "      <th>aged</th>\n",
       "      <td>25.308642</td>\n",
       "      <td>74.691358</td>\n",
       "    </tr>\n",
       "  </tbody>\n",
       "</table>\n",
       "</div>"
      ],
      "text/plain": [
       "sex         female       male\n",
       "age_cat                      \n",
       "young    55.263158  44.736842\n",
       "aged     25.308642  74.691358"
      ]
     },
     "execution_count": 10,
     "metadata": {},
     "output_type": "execute_result"
    }
   ],
   "source": [
    "# Desglose de los grupos etáreos según sexo.\n",
    "\n",
    "pd.crosstab(\n",
    "    values=df[\"credit-risk\"],\n",
    "    columns=df[\"sex\"],\n",
    "    index=df[\"age_cat\"],\n",
    "    aggfunc=lambda x: len(x),\n",
    "    normalize=\"index\",\n",
    ") * 100"
   ]
  },
  {
   "cell_type": "code",
   "execution_count": 11,
   "metadata": {
    "colab": {
     "base_uri": "https://localhost:8080/",
     "height": 488
    },
    "executionInfo": {
     "elapsed": 483,
     "status": "ok",
     "timestamp": 1691567733509,
     "user": {
      "displayName": "Diego Rodríguez",
      "userId": "02273920844464973837"
     },
     "user_tz": 240
    },
    "id": "bt-nUPmLDfzW",
    "outputId": "f342067b-defc-4075-cafe-2528451c649a"
   },
   "outputs": [
    {
     "data": {
      "image/png": "[encoded data removed]",
      "text/plain": [
       "<Figure size 500x500 with 1 Axes>"
      ]
     },
     "metadata": {},
     "output_type": "display_data"
    }
   ],
   "source": [
    "# Distribución de la edad según sexo\n",
    "\n",
    "fig, ax = plt.subplots(1, figsize=(5, 5))\n",
    "sns.kdeplot(data=df, x=\"age\", hue=\"sex\", palette=palette)\n",
    "ax.set_title(\"Distribución de la edad según sexo\")\n",
    "plt.show()"
   ]
  },
  {
   "cell_type": "code",
   "execution_count": 12,
   "metadata": {
    "colab": {
     "base_uri": "https://localhost:8080/",
     "height": 488
    },
    "executionInfo": {
     "elapsed": 15,
     "status": "ok",
     "timestamp": 1691567733510,
     "user": {
      "displayName": "Diego Rodríguez",
      "userId": "02273920844464973837"
     },
     "user_tz": 240
    },
    "id": "yNr7muxnFEi8",
    "outputId": "982fe0d6-1501-4455-e2f9-1f6466edc885"
   },
   "outputs": [
    {
     "data": {
      "image/png": "[encoded data removed]",
      "text/plain": [
       "<Figure size 500x500 with 1 Axes>"
      ]
     },
     "metadata": {},
     "output_type": "display_data"
    }
   ],
   "source": [
    "# Distribución de la variable objetivo por edad\n",
    "\n",
    "fig, ax = plt.subplots(1, figsize=(5, 5))\n",
    "sns.countplot(data=df, x=\"age_cat\", hue=\"credit-risk\", palette=palette)\n",
    "ax.set_title(\"Distribución del riesgo por categoría de edad\")\n",
    "plt.show()"
   ]
  },
  {
   "cell_type": "code",
   "execution_count": 13,
   "metadata": {
    "colab": {
     "base_uri": "https://localhost:8080/",
     "height": 143
    },
    "executionInfo": {
     "elapsed": 15,
     "status": "ok",
     "timestamp": 1691567733511,
     "user": {
      "displayName": "Diego Rodríguez",
      "userId": "02273920844464973837"
     },
     "user_tz": 240
    },
    "id": "OzIoV0WGGper",
    "outputId": "78ce702b-8ae1-4613-ec9a-3c3fe7bac204"
   },
   "outputs": [
    {
     "data": {
      "text/html": [
       "<div>\n",
       "<style scoped>\n",
       "    .dataframe tbody tr th:only-of-type {\n",
       "        vertical-align: middle;\n",
       "    }\n",
       "\n",
       "    .dataframe tbody tr th {\n",
       "        vertical-align: top;\n",
       "    }\n",
       "\n",
       "    .dataframe thead th {\n",
       "        text-align: right;\n",
       "    }\n",
       "</style>\n",
       "<table border=\"1\" class=\"dataframe\">\n",
       "  <thead>\n",
       "    <tr style=\"text-align: right;\">\n",
       "      <th>credit-risk</th>\n",
       "      <th>bad</th>\n",
       "      <th>good</th>\n",
       "    </tr>\n",
       "    <tr>\n",
       "      <th>age_cat</th>\n",
       "      <th></th>\n",
       "      <th></th>\n",
       "    </tr>\n",
       "  </thead>\n",
       "  <tbody>\n",
       "    <tr>\n",
       "      <th>young</th>\n",
       "      <td>42.105263</td>\n",
       "      <td>57.894737</td>\n",
       "    </tr>\n",
       "    <tr>\n",
       "      <th>aged</th>\n",
       "      <td>27.160494</td>\n",
       "      <td>72.839506</td>\n",
       "    </tr>\n",
       "  </tbody>\n",
       "</table>\n",
       "</div>"
      ],
      "text/plain": [
       "credit-risk        bad       good\n",
       "age_cat                          \n",
       "young        42.105263  57.894737\n",
       "aged         27.160494  72.839506"
      ]
     },
     "execution_count": 13,
     "metadata": {},
     "output_type": "execute_result"
    }
   ],
   "source": [
    "# Desglose de los grupos etáreos según categoría de riesgo.\n",
    "\n",
    "pd.crosstab(\n",
    "    values=df[\"credit-risk\"],\n",
    "    columns=df[\"credit-risk\"],\n",
    "    index=df[\"age_cat\"],\n",
    "    aggfunc=lambda x: len(x),\n",
    "    normalize=\"index\",\n",
    ") * 100"
   ]
  },
  {
   "cell_type": "code",
   "execution_count": 14,
   "metadata": {
    "colab": {
     "base_uri": "https://localhost:8080/",
     "height": 488
    },
    "executionInfo": {
     "elapsed": 496,
     "status": "ok",
     "timestamp": 1691567733996,
     "user": {
      "displayName": "Diego Rodríguez",
      "userId": "02273920844464973837"
     },
     "user_tz": 240
    },
    "id": "C3JTvr6sJ-oA",
    "outputId": "49c41fa9-d6ba-42e9-e358-3333a7942d61"
   },
   "outputs": [
    {
     "data": {
      "image/png": "[encoded data removed]",
      "text/plain": [
       "<Figure size 500x500 with 1 Axes>"
      ]
     },
     "metadata": {},
     "output_type": "display_data"
    }
   ],
   "source": [
    "# Distribución de la variable objetivo por sexo\n",
    "\n",
    "fig, ax = plt.subplots(1, figsize=(5, 5))\n",
    "sns.countplot(data=df, x=\"sex\", hue=\"credit-risk\", palette=palette)\n",
    "ax.set_title(\"Distribución del riesgo por sexo\")\n",
    "plt.show()"
   ]
  },
  {
   "cell_type": "code",
   "execution_count": 15,
   "metadata": {
    "colab": {
     "base_uri": "https://localhost:8080/",
     "height": 143
    },
    "executionInfo": {
     "elapsed": 12,
     "status": "ok",
     "timestamp": 1691567733997,
     "user": {
      "displayName": "Diego Rodríguez",
      "userId": "02273920844464973837"
     },
     "user_tz": 240
    },
    "id": "FqFyCMK1KdNe",
    "outputId": "021f6c77-c989-4b00-c38a-14e7a06f927f"
   },
   "outputs": [
    {
     "data": {
      "text/html": [
       "<div>\n",
       "<style scoped>\n",
       "    .dataframe tbody tr th:only-of-type {\n",
       "        vertical-align: middle;\n",
       "    }\n",
       "\n",
       "    .dataframe tbody tr th {\n",
       "        vertical-align: top;\n",
       "    }\n",
       "\n",
       "    .dataframe thead th {\n",
       "        text-align: right;\n",
       "    }\n",
       "</style>\n",
       "<table border=\"1\" class=\"dataframe\">\n",
       "  <thead>\n",
       "    <tr style=\"text-align: right;\">\n",
       "      <th>credit-risk</th>\n",
       "      <th>bad</th>\n",
       "      <th>good</th>\n",
       "    </tr>\n",
       "    <tr>\n",
       "      <th>sex</th>\n",
       "      <th></th>\n",
       "      <th></th>\n",
       "    </tr>\n",
       "  </thead>\n",
       "  <tbody>\n",
       "    <tr>\n",
       "      <th>female</th>\n",
       "      <td>35.161290</td>\n",
       "      <td>64.838710</td>\n",
       "    </tr>\n",
       "    <tr>\n",
       "      <th>male</th>\n",
       "      <td>27.681159</td>\n",
       "      <td>72.318841</td>\n",
       "    </tr>\n",
       "  </tbody>\n",
       "</table>\n",
       "</div>"
      ],
      "text/plain": [
       "credit-risk        bad       good\n",
       "sex                              \n",
       "female       35.161290  64.838710\n",
       "male         27.681159  72.318841"
      ]
     },
     "execution_count": 15,
     "metadata": {},
     "output_type": "execute_result"
    }
   ],
   "source": [
    "# Desglose del sexo según categoría de riesgo.\n",
    "\n",
    "pd.crosstab(\n",
    "    values=df[\"credit-risk\"],\n",
    "    columns=df[\"credit-risk\"],\n",
    "    index=df[\"sex\"],\n",
    "    aggfunc=lambda x: len(x),\n",
    "    normalize=\"index\",\n",
    ") * 100"
   ]
  },
  {
   "cell_type": "code",
   "execution_count": 16,
   "metadata": {
    "colab": {
     "base_uri": "https://localhost:8080/",
     "height": 488
    },
    "executionInfo": {
     "elapsed": 489,
     "status": "ok",
     "timestamp": 1691567734477,
     "user": {
      "displayName": "Diego Rodríguez",
      "userId": "02273920844464973837"
     },
     "user_tz": 240
    },
    "id": "jQSpsgrEM3xa",
    "outputId": "d56f5fe4-af10-4a07-8b97-d18e6af1186b"
   },
   "outputs": [
    {
     "data": {
      "image/png": "[encoded data removed]",
      "text/plain": [
       "<Figure size 500x500 with 1 Axes>"
      ]
     },
     "metadata": {},
     "output_type": "display_data"
    }
   ],
   "source": [
    "# Distribución de la variable objetivo en trabajadores extranjeros.\n",
    "\n",
    "fig, ax = plt.subplots(1, figsize=(5, 5))\n",
    "sns.countplot(data=df, x=\"foreign_worker\", hue=\"credit-risk\", palette=palette)\n",
    "ax.set_title(\"Distribución del riesgo por sexo\")\n",
    "plt.show()"
   ]
  },
  {
   "cell_type": "code",
   "execution_count": 17,
   "metadata": {
    "colab": {
     "base_uri": "https://localhost:8080/",
     "height": 143
    },
    "executionInfo": {
     "elapsed": 25,
     "status": "ok",
     "timestamp": 1691567734477,
     "user": {
      "displayName": "Diego Rodríguez",
      "userId": "02273920844464973837"
     },
     "user_tz": 240
    },
    "id": "lA8ZUOItNFg_",
    "outputId": "38949e5d-001f-4fc5-e009-e6f0d12fcfea"
   },
   "outputs": [
    {
     "data": {
      "text/html": [
       "<div>\n",
       "<style scoped>\n",
       "    .dataframe tbody tr th:only-of-type {\n",
       "        vertical-align: middle;\n",
       "    }\n",
       "\n",
       "    .dataframe tbody tr th {\n",
       "        vertical-align: top;\n",
       "    }\n",
       "\n",
       "    .dataframe thead th {\n",
       "        text-align: right;\n",
       "    }\n",
       "</style>\n",
       "<table border=\"1\" class=\"dataframe\">\n",
       "  <thead>\n",
       "    <tr style=\"text-align: right;\">\n",
       "      <th>credit-risk</th>\n",
       "      <th>bad</th>\n",
       "      <th>good</th>\n",
       "    </tr>\n",
       "    <tr>\n",
       "      <th>foreign_worker</th>\n",
       "      <th></th>\n",
       "      <th></th>\n",
       "    </tr>\n",
       "  </thead>\n",
       "  <tbody>\n",
       "    <tr>\n",
       "      <th>no</th>\n",
       "      <td>10.810811</td>\n",
       "      <td>89.189189</td>\n",
       "    </tr>\n",
       "    <tr>\n",
       "      <th>yes</th>\n",
       "      <td>30.737279</td>\n",
       "      <td>69.262721</td>\n",
       "    </tr>\n",
       "  </tbody>\n",
       "</table>\n",
       "</div>"
      ],
      "text/plain": [
       "credit-risk           bad       good\n",
       "foreign_worker                      \n",
       "no              10.810811  89.189189\n",
       "yes             30.737279  69.262721"
      ]
     },
     "execution_count": 17,
     "metadata": {},
     "output_type": "execute_result"
    }
   ],
   "source": [
    "pd.crosstab(\n",
    "    values=df[\"credit-risk\"],\n",
    "    columns=df[\"credit-risk\"],\n",
    "    index=df[\"foreign_worker\"],\n",
    "    aggfunc=lambda x: len(x),\n",
    "    normalize=\"index\",\n",
    ") * 100"
   ]
  },
  {
   "cell_type": "markdown",
   "metadata": {
    "id": "84y74A79KqcM"
   },
   "source": [
    "**Pregunta**: ¿Tenemos discriminación hacia algún grupo en nuestros datos? Si es así, ¿estamos dispuestos a continuar con el entrenamiento de un modelo utilizando estos datos?"
   ]
  },
  {
   "cell_type": "markdown",
   "metadata": {
    "id": "KeKoweugLwtt"
   },
   "source": [
    "## Pre-procesamiento\n",
    "\n",
    "Haremos el pre-procesamiento de nuestros datos para poder trabajar con los algoritmos."
   ]
  },
  {
   "cell_type": "code",
   "execution_count": 18,
   "metadata": {
    "colab": {
     "base_uri": "https://localhost:8080/"
    },
    "executionInfo": {
     "elapsed": 24,
     "status": "ok",
     "timestamp": 1691567734478,
     "user": {
      "displayName": "Diego Rodríguez",
      "userId": "02273920844464973837"
     },
     "user_tz": 240
    },
    "id": "46NPwjzAO7ej",
    "outputId": "44d35c64-85ca-46e9-ae59-e3b628afc382"
   },
   "outputs": [
    {
     "name": "stdout",
     "output_type": "stream",
     "text": [
      "<class 'pandas.core.frame.DataFrame'>\n",
      "RangeIndex: 1000 entries, 0 to 999\n",
      "Data columns (total 23 columns):\n",
      " #   Column                  Non-Null Count  Dtype   \n",
      "---  ------                  --------------  -----   \n",
      " 0   sex                     1000 non-null   category\n",
      " 1   age_cat                 1000 non-null   category\n",
      " 2   foreign_worker          1000 non-null   category\n",
      " 3   checking_status         1000 non-null   category\n",
      " 4   duration                1000 non-null   int64   \n",
      " 5   credit_history          1000 non-null   category\n",
      " 6   purpose                 1000 non-null   category\n",
      " 7   credit_amount           1000 non-null   int64   \n",
      " 8   savings_status          1000 non-null   category\n",
      " 9   employment              1000 non-null   category\n",
      " 10  installment_commitment  1000 non-null   int64   \n",
      " 11  other_parties           1000 non-null   category\n",
      " 12  residence_since         1000 non-null   int64   \n",
      " 13  property_magnitude      1000 non-null   category\n",
      " 14  age                     1000 non-null   int64   \n",
      " 15  other_payment_plans     1000 non-null   category\n",
      " 16  housing                 1000 non-null   category\n",
      " 17  existing_credits        1000 non-null   int64   \n",
      " 18  job                     1000 non-null   category\n",
      " 19  num_dependents          1000 non-null   int64   \n",
      " 20  own_telephone           1000 non-null   category\n",
      " 21  marital_status          1000 non-null   category\n",
      " 22  credit-risk             1000 non-null   category\n",
      "dtypes: category(16), int64(7)\n",
      "memory usage: 71.3 KB\n"
     ]
    }
   ],
   "source": [
    "df.info()"
   ]
  },
  {
   "cell_type": "code",
   "execution_count": 19,
   "metadata": {
    "id": "OEoJ76ZpMOEI"
   },
   "outputs": [],
   "source": [
    "# Binarización de algunas variables.\n",
    "\n",
    "# Es importante establecer qué consideraremos 1 o 0 dependiendo de nuestros datos y su distribución.\n",
    "\n",
    "df[\"sex\"] = df[\"sex\"].map({\"male\": 1, \"female\": 0})\n",
    "df[\"age_cat\"] = df[\"age_cat\"].map({\"aged\": 1, \"young\": 0})\n",
    "df[\"foreign_worker\"] = df[\"foreign_worker\"].map({\"no\": 1, \"yes\": 0})\n",
    "df[\"credit-risk\"] = df[\"credit-risk\"].map({\"good\": 1, \"bad\": 0})"
   ]
  },
  {
   "cell_type": "code",
   "execution_count": 20,
   "metadata": {
    "id": "fGEMzR7vKx59"
   },
   "outputs": [],
   "source": [
    "# Separamos X e Y.\n",
    "\n",
    "X = df.loc[:, df.columns != \"credit-risk\"]\n",
    "y = df.loc[:, df.columns == \"credit-risk\"]"
   ]
  },
  {
   "cell_type": "code",
   "execution_count": 21,
   "metadata": {
    "id": "0k7IKSRnSLAb"
   },
   "outputs": [],
   "source": [
    "df1 = X.copy()"
   ]
  },
  {
   "cell_type": "code",
   "execution_count": 22,
   "metadata": {
    "colab": {
     "base_uri": "https://localhost:8080/",
     "height": 334
    },
    "executionInfo": {
     "elapsed": 22,
     "status": "ok",
     "timestamp": 1691567734481,
     "user": {
      "displayName": "Diego Rodríguez",
      "userId": "02273920844464973837"
     },
     "user_tz": 240
    },
    "id": "oTR9PWjhP1sh",
    "outputId": "1a6f2aa4-c315-401a-f1e9-d990e1bf0f8f"
   },
   "outputs": [
    {
     "data": {
      "text/html": [
       "<div>\n",
       "<style scoped>\n",
       "    .dataframe tbody tr th:only-of-type {\n",
       "        vertical-align: middle;\n",
       "    }\n",
       "\n",
       "    .dataframe tbody tr th {\n",
       "        vertical-align: top;\n",
       "    }\n",
       "\n",
       "    .dataframe thead th {\n",
       "        text-align: right;\n",
       "    }\n",
       "</style>\n",
       "<table border=\"1\" class=\"dataframe\">\n",
       "  <thead>\n",
       "    <tr style=\"text-align: right;\">\n",
       "      <th></th>\n",
       "      <th>sex</th>\n",
       "      <th>age_cat</th>\n",
       "      <th>foreign_worker</th>\n",
       "      <th>duration</th>\n",
       "      <th>credit_amount</th>\n",
       "      <th>installment_commitment</th>\n",
       "      <th>residence_since</th>\n",
       "      <th>age</th>\n",
       "      <th>existing_credits</th>\n",
       "      <th>num_dependents</th>\n",
       "      <th>...</th>\n",
       "      <th>high qualif/self emp/mgmt</th>\n",
       "      <th>unemp/unskilled non res</th>\n",
       "      <th>unskilled resident</th>\n",
       "      <th>skilled</th>\n",
       "      <th>none</th>\n",
       "      <th>yes</th>\n",
       "      <th>div/dep/mar</th>\n",
       "      <th>div/sep</th>\n",
       "      <th>mar/wid</th>\n",
       "      <th>single</th>\n",
       "    </tr>\n",
       "  </thead>\n",
       "  <tbody>\n",
       "    <tr>\n",
       "      <th>0</th>\n",
       "      <td>1</td>\n",
       "      <td>1</td>\n",
       "      <td>0</td>\n",
       "      <td>6</td>\n",
       "      <td>1169</td>\n",
       "      <td>4</td>\n",
       "      <td>4</td>\n",
       "      <td>67</td>\n",
       "      <td>2</td>\n",
       "      <td>1</td>\n",
       "      <td>...</td>\n",
       "      <td>False</td>\n",
       "      <td>False</td>\n",
       "      <td>False</td>\n",
       "      <td>True</td>\n",
       "      <td>False</td>\n",
       "      <td>True</td>\n",
       "      <td>False</td>\n",
       "      <td>False</td>\n",
       "      <td>False</td>\n",
       "      <td>True</td>\n",
       "    </tr>\n",
       "    <tr>\n",
       "      <th>1</th>\n",
       "      <td>0</td>\n",
       "      <td>0</td>\n",
       "      <td>0</td>\n",
       "      <td>48</td>\n",
       "      <td>5951</td>\n",
       "      <td>2</td>\n",
       "      <td>2</td>\n",
       "      <td>22</td>\n",
       "      <td>1</td>\n",
       "      <td>1</td>\n",
       "      <td>...</td>\n",
       "      <td>False</td>\n",
       "      <td>False</td>\n",
       "      <td>False</td>\n",
       "      <td>True</td>\n",
       "      <td>True</td>\n",
       "      <td>False</td>\n",
       "      <td>True</td>\n",
       "      <td>False</td>\n",
       "      <td>False</td>\n",
       "      <td>False</td>\n",
       "    </tr>\n",
       "    <tr>\n",
       "      <th>2</th>\n",
       "      <td>1</td>\n",
       "      <td>1</td>\n",
       "      <td>0</td>\n",
       "      <td>12</td>\n",
       "      <td>2096</td>\n",
       "      <td>2</td>\n",
       "      <td>3</td>\n",
       "      <td>49</td>\n",
       "      <td>1</td>\n",
       "      <td>2</td>\n",
       "      <td>...</td>\n",
       "      <td>False</td>\n",
       "      <td>False</td>\n",
       "      <td>True</td>\n",
       "      <td>False</td>\n",
       "      <td>True</td>\n",
       "      <td>False</td>\n",
       "      <td>False</td>\n",
       "      <td>False</td>\n",
       "      <td>False</td>\n",
       "      <td>True</td>\n",
       "    </tr>\n",
       "    <tr>\n",
       "      <th>3</th>\n",
       "      <td>1</td>\n",
       "      <td>1</td>\n",
       "      <td>0</td>\n",
       "      <td>42</td>\n",
       "      <td>7882</td>\n",
       "      <td>2</td>\n",
       "      <td>4</td>\n",
       "      <td>45</td>\n",
       "      <td>1</td>\n",
       "      <td>2</td>\n",
       "      <td>...</td>\n",
       "      <td>False</td>\n",
       "      <td>False</td>\n",
       "      <td>False</td>\n",
       "      <td>True</td>\n",
       "      <td>True</td>\n",
       "      <td>False</td>\n",
       "      <td>False</td>\n",
       "      <td>False</td>\n",
       "      <td>False</td>\n",
       "      <td>True</td>\n",
       "    </tr>\n",
       "    <tr>\n",
       "      <th>4</th>\n",
       "      <td>1</td>\n",
       "      <td>1</td>\n",
       "      <td>0</td>\n",
       "      <td>24</td>\n",
       "      <td>4870</td>\n",
       "      <td>3</td>\n",
       "      <td>4</td>\n",
       "      <td>53</td>\n",
       "      <td>2</td>\n",
       "      <td>2</td>\n",
       "      <td>...</td>\n",
       "      <td>False</td>\n",
       "      <td>False</td>\n",
       "      <td>False</td>\n",
       "      <td>True</td>\n",
       "      <td>True</td>\n",
       "      <td>False</td>\n",
       "      <td>False</td>\n",
       "      <td>False</td>\n",
       "      <td>False</td>\n",
       "      <td>True</td>\n",
       "    </tr>\n",
       "  </tbody>\n",
       "</table>\n",
       "<p>5 rows × 62 columns</p>\n",
       "</div>"
      ],
      "text/plain": [
       "  sex age_cat foreign_worker  duration  credit_amount  installment_commitment  \\\n",
       "0   1       1              0         6           1169                       4   \n",
       "1   0       0              0        48           5951                       2   \n",
       "2   1       1              0        12           2096                       2   \n",
       "3   1       1              0        42           7882                       2   \n",
       "4   1       1              0        24           4870                       3   \n",
       "\n",
       "   residence_since  age  existing_credits  num_dependents  ...  \\\n",
       "0                4   67                 2               1  ...   \n",
       "1                2   22                 1               1  ...   \n",
       "2                3   49                 1               2  ...   \n",
       "3                4   45                 1               2  ...   \n",
       "4                4   53                 2               2  ...   \n",
       "\n",
       "   high qualif/self emp/mgmt  unemp/unskilled non res  unskilled resident  \\\n",
       "0                      False                    False               False   \n",
       "1                      False                    False               False   \n",
       "2                      False                    False                True   \n",
       "3                      False                    False               False   \n",
       "4                      False                    False               False   \n",
       "\n",
       "   skilled   none    yes  div/dep/mar  div/sep  mar/wid  single  \n",
       "0     True  False   True        False    False    False    True  \n",
       "1     True   True  False         True    False    False   False  \n",
       "2    False   True  False        False    False    False    True  \n",
       "3     True   True  False        False    False    False    True  \n",
       "4     True   True  False        False    False    False    True  \n",
       "\n",
       "[5 rows x 62 columns]"
      ]
     },
     "execution_count": 22,
     "metadata": {},
     "output_type": "execute_result"
    }
   ],
   "source": [
    "# Obtenemos variables dummies\n",
    "\n",
    "ignore = [\"sex\", \"age_cat\", \"foreign_worker\"]\n",
    "for catcol in df1.select_dtypes(include=\"category\").columns:\n",
    "    if catcol in ignore:\n",
    "        pass\n",
    "    else:\n",
    "        dummies = pd.get_dummies(X[catcol])\n",
    "        X = pd.concat([X, dummies], axis=1).drop(columns=[catcol])\n",
    "\n",
    "X.head()"
   ]
  },
  {
   "cell_type": "code",
   "execution_count": 23,
   "metadata": {
    "id": "9f0k_lwPMArJ"
   },
   "outputs": [],
   "source": [
    "# Datos de entrenamiento y prueba\n",
    "\n",
    "X_train, X_test, y_train, y_test = train_test_split(\n",
    "    X, y, test_size=0.2, random_state=908\n",
    ")"
   ]
  },
  {
   "cell_type": "code",
   "execution_count": 24,
   "metadata": {
    "id": "jG0-6a2HW50u"
   },
   "outputs": [],
   "source": [
    "# No utilizaremos la edad (en su versión numérica)\n",
    "\n",
    "X_train.drop(columns=[\"age\"], inplace=True)\n",
    "X_test.drop(columns=[\"age\"], inplace=True)"
   ]
  },
  {
   "cell_type": "markdown",
   "metadata": {
    "id": "xYEoybk_jnPV"
   },
   "source": [
    "## ¿Discriminación en nuestros datos?\n",
    "\n",
    "Volvamos a la pregunta sobre si tenemos discriminación o no en nuestros datos. Una forma de medir la discriminación en nuestros datos es a través de AIF360, que nos facilita el cálculo de métricas. Para ello debemos seguir una serie de pasos para instanciar un BinaryLabelDatasetMetric.\n",
    "\n",
    "- #### **Statistical Parity Difference**.\n",
    "\n",
    "Corresponde a la diferencia entre la probabilidad de pertenecer a la clase positiva dado que se pertenece a la clase no privilegiada y  la probabilidad de pertenecer a la clase positiva dado que se pertenece a la clase privilegiada, es decir:\n",
    "\n",
    "$SP = Pr(Y = 1 | D = \\text{unprivileged})- Pr(Y = 1 | D = \\text{privileged})$\n",
    "\n",
    "Valores negativos de esta métrica podrían indicar la presencia de sesgo.\n",
    "\n",
    "- #### **Disparate Impact**.\n",
    "\n",
    "Es una métrica para medir fairness que compara la proporción de individuos que reciben un resultado positivo para el grupo privilegiado y el grupo no privilegiado. El cálculo es la proporción del grupo no privilegiado que recibe un resultado positivo dividida por la proporción del grupo privilegiado que recibe un resultado positivo.\n",
    "\n",
    "\n",
    "$DI = \\frac{Pr(Y = 1 | D = \\text{unprivileged})}{Pr(Y = 1 | D = \\text{privileged})}$\n",
    "\n"
   ]
  },
  {
   "cell_type": "code",
   "execution_count": 25,
   "metadata": {
    "id": "wG8o689Rnl4w"
   },
   "outputs": [],
   "source": [
    "# Necesitamos los datos de entrenamiento en conjunto con la etiqueta.\n",
    "\n",
    "df_train = X_train.copy()\n",
    "df_train[\"credit-score\"] = y_train"
   ]
  },
  {
   "cell_type": "markdown",
   "metadata": {
    "id": "LMcyEisSzDwv"
   },
   "source": [
    "### Discriminación por edad"
   ]
  },
  {
   "cell_type": "code",
   "execution_count": 26,
   "metadata": {
    "id": "rqbdgqWujq-C"
   },
   "outputs": [],
   "source": [
    "# Debemos definir nuestros grupos privilegiados y no privilegiados.\n",
    "\n",
    "privileged_groups = [{\"age_cat\": 1}]  # Aged\n",
    "unprivileged_groups = [{\"age_cat\": 0}]  # Young"
   ]
  },
  {
   "cell_type": "code",
   "execution_count": 27,
   "metadata": {
    "id": "TPzWidzmmSbt"
   },
   "outputs": [],
   "source": [
    "# Instanciamos BinaryLabelDataset con edad como atributo protegido\n",
    "\n",
    "attributes_params = dict(\n",
    "    protected_attribute_names=[\"age_cat\"], label_names=[\"credit-score\"]\n",
    ")\n",
    "dt_train = BinaryLabelDataset(df=df_train, **attributes_params) # type: ignore"
   ]
  },
  {
   "cell_type": "code",
   "execution_count": 28,
   "metadata": {
    "id": "bl0P6Nd4kCEN"
   },
   "outputs": [],
   "source": [
    "# Finalmente, la instancia de BinaryLabelDatasetMetric con la edad como atributo protegido.\n",
    "\n",
    "metric_age_train = BinaryLabelDatasetMetric(\n",
    "    dt_train,\n",
    "    unprivileged_groups=unprivileged_groups,\n",
    "    privileged_groups=privileged_groups,\n",
    ")"
   ]
  },
  {
   "cell_type": "markdown",
   "metadata": {
    "id": "lVnqeFkK0s5a"
   },
   "source": [
    "#### Métricas"
   ]
  },
  {
   "cell_type": "code",
   "execution_count": 29,
   "metadata": {
    "colab": {
     "base_uri": "https://localhost:8080/"
    },
    "executionInfo": {
     "elapsed": 22,
     "status": "ok",
     "timestamp": 1691567734485,
     "user": {
      "displayName": "Diego Rodríguez",
      "userId": "02273920844464973837"
     },
     "user_tz": 240
    },
    "id": "WKxlmLaOkKW6",
    "outputId": "f5352718-c4e9-4e56-de0e-d2665a8f6db6"
   },
   "outputs": [
    {
     "name": "stdout",
     "output_type": "stream",
     "text": [
      "Train Statistical Parity Difference (age): -0.13278706925580863\n"
     ]
    }
   ],
   "source": [
    "print(\n",
    "    f\"Train Statistical Parity Difference (age): {metric_age_train.mean_difference()}\"\n",
    ")"
   ]
  },
  {
   "cell_type": "markdown",
   "metadata": {
    "id": "Xc7FMhLL4XYe"
   },
   "source": [
    "### Discriminación por sexo"
   ]
  },
  {
   "cell_type": "code",
   "execution_count": 30,
   "metadata": {
    "id": "A0osIzsv4bLo"
   },
   "outputs": [],
   "source": [
    "# Debemos definir nuestros grupos privilegiados y no privilegiados.\n",
    "\n",
    "privileged_groups = [{\"sex\": 1}]  # Male\n",
    "unprivileged_groups = [{\"sex\": 0}]  # Female"
   ]
  },
  {
   "cell_type": "code",
   "execution_count": 31,
   "metadata": {
    "id": "1f0xo2kz4dRz"
   },
   "outputs": [],
   "source": [
    "# Instanciamos BinaryLabelDataset con el sexo como atributo protegido\n",
    "\n",
    "attributes_params = dict(\n",
    "    protected_attribute_names=[\"sex\"], label_names=[\"credit-score\"]\n",
    ")\n",
    "dt_train = BinaryLabelDataset(df=df_train, **attributes_params) # type: ignore"
   ]
  },
  {
   "cell_type": "code",
   "execution_count": 32,
   "metadata": {
    "id": "GPYIucy94gpG"
   },
   "outputs": [],
   "source": [
    "# Finalmente, la instancia de BinaryLabelDatasetMetric con el sexo como atributo protegido.\n",
    "\n",
    "metric_sex_train = BinaryLabelDatasetMetric(\n",
    "    dt_train,\n",
    "    unprivileged_groups=unprivileged_groups,\n",
    "    privileged_groups=privileged_groups,\n",
    ")"
   ]
  },
  {
   "cell_type": "markdown",
   "metadata": {
    "id": "eyVHYj4r4qfP"
   },
   "source": [
    "#### Métricas"
   ]
  },
  {
   "cell_type": "code",
   "execution_count": 33,
   "metadata": {
    "colab": {
     "base_uri": "https://localhost:8080/"
    },
    "executionInfo": {
     "elapsed": 5,
     "status": "ok",
     "timestamp": 1691567734826,
     "user": {
      "displayName": "Diego Rodríguez",
      "userId": "02273920844464973837"
     },
     "user_tz": 240
    },
    "id": "h4vWonsY4r5m",
    "outputId": "61b11f5e-1a7b-4697-a9bb-acf0fda84f38"
   },
   "outputs": [
    {
     "name": "stdout",
     "output_type": "stream",
     "text": [
      "Train Statistical Parity Difference (sex): -0.07291388962943213\n"
     ]
    }
   ],
   "source": [
    "print(\n",
    "    f\"Train Statistical Parity Difference (sex): {metric_sex_train.mean_difference()}\"\n",
    ")"
   ]
  },
  {
   "cell_type": "markdown",
   "metadata": {
    "id": "1jA7JFyjAY0Y"
   },
   "source": [
    "**Pregunta**: Las métricas nos indican que existe sesgo con respecto al sexo y a la edad en nuestros datos de entrenamiento. Supongamos que entrenamos un modelo con estos datos. ¿Qué sucederá con estos sesgos dentro del modelo? ¿Serán replicados, ignorados o amplificados?"
   ]
  },
  {
   "cell_type": "markdown",
   "metadata": {
    "id": "Pzr1_4Q5gqD3"
   },
   "source": [
    "## Entrenamiento del modelo base\n",
    "\n",
    "Estaremos utilizando una Regresión Logística como modelo base."
   ]
  },
  {
   "cell_type": "code",
   "execution_count": 34,
   "metadata": {
    "colab": {
     "base_uri": "https://localhost:8080/",
     "height": 75
    },
    "executionInfo": {
     "elapsed": 338,
     "status": "ok",
     "timestamp": 1691567735160,
     "user": {
      "displayName": "Diego Rodríguez",
      "userId": "02273920844464973837"
     },
     "user_tz": 240
    },
    "id": "CHtJ59iWUkX4",
    "outputId": "95450914-0819-41e1-ffd6-39e7498505a6"
   },
   "outputs": [
    {
     "data": {
      "text/html": [
       "<style>#sk-container-id-1 {\n",
       "  /* Definition of color scheme common for light and dark mode */\n",
       "  --sklearn-color-text: #000;\n",
       "  --sklearn-color-text-muted: #666;\n",
       "  --sklearn-color-line: gray;\n",
       "  /* Definition of color scheme for unfitted estimators */\n",
       "  --sklearn-color-unfitted-level-0: #fff5e6;\n",
       "  --sklearn-color-unfitted-level-1: #f6e4d2;\n",
       "  --sklearn-color-unfitted-level-2: #ffe0b3;\n",
       "  --sklearn-color-unfitted-level-3: chocolate;\n",
       "  /* Definition of color scheme for fitted estimators */\n",
       "  --sklearn-color-fitted-level-0: #f0f8ff;\n",
       "  --sklearn-color-fitted-level-1: #d4ebff;\n",
       "  --sklearn-color-fitted-level-2: #b3dbfd;\n",
       "  --sklearn-color-fitted-level-3: cornflowerblue;\n",
       "\n",
       "  /* Specific color for light theme */\n",
       "  --sklearn-color-text-on-default-background: var(--sg-text-color, var(--theme-code-foreground, var(--jp-content-font-color1, black)));\n",
       "  --sklearn-color-background: var(--sg-background-color, var(--theme-background, var(--jp-layout-color0, white)));\n",
       "  --sklearn-color-border-box: var(--sg-text-color, var(--theme-code-foreground, var(--jp-content-font-color1, black)));\n",
       "  --sklearn-color-icon: #696969;\n",
       "\n",
       "  @media (prefers-color-scheme: dark) {\n",
       "    /* Redefinition of color scheme for dark theme */\n",
       "    --sklearn-color-text-on-default-background: var(--sg-text-color, var(--theme-code-foreground, var(--jp-content-font-color1, white)));\n",
       "    --sklearn-color-background: var(--sg-background-color, var(--theme-background, var(--jp-layout-color0, #111)));\n",
       "    --sklearn-color-border-box: var(--sg-text-color, var(--theme-code-foreground, var(--jp-content-font-color1, white)));\n",
       "    --sklearn-color-icon: #878787;\n",
       "  }\n",
       "}\n",
       "\n",
       "#sk-container-id-1 {\n",
       "  color: var(--sklearn-color-text);\n",
       "}\n",
       "\n",
       "#sk-container-id-1 pre {\n",
       "  padding: 0;\n",
       "}\n",
       "\n",
       "#sk-container-id-1 input.sk-hidden--visually {\n",
       "  border: 0;\n",
       "  clip: rect(1px 1px 1px 1px);\n",
       "  clip: rect(1px, 1px, 1px, 1px);\n",
       "  height: 1px;\n",
       "  margin: -1px;\n",
       "  overflow: hidden;\n",
       "  padding: 0;\n",
       "  position: absolute;\n",
       "  width: 1px;\n",
       "}\n",
       "\n",
       "#sk-container-id-1 div.sk-dashed-wrapped {\n",
       "  border: 1px dashed var(--sklearn-color-line);\n",
       "  margin: 0 0.4em 0.5em 0.4em;\n",
       "  box-sizing: border-box;\n",
       "  padding-bottom: 0.4em;\n",
       "  background-color: var(--sklearn-color-background);\n",
       "}\n",
       "\n",
       "#sk-container-id-1 div.sk-container {\n",
       "  /* jupyter's `normalize.less` sets `[hidden] { display: none; }`\n",
       "     but bootstrap.min.css set `[hidden] { display: none !important; }`\n",
       "     so we also need the `!important` here to be able to override the\n",
       "     default hidden behavior on the sphinx rendered scikit-learn.org.\n",
       "     See: https://github.com/scikit-learn/scikit-learn/issues/21755 */\n",
       "  display: inline-block !important;\n",
       "  position: relative;\n",
       "}\n",
       "\n",
       "#sk-container-id-1 div.sk-text-repr-fallback {\n",
       "  display: none;\n",
       "}\n",
       "\n",
       "div.sk-parallel-item,\n",
       "div.sk-serial,\n",
       "div.sk-item {\n",
       "  /* draw centered vertical line to link estimators */\n",
       "  background-image: linear-gradient(var(--sklearn-color-text-on-default-background), var(--sklearn-color-text-on-default-background));\n",
       "  background-size: 2px 100%;\n",
       "  background-repeat: no-repeat;\n",
       "  background-position: center center;\n",
       "}\n",
       "\n",
       "/* Parallel-specific style estimator block */\n",
       "\n",
       "#sk-container-id-1 div.sk-parallel-item::after {\n",
       "  content: \"\";\n",
       "  width: 100%;\n",
       "  border-bottom: 2px solid var(--sklearn-color-text-on-default-background);\n",
       "  flex-grow: 1;\n",
       "}\n",
       "\n",
       "#sk-container-id-1 div.sk-parallel {\n",
       "  display: flex;\n",
       "  align-items: stretch;\n",
       "  justify-content: center;\n",
       "  background-color: var(--sklearn-color-background);\n",
       "  position: relative;\n",
       "}\n",
       "\n",
       "#sk-container-id-1 div.sk-parallel-item {\n",
       "  display: flex;\n",
       "  flex-direction: column;\n",
       "}\n",
       "\n",
       "#sk-container-id-1 div.sk-parallel-item:first-child::after {\n",
       "  align-self: flex-end;\n",
       "  width: 50%;\n",
       "}\n",
       "\n",
       "#sk-container-id-1 div.sk-parallel-item:last-child::after {\n",
       "  align-self: flex-start;\n",
       "  width: 50%;\n",
       "}\n",
       "\n",
       "#sk-container-id-1 div.sk-parallel-item:only-child::after {\n",
       "  width: 0;\n",
       "}\n",
       "\n",
       "/* Serial-specific style estimator block */\n",
       "\n",
       "#sk-container-id-1 div.sk-serial {\n",
       "  display: flex;\n",
       "  flex-direction: column;\n",
       "  align-items: center;\n",
       "  background-color: var(--sklearn-color-background);\n",
       "  padding-right: 1em;\n",
       "  padding-left: 1em;\n",
       "}\n",
       "\n",
       "\n",
       "/* Toggleable style: style used for estimator/Pipeline/ColumnTransformer box that is\n",
       "clickable and can be expanded/collapsed.\n",
       "- Pipeline and ColumnTransformer use this feature and define the default style\n",
       "- Estimators will overwrite some part of the style using the `sk-estimator` class\n",
       "*/\n",
       "\n",
       "/* Pipeline and ColumnTransformer style (default) */\n",
       "\n",
       "#sk-container-id-1 div.sk-toggleable {\n",
       "  /* Default theme specific background. It is overwritten whether we have a\n",
       "  specific estimator or a Pipeline/ColumnTransformer */\n",
       "  background-color: var(--sklearn-color-background);\n",
       "}\n",
       "\n",
       "/* Toggleable label */\n",
       "#sk-container-id-1 label.sk-toggleable__label {\n",
       "  cursor: pointer;\n",
       "  display: flex;\n",
       "  width: 100%;\n",
       "  margin-bottom: 0;\n",
       "  padding: 0.5em;\n",
       "  box-sizing: border-box;\n",
       "  text-align: center;\n",
       "  align-items: start;\n",
       "  justify-content: space-between;\n",
       "  gap: 0.5em;\n",
       "}\n",
       "\n",
       "#sk-container-id-1 label.sk-toggleable__label .caption {\n",
       "  font-size: 0.6rem;\n",
       "  font-weight: lighter;\n",
       "  color: var(--sklearn-color-text-muted);\n",
       "}\n",
       "\n",
       "#sk-container-id-1 label.sk-toggleable__label-arrow:before {\n",
       "  /* Arrow on the left of the label */\n",
       "  content: \"▸\";\n",
       "  float: left;\n",
       "  margin-right: 0.25em;\n",
       "  color: var(--sklearn-color-icon);\n",
       "}\n",
       "\n",
       "#sk-container-id-1 label.sk-toggleable__label-arrow:hover:before {\n",
       "  color: var(--sklearn-color-text);\n",
       "}\n",
       "\n",
       "/* Toggleable content - dropdown */\n",
       "\n",
       "#sk-container-id-1 div.sk-toggleable__content {\n",
       "  max-height: 0;\n",
       "  max-width: 0;\n",
       "  overflow: hidden;\n",
       "  text-align: left;\n",
       "  /* unfitted */\n",
       "  background-color: var(--sklearn-color-unfitted-level-0);\n",
       "}\n",
       "\n",
       "#sk-container-id-1 div.sk-toggleable__content.fitted {\n",
       "  /* fitted */\n",
       "  background-color: var(--sklearn-color-fitted-level-0);\n",
       "}\n",
       "\n",
       "#sk-container-id-1 div.sk-toggleable__content pre {\n",
       "  margin: 0.2em;\n",
       "  border-radius: 0.25em;\n",
       "  color: var(--sklearn-color-text);\n",
       "  /* unfitted */\n",
       "  background-color: var(--sklearn-color-unfitted-level-0);\n",
       "}\n",
       "\n",
       "#sk-container-id-1 div.sk-toggleable__content.fitted pre {\n",
       "  /* unfitted */\n",
       "  background-color: var(--sklearn-color-fitted-level-0);\n",
       "}\n",
       "\n",
       "#sk-container-id-1 input.sk-toggleable__control:checked~div.sk-toggleable__content {\n",
       "  /* Expand drop-down */\n",
       "  max-height: 200px;\n",
       "  max-width: 100%;\n",
       "  overflow: auto;\n",
       "}\n",
       "\n",
       "#sk-container-id-1 input.sk-toggleable__control:checked~label.sk-toggleable__label-arrow:before {\n",
       "  content: \"▾\";\n",
       "}\n",
       "\n",
       "/* Pipeline/ColumnTransformer-specific style */\n",
       "\n",
       "#sk-container-id-1 div.sk-label input.sk-toggleable__control:checked~label.sk-toggleable__label {\n",
       "  color: var(--sklearn-color-text);\n",
       "  background-color: var(--sklearn-color-unfitted-level-2);\n",
       "}\n",
       "\n",
       "#sk-container-id-1 div.sk-label.fitted input.sk-toggleable__control:checked~label.sk-toggleable__label {\n",
       "  background-color: var(--sklearn-color-fitted-level-2);\n",
       "}\n",
       "\n",
       "/* Estimator-specific style */\n",
       "\n",
       "/* Colorize estimator box */\n",
       "#sk-container-id-1 div.sk-estimator input.sk-toggleable__control:checked~label.sk-toggleable__label {\n",
       "  /* unfitted */\n",
       "  background-color: var(--sklearn-color-unfitted-level-2);\n",
       "}\n",
       "\n",
       "#sk-container-id-1 div.sk-estimator.fitted input.sk-toggleable__control:checked~label.sk-toggleable__label {\n",
       "  /* fitted */\n",
       "  background-color: var(--sklearn-color-fitted-level-2);\n",
       "}\n",
       "\n",
       "#sk-container-id-1 div.sk-label label.sk-toggleable__label,\n",
       "#sk-container-id-1 div.sk-label label {\n",
       "  /* The background is the default theme color */\n",
       "  color: var(--sklearn-color-text-on-default-background);\n",
       "}\n",
       "\n",
       "/* On hover, darken the color of the background */\n",
       "#sk-container-id-1 div.sk-label:hover label.sk-toggleable__label {\n",
       "  color: var(--sklearn-color-text);\n",
       "  background-color: var(--sklearn-color-unfitted-level-2);\n",
       "}\n",
       "\n",
       "/* Label box, darken color on hover, fitted */\n",
       "#sk-container-id-1 div.sk-label.fitted:hover label.sk-toggleable__label.fitted {\n",
       "  color: var(--sklearn-color-text);\n",
       "  background-color: var(--sklearn-color-fitted-level-2);\n",
       "}\n",
       "\n",
       "/* Estimator label */\n",
       "\n",
       "#sk-container-id-1 div.sk-label label {\n",
       "  font-family: monospace;\n",
       "  font-weight: bold;\n",
       "  display: inline-block;\n",
       "  line-height: 1.2em;\n",
       "}\n",
       "\n",
       "#sk-container-id-1 div.sk-label-container {\n",
       "  text-align: center;\n",
       "}\n",
       "\n",
       "/* Estimator-specific */\n",
       "#sk-container-id-1 div.sk-estimator {\n",
       "  font-family: monospace;\n",
       "  border: 1px dotted var(--sklearn-color-border-box);\n",
       "  border-radius: 0.25em;\n",
       "  box-sizing: border-box;\n",
       "  margin-bottom: 0.5em;\n",
       "  /* unfitted */\n",
       "  background-color: var(--sklearn-color-unfitted-level-0);\n",
       "}\n",
       "\n",
       "#sk-container-id-1 div.sk-estimator.fitted {\n",
       "  /* fitted */\n",
       "  background-color: var(--sklearn-color-fitted-level-0);\n",
       "}\n",
       "\n",
       "/* on hover */\n",
       "#sk-container-id-1 div.sk-estimator:hover {\n",
       "  /* unfitted */\n",
       "  background-color: var(--sklearn-color-unfitted-level-2);\n",
       "}\n",
       "\n",
       "#sk-container-id-1 div.sk-estimator.fitted:hover {\n",
       "  /* fitted */\n",
       "  background-color: var(--sklearn-color-fitted-level-2);\n",
       "}\n",
       "\n",
       "/* Specification for estimator info (e.g. \"i\" and \"?\") */\n",
       "\n",
       "/* Common style for \"i\" and \"?\" */\n",
       "\n",
       ".sk-estimator-doc-link,\n",
       "a:link.sk-estimator-doc-link,\n",
       "a:visited.sk-estimator-doc-link {\n",
       "  float: right;\n",
       "  font-size: smaller;\n",
       "  line-height: 1em;\n",
       "  font-family: monospace;\n",
       "  background-color: var(--sklearn-color-background);\n",
       "  border-radius: 1em;\n",
       "  height: 1em;\n",
       "  width: 1em;\n",
       "  text-decoration: none !important;\n",
       "  margin-left: 0.5em;\n",
       "  text-align: center;\n",
       "  /* unfitted */\n",
       "  border: var(--sklearn-color-unfitted-level-1) 1pt solid;\n",
       "  color: var(--sklearn-color-unfitted-level-1);\n",
       "}\n",
       "\n",
       ".sk-estimator-doc-link.fitted,\n",
       "a:link.sk-estimator-doc-link.fitted,\n",
       "a:visited.sk-estimator-doc-link.fitted {\n",
       "  /* fitted */\n",
       "  border: var(--sklearn-color-fitted-level-1) 1pt solid;\n",
       "  color: var(--sklearn-color-fitted-level-1);\n",
       "}\n",
       "\n",
       "/* On hover */\n",
       "div.sk-estimator:hover .sk-estimator-doc-link:hover,\n",
       ".sk-estimator-doc-link:hover,\n",
       "div.sk-label-container:hover .sk-estimator-doc-link:hover,\n",
       ".sk-estimator-doc-link:hover {\n",
       "  /* unfitted */\n",
       "  background-color: var(--sklearn-color-unfitted-level-3);\n",
       "  color: var(--sklearn-color-background);\n",
       "  text-decoration: none;\n",
       "}\n",
       "\n",
       "div.sk-estimator.fitted:hover .sk-estimator-doc-link.fitted:hover,\n",
       ".sk-estimator-doc-link.fitted:hover,\n",
       "div.sk-label-container:hover .sk-estimator-doc-link.fitted:hover,\n",
       ".sk-estimator-doc-link.fitted:hover {\n",
       "  /* fitted */\n",
       "  background-color: var(--sklearn-color-fitted-level-3);\n",
       "  color: var(--sklearn-color-background);\n",
       "  text-decoration: none;\n",
       "}\n",
       "\n",
       "/* Span, style for the box shown on hovering the info icon */\n",
       ".sk-estimator-doc-link span {\n",
       "  display: none;\n",
       "  z-index: 9999;\n",
       "  position: relative;\n",
       "  font-weight: normal;\n",
       "  right: .2ex;\n",
       "  padding: .5ex;\n",
       "  margin: .5ex;\n",
       "  width: min-content;\n",
       "  min-width: 20ex;\n",
       "  max-width: 50ex;\n",
       "  color: var(--sklearn-color-text);\n",
       "  box-shadow: 2pt 2pt 4pt #999;\n",
       "  /* unfitted */\n",
       "  background: var(--sklearn-color-unfitted-level-0);\n",
       "  border: .5pt solid var(--sklearn-color-unfitted-level-3);\n",
       "}\n",
       "\n",
       ".sk-estimator-doc-link.fitted span {\n",
       "  /* fitted */\n",
       "  background: var(--sklearn-color-fitted-level-0);\n",
       "  border: var(--sklearn-color-fitted-level-3);\n",
       "}\n",
       "\n",
       ".sk-estimator-doc-link:hover span {\n",
       "  display: block;\n",
       "}\n",
       "\n",
       "/* \"?\"-specific style due to the `<a>` HTML tag */\n",
       "\n",
       "#sk-container-id-1 a.estimator_doc_link {\n",
       "  float: right;\n",
       "  font-size: 1rem;\n",
       "  line-height: 1em;\n",
       "  font-family: monospace;\n",
       "  background-color: var(--sklearn-color-background);\n",
       "  border-radius: 1rem;\n",
       "  height: 1rem;\n",
       "  width: 1rem;\n",
       "  text-decoration: none;\n",
       "  /* unfitted */\n",
       "  color: var(--sklearn-color-unfitted-level-1);\n",
       "  border: var(--sklearn-color-unfitted-level-1) 1pt solid;\n",
       "}\n",
       "\n",
       "#sk-container-id-1 a.estimator_doc_link.fitted {\n",
       "  /* fitted */\n",
       "  border: var(--sklearn-color-fitted-level-1) 1pt solid;\n",
       "  color: var(--sklearn-color-fitted-level-1);\n",
       "}\n",
       "\n",
       "/* On hover */\n",
       "#sk-container-id-1 a.estimator_doc_link:hover {\n",
       "  /* unfitted */\n",
       "  background-color: var(--sklearn-color-unfitted-level-3);\n",
       "  color: var(--sklearn-color-background);\n",
       "  text-decoration: none;\n",
       "}\n",
       "\n",
       "#sk-container-id-1 a.estimator_doc_link.fitted:hover {\n",
       "  /* fitted */\n",
       "  background-color: var(--sklearn-color-fitted-level-3);\n",
       "}\n",
       "</style><div id=\"sk-container-id-1\" class=\"sk-top-container\"><div class=\"sk-text-repr-fallback\"><pre>LogisticRegressionCV(cv=10, random_state=908, solver=&#x27;liblinear&#x27;)</pre><b>In a Jupyter environment, please rerun this cell to show the HTML representation or trust the notebook. <br />On GitHub, the HTML representation is unable to render, please try loading this page with nbviewer.org.</b></div><div class=\"sk-container\" hidden><div class=\"sk-item\"><div class=\"sk-estimator fitted sk-toggleable\"><input class=\"sk-toggleable__control sk-hidden--visually\" id=\"sk-estimator-id-1\" type=\"checkbox\" checked><label for=\"sk-estimator-id-1\" class=\"sk-toggleable__label fitted sk-toggleable__label-arrow\"><div><div>LogisticRegressionCV</div></div><div><a class=\"sk-estimator-doc-link fitted\" rel=\"noreferrer\" target=\"_blank\" href=\"https://scikit-learn.org/1.6/modules/generated/sklearn.linear_model.LogisticRegressionCV.html\">?<span>Documentation for LogisticRegressionCV</span></a><span class=\"sk-estimator-doc-link fitted\">i<span>Fitted</span></span></div></label><div class=\"sk-toggleable__content fitted\"><pre>LogisticRegressionCV(cv=10, random_state=908, solver=&#x27;liblinear&#x27;)</pre></div> </div></div></div></div>"
      ],
      "text/plain": [
       "LogisticRegressionCV(cv=10, random_state=908, solver='liblinear')"
      ]
     },
     "execution_count": 34,
     "metadata": {},
     "output_type": "execute_result"
    }
   ],
   "source": [
    "# Regresión logística\n",
    "\n",
    "lr = LogisticRegressionCV(solver=\"liblinear\", cv=10, random_state=908)\n",
    "lr.fit(X_train, np.ravel(y_train))"
   ]
  },
  {
   "cell_type": "code",
   "execution_count": 35,
   "metadata": {
    "colab": {
     "base_uri": "https://localhost:8080/"
    },
    "executionInfo": {
     "elapsed": 13,
     "status": "ok",
     "timestamp": 1691567735161,
     "user": {
      "displayName": "Diego Rodríguez",
      "userId": "02273920844464973837"
     },
     "user_tz": 240
    },
    "id": "1sU0CqHlcfQY",
    "outputId": "27f101fb-3d2f-4654-8e46-09ade87aa759"
   },
   "outputs": [
    {
     "name": "stdout",
     "output_type": "stream",
     "text": [
      "Accuracy: 0.74\n",
      "Recall: 0.8686131386861314\n",
      "F1: 0.8206896551724138\n"
     ]
    }
   ],
   "source": [
    "# Métricas modelo base\n",
    "\n",
    "y_pred_proba = lr.predict_proba(X_test)[:, 1]\n",
    "y_pred = y_pred_proba >= 0.5\n",
    "\n",
    "print(f\"Accuracy: {accuracy_score(y_test, y_pred)}\")\n",
    "print(f\"Recall: {recall_score(y_test, y_pred)}\")\n",
    "print(f\"F1: {f1_score(y_test, y_pred)}\")"
   ]
  },
  {
   "cell_type": "markdown",
   "metadata": {
    "id": "vUCTvexy8yMf"
   },
   "source": [
    "### Sesgo del modelo base"
   ]
  },
  {
   "cell_type": "code",
   "execution_count": 36,
   "metadata": {
    "id": "aqfViBVk7wHx"
   },
   "outputs": [],
   "source": [
    "df_test = X_test.copy()\n",
    "df_test[\"credit-score\"] = y_pred"
   ]
  },
  {
   "cell_type": "code",
   "execution_count": 37,
   "metadata": {
    "id": "SGxOZ0Dr9rmh"
   },
   "outputs": [],
   "source": [
    "# Para facilitar el proceso\n",
    "\n",
    "def get_aif_metrics(attr, df):\n",
    "\n",
    "    privileged_groups = [{attr: 1}]\n",
    "    unprivileged_groups = [{attr: 0}]\n",
    "\n",
    "    attributes_params = dict(\n",
    "        protected_attribute_names=[attr], label_names=[\"credit-score\"]\n",
    "    )\n",
    "    dt = BinaryLabelDataset(df=df, **attributes_params) # type: ignore\n",
    "\n",
    "    metric = BinaryLabelDatasetMetric(\n",
    "        dt, unprivileged_groups=unprivileged_groups, privileged_groups=privileged_groups\n",
    "    )\n",
    "\n",
    "    return metric"
   ]
  },
  {
   "cell_type": "markdown",
   "metadata": {
    "id": "fXArZ2uS87ql"
   },
   "source": [
    "#### Discriminación por sexo"
   ]
  },
  {
   "cell_type": "code",
   "execution_count": 38,
   "metadata": {
    "colab": {
     "base_uri": "https://localhost:8080/"
    },
    "executionInfo": {
     "elapsed": 33,
     "status": "ok",
     "timestamp": 1691567735554,
     "user": {
      "displayName": "Diego Rodríguez",
      "userId": "02273920844464973837"
     },
     "user_tz": 240
    },
    "id": "PQnbsM_4-6WI",
    "outputId": "35a499ea-7250-4ea3-cc64-baadb5820d56"
   },
   "outputs": [
    {
     "name": "stdout",
     "output_type": "stream",
     "text": [
      "Test Statistical Parity Difference (sex): -0.1564171122994653\n",
      "Test Disparate Impact (sex): 0.8088235294117646\n"
     ]
    }
   ],
   "source": [
    "metric_sex_test = get_aif_metrics(\"sex\", df_test)\n",
    "print(f\"Test Statistical Parity Difference (sex): {metric_sex_test.mean_difference()}\")\n",
    "print(f\"Test Disparate Impact (sex): {metric_sex_test.disparate_impact()}\")"
   ]
  },
  {
   "cell_type": "markdown",
   "metadata": {
    "id": "zMUTI0lI9lNf"
   },
   "source": [
    "#### Discriminación por edad"
   ]
  },
  {
   "cell_type": "code",
   "execution_count": 39,
   "metadata": {
    "colab": {
     "base_uri": "https://localhost:8080/"
    },
    "executionInfo": {
     "elapsed": 29,
     "status": "ok",
     "timestamp": 1691567735555,
     "user": {
      "displayName": "Diego Rodríguez",
      "userId": "02273920844464973837"
     },
     "user_tz": 240
    },
    "id": "jUztxZt29iPZ",
    "outputId": "6bea0aca-e725-4c42-b8a4-7134710ccf12"
   },
   "outputs": [
    {
     "name": "stdout",
     "output_type": "stream",
     "text": [
      "Test Statistical Parity Difference (age): -0.2814142379359771\n",
      "Test Disparate Impact (age): 0.6567599067599067\n"
     ]
    }
   ],
   "source": [
    "metric_sex_test = get_aif_metrics(\"age_cat\", df_test)\n",
    "print(f\"Test Statistical Parity Difference (age): {metric_sex_test.mean_difference()}\")\n",
    "print(f\"Test Disparate Impact (age): {metric_sex_test.disparate_impact()}\")"
   ]
  },
  {
   "cell_type": "markdown",
   "metadata": {
    "id": "T2WWVF9MDJle"
   },
   "source": [
    "**Pregunta**: ¿Cómo es el sesgo de las predicciones de nuestro modelo respecto del sesgo presente en los datos de entrenamiento? Volvemos a una pregunta anterior: Ya evaluado el sesgo de este modelo ¿Lo implementarías? ¿Consideras importante que las métricas de sesgo formen parte de la evaluación del modelo?"
   ]
  },
  {
   "cell_type": "markdown",
   "metadata": {
    "id": "ZhS1VnAv_uqA"
   },
   "source": [
    "## Mitigación del sesgo en los datos de entrenamiento: Métodos de pre-procesamiento.\n",
    "\n",
    "Podemos implementar técnicas para la mitigación del sesgo en distintas etapas del ciclo de vida de nuestro modelo: contamos con algoritmos de pre-processing, in-processing y post-processing. En este taller nos enfocaremos en las técnicas de pre-procesamiento.\n",
    "\n",
    "Los algoritmos de preprocesamiento tienden a cambiar las distribuciones de las variables protegidas en las muestras, o en términos más amplios, aplican cambios particulares a los datos para eliminar cualquier sesgo **en los datos de entrenamiento**. Estos cambios podrían ser, por ejemplo, cambiar la etiqueta de ciertos registros. El concepto fundamental es entrenar un modelo utilizando un conjunto de datos que ha sido \"corregido\".\n",
    "\n",
    "En particular, estaremos aplicando la tecnica de **Reweighing**. Esta es una técnica de pre-procesamiento de datos que genera pesos para cada tupla según la combinación (grupo, etiqueta), para intentar mitigar el sesgo con respecto a los atributos sensibles antes de la clasificación.\n",
    "\n",
    "\n",
    "**Pregunta**: Supongamos que estamos encargados de defender los intereses del banco. En ese sentido, ¿qué podría interesarnos que se mantuviese constante a pesar de las intervenciones?\n",
    "\n",
    "En primer lugar, veamos como el Reweighing puede ayudar a eliminar el sesgo en los datos de entrenamiento."
   ]
  },
  {
   "cell_type": "code",
   "execution_count": 40,
   "metadata": {
    "colab": {
     "base_uri": "https://localhost:8080/"
    },
    "executionInfo": {
     "elapsed": 25,
     "status": "ok",
     "timestamp": 1691567735555,
     "user": {
      "displayName": "Diego Rodríguez",
      "userId": "02273920844464973837"
     },
     "user_tz": 240
    },
    "id": "KI6nJkpPA9D7",
    "outputId": "27c173de-93a3-4045-d0d1-c68e53608b5a"
   },
   "outputs": [
    {
     "data": {
      "text/plain": [
       "array([1., 1., 1., 1., 1., 1., 1., 1., 1., 1., 1., 1., 1., 1., 1., 1., 1.,\n",
       "       1., 1., 1., 1., 1., 1., 1., 1., 1., 1., 1., 1., 1., 1., 1., 1., 1.,\n",
       "       1., 1., 1., 1., 1., 1., 1., 1., 1., 1., 1., 1., 1., 1., 1., 1., 1.,\n",
       "       1., 1., 1., 1., 1., 1., 1., 1., 1., 1., 1., 1., 1., 1., 1., 1., 1.,\n",
       "       1., 1., 1., 1., 1., 1., 1., 1., 1., 1., 1., 1., 1., 1., 1., 1., 1.,\n",
       "       1., 1., 1., 1., 1., 1., 1., 1., 1., 1., 1., 1., 1., 1., 1., 1., 1.,\n",
       "       1., 1., 1., 1., 1., 1., 1., 1., 1., 1., 1., 1., 1., 1., 1., 1., 1.,\n",
       "       1., 1., 1., 1., 1., 1., 1., 1., 1., 1., 1., 1., 1., 1., 1., 1., 1.,\n",
       "       1., 1., 1., 1., 1., 1., 1., 1., 1., 1., 1., 1., 1., 1., 1., 1., 1.,\n",
       "       1., 1., 1., 1., 1., 1., 1., 1., 1., 1., 1., 1., 1., 1., 1., 1., 1.,\n",
       "       1., 1., 1., 1., 1., 1., 1., 1., 1., 1., 1., 1., 1., 1., 1., 1., 1.,\n",
       "       1., 1., 1., 1., 1., 1., 1., 1., 1., 1., 1., 1., 1., 1., 1., 1., 1.,\n",
       "       1., 1., 1., 1., 1., 1., 1., 1., 1., 1., 1., 1., 1., 1., 1., 1., 1.,\n",
       "       1., 1., 1., 1., 1., 1., 1., 1., 1., 1., 1., 1., 1., 1., 1., 1., 1.,\n",
       "       1., 1., 1., 1., 1., 1., 1., 1., 1., 1., 1., 1., 1., 1., 1., 1., 1.,\n",
       "       1., 1., 1., 1., 1., 1., 1., 1., 1., 1., 1., 1., 1., 1., 1., 1., 1.,\n",
       "       1., 1., 1., 1., 1., 1., 1., 1., 1., 1., 1., 1., 1., 1., 1., 1., 1.,\n",
       "       1., 1., 1., 1., 1., 1., 1., 1., 1., 1., 1., 1., 1., 1., 1., 1., 1.,\n",
       "       1., 1., 1., 1., 1., 1., 1., 1., 1., 1., 1., 1., 1., 1., 1., 1., 1.,\n",
       "       1., 1., 1., 1., 1., 1., 1., 1., 1., 1., 1., 1., 1., 1., 1., 1., 1.,\n",
       "       1., 1., 1., 1., 1., 1., 1., 1., 1., 1., 1., 1., 1., 1., 1., 1., 1.,\n",
       "       1., 1., 1., 1., 1., 1., 1., 1., 1., 1., 1., 1., 1., 1., 1., 1., 1.,\n",
       "       1., 1., 1., 1., 1., 1., 1., 1., 1., 1., 1., 1., 1., 1., 1., 1., 1.,\n",
       "       1., 1., 1., 1., 1., 1., 1., 1., 1., 1., 1., 1., 1., 1., 1., 1., 1.,\n",
       "       1., 1., 1., 1., 1., 1., 1., 1., 1., 1., 1., 1., 1., 1., 1., 1., 1.,\n",
       "       1., 1., 1., 1., 1., 1., 1., 1., 1., 1., 1., 1., 1., 1., 1., 1., 1.,\n",
       "       1., 1., 1., 1., 1., 1., 1., 1., 1., 1., 1., 1., 1., 1., 1., 1., 1.,\n",
       "       1., 1., 1., 1., 1., 1., 1., 1., 1., 1., 1., 1., 1., 1., 1., 1., 1.,\n",
       "       1., 1., 1., 1., 1., 1., 1., 1., 1., 1., 1., 1., 1., 1., 1., 1., 1.,\n",
       "       1., 1., 1., 1., 1., 1., 1., 1., 1., 1., 1., 1., 1., 1., 1., 1., 1.,\n",
       "       1., 1., 1., 1., 1., 1., 1., 1., 1., 1., 1., 1., 1., 1., 1., 1., 1.,\n",
       "       1., 1., 1., 1., 1., 1., 1., 1., 1., 1., 1., 1., 1., 1., 1., 1., 1.,\n",
       "       1., 1., 1., 1., 1., 1., 1., 1., 1., 1., 1., 1., 1., 1., 1., 1., 1.,\n",
       "       1., 1., 1., 1., 1., 1., 1., 1., 1., 1., 1., 1., 1., 1., 1., 1., 1.,\n",
       "       1., 1., 1., 1., 1., 1., 1., 1., 1., 1., 1., 1., 1., 1., 1., 1., 1.,\n",
       "       1., 1., 1., 1., 1., 1., 1., 1., 1., 1., 1., 1., 1., 1., 1., 1., 1.,\n",
       "       1., 1., 1., 1., 1., 1., 1., 1., 1., 1., 1., 1., 1., 1., 1., 1., 1.,\n",
       "       1., 1., 1., 1., 1., 1., 1., 1., 1., 1., 1., 1., 1., 1., 1., 1., 1.,\n",
       "       1., 1., 1., 1., 1., 1., 1., 1., 1., 1., 1., 1., 1., 1., 1., 1., 1.,\n",
       "       1., 1., 1., 1., 1., 1., 1., 1., 1., 1., 1., 1., 1., 1., 1., 1., 1.,\n",
       "       1., 1., 1., 1., 1., 1., 1., 1., 1., 1., 1., 1., 1., 1., 1., 1., 1.,\n",
       "       1., 1., 1., 1., 1., 1., 1., 1., 1., 1., 1., 1., 1., 1., 1., 1., 1.,\n",
       "       1., 1., 1., 1., 1., 1., 1., 1., 1., 1., 1., 1., 1., 1., 1., 1., 1.,\n",
       "       1., 1., 1., 1., 1., 1., 1., 1., 1., 1., 1., 1., 1., 1., 1., 1., 1.,\n",
       "       1., 1., 1., 1., 1., 1., 1., 1., 1., 1., 1., 1., 1., 1., 1., 1., 1.,\n",
       "       1., 1., 1., 1., 1., 1., 1., 1., 1., 1., 1., 1., 1., 1., 1., 1., 1.,\n",
       "       1., 1., 1., 1., 1., 1., 1., 1., 1., 1., 1., 1., 1., 1., 1., 1., 1.,\n",
       "       1.])"
      ]
     },
     "execution_count": 40,
     "metadata": {},
     "output_type": "execute_result"
    }
   ],
   "source": [
    "# Originalmente todas las tuplas tienen peso 1.\n",
    "\n",
    "dt_train.instance_weights"
   ]
  },
  {
   "cell_type": "markdown",
   "metadata": {
    "id": "AeVxZiS7D7EY"
   },
   "source": [
    "En este caso, estaremos enfocados en aplicar esta técnica para disminuir el sesgo con respecto a la categoría de edad."
   ]
  },
  {
   "cell_type": "code",
   "execution_count": 41,
   "metadata": {
    "id": "LWn-n9VAC9K8"
   },
   "outputs": [],
   "source": [
    "# Debemos definir nuestros grupos privilegiados y no privilegiados.\n",
    "\n",
    "privileged_groups = [{\"age_cat\": 1}]\n",
    "unprivileged_groups = [{\"age_cat\": 0}]\n",
    "\n",
    "# Instanciamos BinaryLabelDataset con edad como atributo protegido\n",
    "\n",
    "attributes_params = dict(\n",
    "    protected_attribute_names=[\"age_cat\"], label_names=[\"credit-score\"]\n",
    ")\n",
    "dt_train = BinaryLabelDataset(df=df_train, **attributes_params) # type: ignore\n",
    "\n",
    "# Instanciamos algoritmo de Reweighing\n",
    "\n",
    "reweight = Reweighing(\n",
    "    unprivileged_groups=unprivileged_groups, privileged_groups=privileged_groups\n",
    ")\n",
    "\n",
    "# Obtenemos los nuevos datos de entrenamiento (en formato BinaryLabelDataset)\n",
    "\n",
    "reweighted = reweight.fit_transform(dt_train)"
   ]
  },
  {
   "cell_type": "code",
   "execution_count": 42,
   "metadata": {
    "colab": {
     "base_uri": "https://localhost:8080/"
    },
    "executionInfo": {
     "elapsed": 23,
     "status": "ok",
     "timestamp": 1691567735556,
     "user": {
      "displayName": "Diego Rodríguez",
      "userId": "02273920844464973837"
     },
     "user_tz": 240
    },
    "id": "VjVzZBdqEbM5",
    "outputId": "f385e031-f163-40ca-e60c-37d44e9af66d"
   },
   "outputs": [
    {
     "data": {
      "text/plain": [
       "array([1.09242188, 1.18073611, 1.09242188, 0.96561047, 1.09242188,\n",
       "       0.96561047, 1.09242188, 1.18073611, 0.73334016, 0.96561047,\n",
       "       0.96561047, 0.96561047, 0.96561047, 0.96561047, 0.96561047,\n",
       "       1.09242188, 0.96561047, 0.96561047, 1.09242188, 0.96561047,\n",
       "       0.96561047, 0.96561047, 0.73334016, 0.96561047, 0.96561047,\n",
       "       0.96561047, 1.09242188, 0.96561047, 0.96561047, 0.96561047,\n",
       "       1.09242188, 1.09242188, 1.18073611, 0.96561047, 1.09242188,\n",
       "       0.96561047, 0.96561047, 0.96561047, 1.09242188, 0.96561047,\n",
       "       1.09242188, 1.09242188, 1.18073611, 0.96561047, 1.09242188,\n",
       "       0.96561047, 1.18073611, 1.18073611, 0.96561047, 0.96561047,\n",
       "       0.96561047, 0.96561047, 1.09242188, 0.96561047, 0.96561047,\n",
       "       1.09242188, 1.09242188, 0.96561047, 0.73334016, 0.96561047,\n",
       "       1.09242188, 0.96561047, 0.96561047, 0.73334016, 1.09242188,\n",
       "       1.09242188, 0.96561047, 0.96561047, 0.96561047, 0.96561047,\n",
       "       0.96561047, 1.09242188, 0.73334016, 0.96561047, 0.96561047,\n",
       "       1.09242188, 0.96561047, 0.96561047, 0.96561047, 0.96561047,\n",
       "       1.09242188, 0.96561047, 0.73334016, 0.96561047, 0.96561047,\n",
       "       0.96561047, 1.09242188, 1.09242188, 0.96561047, 1.18073611,\n",
       "       1.09242188, 0.96561047, 0.96561047, 1.09242188, 1.09242188,\n",
       "       0.73334016, 0.96561047, 0.96561047, 1.18073611, 1.09242188,\n",
       "       0.73334016, 0.96561047, 0.96561047, 0.96561047, 1.18073611,\n",
       "       1.09242188, 0.96561047, 0.96561047, 0.96561047, 1.09242188,\n",
       "       1.18073611, 0.96561047, 0.96561047, 0.73334016, 1.18073611,\n",
       "       1.09242188, 1.09242188, 0.96561047, 1.09242188, 0.96561047,\n",
       "       0.96561047, 1.09242188, 0.96561047, 0.96561047, 1.09242188,\n",
       "       0.96561047, 0.73334016, 0.96561047, 0.96561047, 1.18073611,\n",
       "       1.09242188, 0.96561047, 1.09242188, 0.96561047, 1.09242188,\n",
       "       1.09242188, 0.96561047, 1.18073611, 0.96561047, 0.96561047,\n",
       "       1.18073611, 1.09242188, 1.18073611, 1.09242188, 0.96561047,\n",
       "       0.96561047, 0.96561047, 0.96561047, 1.18073611, 1.09242188,\n",
       "       0.73334016, 1.09242188, 1.18073611, 0.96561047, 0.73334016,\n",
       "       1.18073611, 1.18073611, 0.96561047, 0.96561047, 0.96561047,\n",
       "       1.09242188, 0.96561047, 1.18073611, 0.73334016, 0.96561047,\n",
       "       0.96561047, 0.96561047, 0.96561047, 0.96561047, 0.96561047,\n",
       "       1.09242188, 0.96561047, 0.96561047, 1.18073611, 1.09242188,\n",
       "       0.96561047, 0.96561047, 0.96561047, 0.96561047, 0.96561047,\n",
       "       1.09242188, 1.18073611, 1.09242188, 1.09242188, 0.96561047,\n",
       "       0.96561047, 0.96561047, 0.96561047, 0.96561047, 0.96561047,\n",
       "       0.96561047, 0.96561047, 0.96561047, 1.18073611, 0.96561047,\n",
       "       1.18073611, 0.96561047, 0.96561047, 0.96561047, 0.96561047,\n",
       "       1.18073611, 0.96561047, 0.73334016, 0.73334016, 0.96561047,\n",
       "       1.09242188, 0.96561047, 1.18073611, 1.18073611, 0.96561047,\n",
       "       0.96561047, 0.96561047, 0.96561047, 0.73334016, 0.73334016,\n",
       "       1.09242188, 1.18073611, 0.96561047, 1.18073611, 0.96561047,\n",
       "       0.96561047, 1.18073611, 0.96561047, 0.96561047, 0.96561047,\n",
       "       1.18073611, 1.09242188, 0.73334016, 1.09242188, 0.73334016,\n",
       "       1.09242188, 0.96561047, 1.09242188, 0.96561047, 0.96561047,\n",
       "       1.09242188, 0.96561047, 0.96561047, 0.96561047, 1.09242188,\n",
       "       0.96561047, 1.18073611, 0.96561047, 0.96561047, 0.96561047,\n",
       "       0.73334016, 1.09242188, 0.96561047, 1.09242188, 0.96561047,\n",
       "       0.96561047, 0.96561047, 0.96561047, 0.96561047, 1.18073611,\n",
       "       0.96561047, 0.73334016, 0.73334016, 0.73334016, 0.96561047,\n",
       "       1.09242188, 0.96561047, 1.09242188, 1.09242188, 0.96561047,\n",
       "       0.96561047, 1.09242188, 0.96561047, 0.96561047, 0.96561047,\n",
       "       0.96561047, 0.96561047, 1.18073611, 0.96561047, 0.96561047,\n",
       "       0.96561047, 1.09242188, 0.96561047, 0.96561047, 1.09242188,\n",
       "       0.96561047, 1.09242188, 1.09242188, 0.96561047, 1.18073611,\n",
       "       1.09242188, 1.09242188, 1.09242188, 1.18073611, 1.18073611,\n",
       "       0.96561047, 1.18073611, 0.96561047, 0.96561047, 0.96561047,\n",
       "       1.09242188, 0.96561047, 0.96561047, 0.96561047, 0.96561047,\n",
       "       1.18073611, 0.96561047, 0.96561047, 1.09242188, 0.96561047,\n",
       "       1.09242188, 0.96561047, 1.09242188, 0.96561047, 0.96561047,\n",
       "       0.96561047, 1.09242188, 1.09242188, 1.09242188, 1.18073611,\n",
       "       0.96561047, 0.73334016, 0.96561047, 0.96561047, 0.96561047,\n",
       "       0.96561047, 1.09242188, 0.96561047, 0.96561047, 0.96561047,\n",
       "       1.09242188, 0.96561047, 1.09242188, 0.96561047, 1.09242188,\n",
       "       0.96561047, 1.09242188, 0.96561047, 1.09242188, 0.96561047,\n",
       "       0.96561047, 1.09242188, 1.09242188, 0.96561047, 0.96561047,\n",
       "       0.73334016, 0.96561047, 0.96561047, 0.96561047, 1.09242188,\n",
       "       1.09242188, 0.73334016, 0.96561047, 0.96561047, 1.09242188,\n",
       "       1.09242188, 1.18073611, 1.18073611, 0.96561047, 0.96561047,\n",
       "       0.96561047, 0.96561047, 0.96561047, 0.96561047, 0.96561047,\n",
       "       1.18073611, 0.73334016, 0.96561047, 0.96561047, 1.18073611,\n",
       "       0.96561047, 1.09242188, 1.18073611, 1.18073611, 1.09242188,\n",
       "       0.96561047, 1.09242188, 1.18073611, 0.96561047, 1.09242188,\n",
       "       1.18073611, 0.96561047, 1.09242188, 1.18073611, 0.96561047,\n",
       "       0.96561047, 0.96561047, 1.18073611, 1.09242188, 0.96561047,\n",
       "       0.73334016, 0.96561047, 1.18073611, 0.96561047, 0.96561047,\n",
       "       0.73334016, 0.96561047, 0.96561047, 1.09242188, 1.09242188,\n",
       "       0.96561047, 0.96561047, 0.96561047, 1.09242188, 1.09242188,\n",
       "       0.96561047, 0.73334016, 1.18073611, 0.73334016, 0.96561047,\n",
       "       0.96561047, 0.96561047, 1.09242188, 1.18073611, 1.09242188,\n",
       "       0.96561047, 0.96561047, 0.96561047, 1.09242188, 0.96561047,\n",
       "       0.96561047, 0.96561047, 0.96561047, 0.96561047, 0.96561047,\n",
       "       0.73334016, 0.96561047, 0.96561047, 0.96561047, 0.96561047,\n",
       "       0.96561047, 0.73334016, 0.96561047, 0.96561047, 1.09242188,\n",
       "       1.09242188, 0.96561047, 0.96561047, 1.09242188, 0.96561047,\n",
       "       0.96561047, 0.96561047, 0.96561047, 0.96561047, 0.73334016,\n",
       "       0.96561047, 1.18073611, 1.09242188, 0.96561047, 0.96561047,\n",
       "       0.73334016, 0.96561047, 1.09242188, 0.96561047, 0.96561047,\n",
       "       0.96561047, 0.96561047, 0.73334016, 0.96561047, 0.96561047,\n",
       "       1.09242188, 0.96561047, 1.18073611, 1.18073611, 0.96561047,\n",
       "       1.09242188, 0.96561047, 1.18073611, 0.96561047, 1.09242188,\n",
       "       0.96561047, 0.96561047, 0.96561047, 1.09242188, 1.18073611,\n",
       "       1.18073611, 0.96561047, 0.96561047, 0.96561047, 0.73334016,\n",
       "       0.96561047, 0.96561047, 0.96561047, 0.96561047, 0.96561047,\n",
       "       1.09242188, 0.96561047, 0.96561047, 1.09242188, 1.09242188,\n",
       "       0.73334016, 0.96561047, 0.96561047, 0.73334016, 1.09242188,\n",
       "       1.09242188, 1.09242188, 0.96561047, 0.96561047, 0.96561047,\n",
       "       0.96561047, 1.09242188, 0.96561047, 0.96561047, 0.96561047,\n",
       "       0.96561047, 0.96561047, 1.18073611, 1.09242188, 0.96561047,\n",
       "       0.96561047, 0.96561047, 0.96561047, 1.09242188, 0.96561047,\n",
       "       0.96561047, 1.09242188, 1.18073611, 1.09242188, 0.96561047,\n",
       "       0.96561047, 0.96561047, 0.73334016, 1.18073611, 0.96561047,\n",
       "       0.96561047, 1.09242188, 1.09242188, 0.96561047, 0.96561047,\n",
       "       0.96561047, 0.96561047, 0.96561047, 0.96561047, 0.96561047,\n",
       "       0.96561047, 0.96561047, 0.73334016, 0.96561047, 0.96561047,\n",
       "       0.96561047, 0.96561047, 0.96561047, 0.96561047, 0.96561047,\n",
       "       0.96561047, 0.96561047, 0.96561047, 0.73334016, 0.96561047,\n",
       "       0.96561047, 0.96561047, 0.73334016, 0.96561047, 0.96561047,\n",
       "       0.96561047, 0.73334016, 0.96561047, 0.96561047, 0.96561047,\n",
       "       1.09242188, 0.96561047, 0.96561047, 1.18073611, 0.96561047,\n",
       "       0.96561047, 0.96561047, 0.96561047, 0.96561047, 0.73334016,\n",
       "       1.09242188, 0.96561047, 0.96561047, 0.73334016, 0.96561047,\n",
       "       0.96561047, 0.96561047, 0.96561047, 1.18073611, 0.96561047,\n",
       "       0.96561047, 0.96561047, 0.96561047, 0.96561047, 0.96561047,\n",
       "       0.96561047, 0.96561047, 1.18073611, 0.96561047, 0.73334016,\n",
       "       0.96561047, 0.96561047, 1.18073611, 0.96561047, 0.96561047,\n",
       "       1.18073611, 0.73334016, 0.96561047, 0.96561047, 0.96561047,\n",
       "       0.73334016, 0.96561047, 0.73334016, 1.09242188, 0.96561047,\n",
       "       0.96561047, 0.73334016, 0.96561047, 0.96561047, 0.96561047,\n",
       "       0.96561047, 1.09242188, 0.96561047, 0.73334016, 0.96561047,\n",
       "       0.96561047, 1.18073611, 0.96561047, 0.96561047, 1.09242188,\n",
       "       1.18073611, 0.96561047, 1.09242188, 1.09242188, 1.18073611,\n",
       "       0.96561047, 0.96561047, 1.09242188, 0.96561047, 0.96561047,\n",
       "       0.96561047, 0.73334016, 0.96561047, 0.96561047, 1.18073611,\n",
       "       1.18073611, 0.96561047, 0.96561047, 1.18073611, 0.96561047,\n",
       "       0.96561047, 1.09242188, 1.09242188, 0.96561047, 0.96561047,\n",
       "       0.96561047, 1.09242188, 0.96561047, 0.96561047, 0.96561047,\n",
       "       0.96561047, 0.96561047, 0.96561047, 0.96561047, 0.96561047,\n",
       "       0.96561047, 0.96561047, 1.09242188, 0.96561047, 0.96561047,\n",
       "       1.09242188, 1.09242188, 0.96561047, 0.96561047, 1.09242188,\n",
       "       0.96561047, 0.96561047, 0.96561047, 0.96561047, 0.96561047,\n",
       "       1.18073611, 1.09242188, 0.96561047, 0.96561047, 0.96561047,\n",
       "       1.18073611, 0.96561047, 0.96561047, 0.73334016, 1.18073611,\n",
       "       1.09242188, 0.96561047, 1.09242188, 0.96561047, 0.96561047,\n",
       "       0.96561047, 1.18073611, 0.96561047, 0.96561047, 0.73334016,\n",
       "       0.96561047, 0.96561047, 0.96561047, 1.09242188, 0.96561047,\n",
       "       0.96561047, 1.09242188, 0.96561047, 1.09242188, 0.96561047,\n",
       "       1.18073611, 0.96561047, 0.96561047, 0.96561047, 1.09242188,\n",
       "       0.96561047, 1.09242188, 1.09242188, 0.96561047, 0.96561047,\n",
       "       1.09242188, 0.96561047, 0.73334016, 0.96561047, 0.73334016,\n",
       "       0.96561047, 0.96561047, 1.09242188, 0.96561047, 0.96561047,\n",
       "       0.96561047, 0.96561047, 0.96561047, 1.18073611, 1.09242188,\n",
       "       1.09242188, 0.96561047, 0.96561047, 1.09242188, 1.18073611,\n",
       "       1.09242188, 1.09242188, 1.09242188, 0.96561047, 1.09242188,\n",
       "       0.96561047, 0.96561047, 1.09242188, 0.96561047, 0.96561047,\n",
       "       1.18073611, 0.96561047, 1.09242188, 0.96561047, 0.96561047,\n",
       "       0.96561047, 0.96561047, 1.09242188, 0.96561047, 0.96561047,\n",
       "       1.18073611, 1.09242188, 0.96561047, 0.96561047, 0.96561047,\n",
       "       0.96561047, 1.09242188, 0.96561047, 0.96561047, 0.96561047,\n",
       "       0.96561047, 0.96561047, 0.96561047, 0.96561047, 0.73334016,\n",
       "       1.09242188, 0.96561047, 1.09242188, 0.96561047, 0.96561047,\n",
       "       1.09242188, 0.96561047, 1.09242188, 1.18073611, 1.09242188,\n",
       "       1.09242188, 0.73334016, 1.09242188, 0.96561047, 0.96561047,\n",
       "       1.09242188, 1.09242188, 0.73334016, 0.96561047, 0.96561047,\n",
       "       1.18073611, 1.09242188, 0.96561047, 1.18073611, 1.18073611,\n",
       "       0.96561047, 1.18073611, 1.18073611, 0.96561047, 1.09242188,\n",
       "       0.96561047, 0.73334016, 1.18073611, 1.18073611, 0.96561047,\n",
       "       1.09242188, 0.96561047, 0.96561047, 1.09242188, 0.96561047])"
      ]
     },
     "execution_count": 42,
     "metadata": {},
     "output_type": "execute_result"
    }
   ],
   "source": [
    "# Veamos que los pesos han cambiado\n",
    "\n",
    "reweighted.instance_weights"
   ]
  },
  {
   "cell_type": "code",
   "execution_count": 43,
   "metadata": {
    "id": "USO461G-EukM"
   },
   "outputs": [],
   "source": [
    "# Miremos las métricas para estos datos\n",
    "\n",
    "reweighted_metrics = BinaryLabelDatasetMetric(\n",
    "    reweighted,\n",
    "    unprivileged_groups=unprivileged_groups,\n",
    "    privileged_groups=privileged_groups,\n",
    ")"
   ]
  },
  {
   "cell_type": "code",
   "execution_count": 44,
   "metadata": {
    "colab": {
     "base_uri": "https://localhost:8080/"
    },
    "executionInfo": {
     "elapsed": 19,
     "status": "ok",
     "timestamp": 1691567735557,
     "user": {
      "displayName": "Diego Rodríguez",
      "userId": "02273920844464973837"
     },
     "user_tz": 240
    },
    "id": "ZsuoPPU8FEFG",
    "outputId": "40eedfed-2252-4239-947e-1e76bdb6baf6"
   },
   "outputs": [
    {
     "name": "stdout",
     "output_type": "stream",
     "text": [
      "Reweighted Train Statistical Parity Difference (age): -3.3306690738754696e-16\n"
     ]
    }
   ],
   "source": [
    "print(\n",
    "    f\"Reweighted Train Statistical Parity Difference (age): {reweighted_metrics.mean_difference()}\"\n",
    ")"
   ]
  },
  {
   "cell_type": "markdown",
   "metadata": {
    "id": "dAXSQyvsF3ZD"
   },
   "source": [
    "## Entrenamiento de un modelo con los datos de entrenamiento reparados."
   ]
  },
  {
   "cell_type": "code",
   "execution_count": 45,
   "metadata": {
    "colab": {
     "base_uri": "https://localhost:8080/",
     "height": 75
    },
    "executionInfo": {
     "elapsed": 958,
     "status": "ok",
     "timestamp": 1691567736502,
     "user": {
      "displayName": "Diego Rodríguez",
      "userId": "02273920844464973837"
     },
     "user_tz": 240
    },
    "id": "apj8sGV9F2UZ",
    "outputId": "4a7d8799-493b-4a2e-dc7d-aae4f75b14f3"
   },
   "outputs": [
    {
     "data": {
      "text/html": [
       "<style>#sk-container-id-2 {\n",
       "  /* Definition of color scheme common for light and dark mode */\n",
       "  --sklearn-color-text: #000;\n",
       "  --sklearn-color-text-muted: #666;\n",
       "  --sklearn-color-line: gray;\n",
       "  /* Definition of color scheme for unfitted estimators */\n",
       "  --sklearn-color-unfitted-level-0: #fff5e6;\n",
       "  --sklearn-color-unfitted-level-1: #f6e4d2;\n",
       "  --sklearn-color-unfitted-level-2: #ffe0b3;\n",
       "  --sklearn-color-unfitted-level-3: chocolate;\n",
       "  /* Definition of color scheme for fitted estimators */\n",
       "  --sklearn-color-fitted-level-0: #f0f8ff;\n",
       "  --sklearn-color-fitted-level-1: #d4ebff;\n",
       "  --sklearn-color-fitted-level-2: #b3dbfd;\n",
       "  --sklearn-color-fitted-level-3: cornflowerblue;\n",
       "\n",
       "  /* Specific color for light theme */\n",
       "  --sklearn-color-text-on-default-background: var(--sg-text-color, var(--theme-code-foreground, var(--jp-content-font-color1, black)));\n",
       "  --sklearn-color-background: var(--sg-background-color, var(--theme-background, var(--jp-layout-color0, white)));\n",
       "  --sklearn-color-border-box: var(--sg-text-color, var(--theme-code-foreground, var(--jp-content-font-color1, black)));\n",
       "  --sklearn-color-icon: #696969;\n",
       "\n",
       "  @media (prefers-color-scheme: dark) {\n",
       "    /* Redefinition of color scheme for dark theme */\n",
       "    --sklearn-color-text-on-default-background: var(--sg-text-color, var(--theme-code-foreground, var(--jp-content-font-color1, white)));\n",
       "    --sklearn-color-background: var(--sg-background-color, var(--theme-background, var(--jp-layout-color0, #111)));\n",
       "    --sklearn-color-border-box: var(--sg-text-color, var(--theme-code-foreground, var(--jp-content-font-color1, white)));\n",
       "    --sklearn-color-icon: #878787;\n",
       "  }\n",
       "}\n",
       "\n",
       "#sk-container-id-2 {\n",
       "  color: var(--sklearn-color-text);\n",
       "}\n",
       "\n",
       "#sk-container-id-2 pre {\n",
       "  padding: 0;\n",
       "}\n",
       "\n",
       "#sk-container-id-2 input.sk-hidden--visually {\n",
       "  border: 0;\n",
       "  clip: rect(1px 1px 1px 1px);\n",
       "  clip: rect(1px, 1px, 1px, 1px);\n",
       "  height: 1px;\n",
       "  margin: -1px;\n",
       "  overflow: hidden;\n",
       "  padding: 0;\n",
       "  position: absolute;\n",
       "  width: 1px;\n",
       "}\n",
       "\n",
       "#sk-container-id-2 div.sk-dashed-wrapped {\n",
       "  border: 1px dashed var(--sklearn-color-line);\n",
       "  margin: 0 0.4em 0.5em 0.4em;\n",
       "  box-sizing: border-box;\n",
       "  padding-bottom: 0.4em;\n",
       "  background-color: var(--sklearn-color-background);\n",
       "}\n",
       "\n",
       "#sk-container-id-2 div.sk-container {\n",
       "  /* jupyter's `normalize.less` sets `[hidden] { display: none; }`\n",
       "     but bootstrap.min.css set `[hidden] { display: none !important; }`\n",
       "     so we also need the `!important` here to be able to override the\n",
       "     default hidden behavior on the sphinx rendered scikit-learn.org.\n",
       "     See: https://github.com/scikit-learn/scikit-learn/issues/21755 */\n",
       "  display: inline-block !important;\n",
       "  position: relative;\n",
       "}\n",
       "\n",
       "#sk-container-id-2 div.sk-text-repr-fallback {\n",
       "  display: none;\n",
       "}\n",
       "\n",
       "div.sk-parallel-item,\n",
       "div.sk-serial,\n",
       "div.sk-item {\n",
       "  /* draw centered vertical line to link estimators */\n",
       "  background-image: linear-gradient(var(--sklearn-color-text-on-default-background), var(--sklearn-color-text-on-default-background));\n",
       "  background-size: 2px 100%;\n",
       "  background-repeat: no-repeat;\n",
       "  background-position: center center;\n",
       "}\n",
       "\n",
       "/* Parallel-specific style estimator block */\n",
       "\n",
       "#sk-container-id-2 div.sk-parallel-item::after {\n",
       "  content: \"\";\n",
       "  width: 100%;\n",
       "  border-bottom: 2px solid var(--sklearn-color-text-on-default-background);\n",
       "  flex-grow: 1;\n",
       "}\n",
       "\n",
       "#sk-container-id-2 div.sk-parallel {\n",
       "  display: flex;\n",
       "  align-items: stretch;\n",
       "  justify-content: center;\n",
       "  background-color: var(--sklearn-color-background);\n",
       "  position: relative;\n",
       "}\n",
       "\n",
       "#sk-container-id-2 div.sk-parallel-item {\n",
       "  display: flex;\n",
       "  flex-direction: column;\n",
       "}\n",
       "\n",
       "#sk-container-id-2 div.sk-parallel-item:first-child::after {\n",
       "  align-self: flex-end;\n",
       "  width: 50%;\n",
       "}\n",
       "\n",
       "#sk-container-id-2 div.sk-parallel-item:last-child::after {\n",
       "  align-self: flex-start;\n",
       "  width: 50%;\n",
       "}\n",
       "\n",
       "#sk-container-id-2 div.sk-parallel-item:only-child::after {\n",
       "  width: 0;\n",
       "}\n",
       "\n",
       "/* Serial-specific style estimator block */\n",
       "\n",
       "#sk-container-id-2 div.sk-serial {\n",
       "  display: flex;\n",
       "  flex-direction: column;\n",
       "  align-items: center;\n",
       "  background-color: var(--sklearn-color-background);\n",
       "  padding-right: 1em;\n",
       "  padding-left: 1em;\n",
       "}\n",
       "\n",
       "\n",
       "/* Toggleable style: style used for estimator/Pipeline/ColumnTransformer box that is\n",
       "clickable and can be expanded/collapsed.\n",
       "- Pipeline and ColumnTransformer use this feature and define the default style\n",
       "- Estimators will overwrite some part of the style using the `sk-estimator` class\n",
       "*/\n",
       "\n",
       "/* Pipeline and ColumnTransformer style (default) */\n",
       "\n",
       "#sk-container-id-2 div.sk-toggleable {\n",
       "  /* Default theme specific background. It is overwritten whether we have a\n",
       "  specific estimator or a Pipeline/ColumnTransformer */\n",
       "  background-color: var(--sklearn-color-background);\n",
       "}\n",
       "\n",
       "/* Toggleable label */\n",
       "#sk-container-id-2 label.sk-toggleable__label {\n",
       "  cursor: pointer;\n",
       "  display: flex;\n",
       "  width: 100%;\n",
       "  margin-bottom: 0;\n",
       "  padding: 0.5em;\n",
       "  box-sizing: border-box;\n",
       "  text-align: center;\n",
       "  align-items: start;\n",
       "  justify-content: space-between;\n",
       "  gap: 0.5em;\n",
       "}\n",
       "\n",
       "#sk-container-id-2 label.sk-toggleable__label .caption {\n",
       "  font-size: 0.6rem;\n",
       "  font-weight: lighter;\n",
       "  color: var(--sklearn-color-text-muted);\n",
       "}\n",
       "\n",
       "#sk-container-id-2 label.sk-toggleable__label-arrow:before {\n",
       "  /* Arrow on the left of the label */\n",
       "  content: \"▸\";\n",
       "  float: left;\n",
       "  margin-right: 0.25em;\n",
       "  color: var(--sklearn-color-icon);\n",
       "}\n",
       "\n",
       "#sk-container-id-2 label.sk-toggleable__label-arrow:hover:before {\n",
       "  color: var(--sklearn-color-text);\n",
       "}\n",
       "\n",
       "/* Toggleable content - dropdown */\n",
       "\n",
       "#sk-container-id-2 div.sk-toggleable__content {\n",
       "  max-height: 0;\n",
       "  max-width: 0;\n",
       "  overflow: hidden;\n",
       "  text-align: left;\n",
       "  /* unfitted */\n",
       "  background-color: var(--sklearn-color-unfitted-level-0);\n",
       "}\n",
       "\n",
       "#sk-container-id-2 div.sk-toggleable__content.fitted {\n",
       "  /* fitted */\n",
       "  background-color: var(--sklearn-color-fitted-level-0);\n",
       "}\n",
       "\n",
       "#sk-container-id-2 div.sk-toggleable__content pre {\n",
       "  margin: 0.2em;\n",
       "  border-radius: 0.25em;\n",
       "  color: var(--sklearn-color-text);\n",
       "  /* unfitted */\n",
       "  background-color: var(--sklearn-color-unfitted-level-0);\n",
       "}\n",
       "\n",
       "#sk-container-id-2 div.sk-toggleable__content.fitted pre {\n",
       "  /* unfitted */\n",
       "  background-color: var(--sklearn-color-fitted-level-0);\n",
       "}\n",
       "\n",
       "#sk-container-id-2 input.sk-toggleable__control:checked~div.sk-toggleable__content {\n",
       "  /* Expand drop-down */\n",
       "  max-height: 200px;\n",
       "  max-width: 100%;\n",
       "  overflow: auto;\n",
       "}\n",
       "\n",
       "#sk-container-id-2 input.sk-toggleable__control:checked~label.sk-toggleable__label-arrow:before {\n",
       "  content: \"▾\";\n",
       "}\n",
       "\n",
       "/* Pipeline/ColumnTransformer-specific style */\n",
       "\n",
       "#sk-container-id-2 div.sk-label input.sk-toggleable__control:checked~label.sk-toggleable__label {\n",
       "  color: var(--sklearn-color-text);\n",
       "  background-color: var(--sklearn-color-unfitted-level-2);\n",
       "}\n",
       "\n",
       "#sk-container-id-2 div.sk-label.fitted input.sk-toggleable__control:checked~label.sk-toggleable__label {\n",
       "  background-color: var(--sklearn-color-fitted-level-2);\n",
       "}\n",
       "\n",
       "/* Estimator-specific style */\n",
       "\n",
       "/* Colorize estimator box */\n",
       "#sk-container-id-2 div.sk-estimator input.sk-toggleable__control:checked~label.sk-toggleable__label {\n",
       "  /* unfitted */\n",
       "  background-color: var(--sklearn-color-unfitted-level-2);\n",
       "}\n",
       "\n",
       "#sk-container-id-2 div.sk-estimator.fitted input.sk-toggleable__control:checked~label.sk-toggleable__label {\n",
       "  /* fitted */\n",
       "  background-color: var(--sklearn-color-fitted-level-2);\n",
       "}\n",
       "\n",
       "#sk-container-id-2 div.sk-label label.sk-toggleable__label,\n",
       "#sk-container-id-2 div.sk-label label {\n",
       "  /* The background is the default theme color */\n",
       "  color: var(--sklearn-color-text-on-default-background);\n",
       "}\n",
       "\n",
       "/* On hover, darken the color of the background */\n",
       "#sk-container-id-2 div.sk-label:hover label.sk-toggleable__label {\n",
       "  color: var(--sklearn-color-text);\n",
       "  background-color: var(--sklearn-color-unfitted-level-2);\n",
       "}\n",
       "\n",
       "/* Label box, darken color on hover, fitted */\n",
       "#sk-container-id-2 div.sk-label.fitted:hover label.sk-toggleable__label.fitted {\n",
       "  color: var(--sklearn-color-text);\n",
       "  background-color: var(--sklearn-color-fitted-level-2);\n",
       "}\n",
       "\n",
       "/* Estimator label */\n",
       "\n",
       "#sk-container-id-2 div.sk-label label {\n",
       "  font-family: monospace;\n",
       "  font-weight: bold;\n",
       "  display: inline-block;\n",
       "  line-height: 1.2em;\n",
       "}\n",
       "\n",
       "#sk-container-id-2 div.sk-label-container {\n",
       "  text-align: center;\n",
       "}\n",
       "\n",
       "/* Estimator-specific */\n",
       "#sk-container-id-2 div.sk-estimator {\n",
       "  font-family: monospace;\n",
       "  border: 1px dotted var(--sklearn-color-border-box);\n",
       "  border-radius: 0.25em;\n",
       "  box-sizing: border-box;\n",
       "  margin-bottom: 0.5em;\n",
       "  /* unfitted */\n",
       "  background-color: var(--sklearn-color-unfitted-level-0);\n",
       "}\n",
       "\n",
       "#sk-container-id-2 div.sk-estimator.fitted {\n",
       "  /* fitted */\n",
       "  background-color: var(--sklearn-color-fitted-level-0);\n",
       "}\n",
       "\n",
       "/* on hover */\n",
       "#sk-container-id-2 div.sk-estimator:hover {\n",
       "  /* unfitted */\n",
       "  background-color: var(--sklearn-color-unfitted-level-2);\n",
       "}\n",
       "\n",
       "#sk-container-id-2 div.sk-estimator.fitted:hover {\n",
       "  /* fitted */\n",
       "  background-color: var(--sklearn-color-fitted-level-2);\n",
       "}\n",
       "\n",
       "/* Specification for estimator info (e.g. \"i\" and \"?\") */\n",
       "\n",
       "/* Common style for \"i\" and \"?\" */\n",
       "\n",
       ".sk-estimator-doc-link,\n",
       "a:link.sk-estimator-doc-link,\n",
       "a:visited.sk-estimator-doc-link {\n",
       "  float: right;\n",
       "  font-size: smaller;\n",
       "  line-height: 1em;\n",
       "  font-family: monospace;\n",
       "  background-color: var(--sklearn-color-background);\n",
       "  border-radius: 1em;\n",
       "  height: 1em;\n",
       "  width: 1em;\n",
       "  text-decoration: none !important;\n",
       "  margin-left: 0.5em;\n",
       "  text-align: center;\n",
       "  /* unfitted */\n",
       "  border: var(--sklearn-color-unfitted-level-1) 1pt solid;\n",
       "  color: var(--sklearn-color-unfitted-level-1);\n",
       "}\n",
       "\n",
       ".sk-estimator-doc-link.fitted,\n",
       "a:link.sk-estimator-doc-link.fitted,\n",
       "a:visited.sk-estimator-doc-link.fitted {\n",
       "  /* fitted */\n",
       "  border: var(--sklearn-color-fitted-level-1) 1pt solid;\n",
       "  color: var(--sklearn-color-fitted-level-1);\n",
       "}\n",
       "\n",
       "/* On hover */\n",
       "div.sk-estimator:hover .sk-estimator-doc-link:hover,\n",
       ".sk-estimator-doc-link:hover,\n",
       "div.sk-label-container:hover .sk-estimator-doc-link:hover,\n",
       ".sk-estimator-doc-link:hover {\n",
       "  /* unfitted */\n",
       "  background-color: var(--sklearn-color-unfitted-level-3);\n",
       "  color: var(--sklearn-color-background);\n",
       "  text-decoration: none;\n",
       "}\n",
       "\n",
       "div.sk-estimator.fitted:hover .sk-estimator-doc-link.fitted:hover,\n",
       ".sk-estimator-doc-link.fitted:hover,\n",
       "div.sk-label-container:hover .sk-estimator-doc-link.fitted:hover,\n",
       ".sk-estimator-doc-link.fitted:hover {\n",
       "  /* fitted */\n",
       "  background-color: var(--sklearn-color-fitted-level-3);\n",
       "  color: var(--sklearn-color-background);\n",
       "  text-decoration: none;\n",
       "}\n",
       "\n",
       "/* Span, style for the box shown on hovering the info icon */\n",
       ".sk-estimator-doc-link span {\n",
       "  display: none;\n",
       "  z-index: 9999;\n",
       "  position: relative;\n",
       "  font-weight: normal;\n",
       "  right: .2ex;\n",
       "  padding: .5ex;\n",
       "  margin: .5ex;\n",
       "  width: min-content;\n",
       "  min-width: 20ex;\n",
       "  max-width: 50ex;\n",
       "  color: var(--sklearn-color-text);\n",
       "  box-shadow: 2pt 2pt 4pt #999;\n",
       "  /* unfitted */\n",
       "  background: var(--sklearn-color-unfitted-level-0);\n",
       "  border: .5pt solid var(--sklearn-color-unfitted-level-3);\n",
       "}\n",
       "\n",
       ".sk-estimator-doc-link.fitted span {\n",
       "  /* fitted */\n",
       "  background: var(--sklearn-color-fitted-level-0);\n",
       "  border: var(--sklearn-color-fitted-level-3);\n",
       "}\n",
       "\n",
       ".sk-estimator-doc-link:hover span {\n",
       "  display: block;\n",
       "}\n",
       "\n",
       "/* \"?\"-specific style due to the `<a>` HTML tag */\n",
       "\n",
       "#sk-container-id-2 a.estimator_doc_link {\n",
       "  float: right;\n",
       "  font-size: 1rem;\n",
       "  line-height: 1em;\n",
       "  font-family: monospace;\n",
       "  background-color: var(--sklearn-color-background);\n",
       "  border-radius: 1rem;\n",
       "  height: 1rem;\n",
       "  width: 1rem;\n",
       "  text-decoration: none;\n",
       "  /* unfitted */\n",
       "  color: var(--sklearn-color-unfitted-level-1);\n",
       "  border: var(--sklearn-color-unfitted-level-1) 1pt solid;\n",
       "}\n",
       "\n",
       "#sk-container-id-2 a.estimator_doc_link.fitted {\n",
       "  /* fitted */\n",
       "  border: var(--sklearn-color-fitted-level-1) 1pt solid;\n",
       "  color: var(--sklearn-color-fitted-level-1);\n",
       "}\n",
       "\n",
       "/* On hover */\n",
       "#sk-container-id-2 a.estimator_doc_link:hover {\n",
       "  /* unfitted */\n",
       "  background-color: var(--sklearn-color-unfitted-level-3);\n",
       "  color: var(--sklearn-color-background);\n",
       "  text-decoration: none;\n",
       "}\n",
       "\n",
       "#sk-container-id-2 a.estimator_doc_link.fitted:hover {\n",
       "  /* fitted */\n",
       "  background-color: var(--sklearn-color-fitted-level-3);\n",
       "}\n",
       "</style><div id=\"sk-container-id-2\" class=\"sk-top-container\"><div class=\"sk-text-repr-fallback\"><pre>LogisticRegressionCV(cv=10, random_state=908, solver=&#x27;liblinear&#x27;)</pre><b>In a Jupyter environment, please rerun this cell to show the HTML representation or trust the notebook. <br />On GitHub, the HTML representation is unable to render, please try loading this page with nbviewer.org.</b></div><div class=\"sk-container\" hidden><div class=\"sk-item\"><div class=\"sk-estimator fitted sk-toggleable\"><input class=\"sk-toggleable__control sk-hidden--visually\" id=\"sk-estimator-id-2\" type=\"checkbox\" checked><label for=\"sk-estimator-id-2\" class=\"sk-toggleable__label fitted sk-toggleable__label-arrow\"><div><div>LogisticRegressionCV</div></div><div><a class=\"sk-estimator-doc-link fitted\" rel=\"noreferrer\" target=\"_blank\" href=\"https://scikit-learn.org/1.6/modules/generated/sklearn.linear_model.LogisticRegressionCV.html\">?<span>Documentation for LogisticRegressionCV</span></a><span class=\"sk-estimator-doc-link fitted\">i<span>Fitted</span></span></div></label><div class=\"sk-toggleable__content fitted\"><pre>LogisticRegressionCV(cv=10, random_state=908, solver=&#x27;liblinear&#x27;)</pre></div> </div></div></div></div>"
      ],
      "text/plain": [
       "LogisticRegressionCV(cv=10, random_state=908, solver='liblinear')"
      ]
     },
     "execution_count": 45,
     "metadata": {},
     "output_type": "execute_result"
    }
   ],
   "source": [
    "# Regresión logística\n",
    "\n",
    "lr = LogisticRegressionCV(solver=\"liblinear\", cv=10, random_state=908)\n",
    "\n",
    "# Al entrenar (fit) entregamos los pesos calculados por el algoritmo de Reweighing\n",
    "\n",
    "lr.fit(X_train, np.ravel(y_train), sample_weight=reweighted.instance_weights)"
   ]
  },
  {
   "cell_type": "code",
   "execution_count": 46,
   "metadata": {
    "colab": {
     "base_uri": "https://localhost:8080/"
    },
    "executionInfo": {
     "elapsed": 14,
     "status": "ok",
     "timestamp": 1691567736505,
     "user": {
      "displayName": "Diego Rodríguez",
      "userId": "02273920844464973837"
     },
     "user_tz": 240
    },
    "id": "bCUatwA_If29",
    "outputId": "42451b6d-8333-41f1-da61-d56b21aa41de"
   },
   "outputs": [
    {
     "name": "stdout",
     "output_type": "stream",
     "text": [
      "Accuracy: 0.715\n",
      "Recall: 0.9124087591240876\n",
      "F1: 0.8143322475570033\n"
     ]
    }
   ],
   "source": [
    "# Métricas modelo entrenado con datos \"reparados\"\n",
    "\n",
    "y_pred_proba = lr.predict_proba(X_test)[:, 1]\n",
    "y_pred = y_pred_proba >= 0.5\n",
    "\n",
    "print(f\"Accuracy: {accuracy_score(y_test, y_pred)}\")\n",
    "print(f\"Recall: {recall_score(y_test, y_pred)}\")\n",
    "print(f\"F1: {f1_score(y_test, y_pred)}\")"
   ]
  },
  {
   "cell_type": "markdown",
   "metadata": {
    "id": "Vb1LyJYxL1wD"
   },
   "source": [
    "### Sesgo del modelo entrenado con datos \"reparados\""
   ]
  },
  {
   "cell_type": "code",
   "execution_count": 47,
   "metadata": {
    "id": "FELJnaTxLuUL"
   },
   "outputs": [],
   "source": [
    "df_test_rw = X_test.copy()\n",
    "df_test_rw[\"credit-score\"] = y_pred"
   ]
  },
  {
   "cell_type": "code",
   "execution_count": 48,
   "metadata": {
    "colab": {
     "base_uri": "https://localhost:8080/"
    },
    "executionInfo": {
     "elapsed": 10,
     "status": "ok",
     "timestamp": 1691567737819,
     "user": {
      "displayName": "Diego Rodríguez",
      "userId": "02273920844464973837"
     },
     "user_tz": 240
    },
    "id": "PdYxB1viMOmw",
    "outputId": "7ac32312-8b91-4918-92e2-d84d0e3e55fe"
   },
   "outputs": [
    {
     "name": "stdout",
     "output_type": "stream",
     "text": [
      "Reweighted: Test Statistical Parity Difference (age): 0.02707437490046183\n",
      "Reweighted: Test Disparate Impact (age): 1.032051282051282\n"
     ]
    }
   ],
   "source": [
    "# Discriminación por categoría de edad\n",
    "\n",
    "metric_age_test_rw = get_aif_metrics(\"age_cat\", df_test_rw)\n",
    "print(\n",
    "    f\"Reweighted: Test Statistical Parity Difference (age): {metric_age_test_rw.mean_difference()}\"\n",
    ")\n",
    "print(\n",
    "    f\"Reweighted: Test Disparate Impact (age): {metric_age_test_rw.disparate_impact()}\"\n",
    ")"
   ]
  },
  {
   "cell_type": "code",
   "execution_count": 49,
   "metadata": {
    "colab": {
     "base_uri": "https://localhost:8080/"
    },
    "executionInfo": {
     "elapsed": 9,
     "status": "ok",
     "timestamp": 1691567737819,
     "user": {
      "displayName": "Diego Rodríguez",
      "userId": "02273920844464973837"
     },
     "user_tz": 240
    },
    "id": "D7Iis4tDMInC",
    "outputId": "ff981922-683b-4e3f-f6ce-b46be81f726d"
   },
   "outputs": [
    {
     "name": "stdout",
     "output_type": "stream",
     "text": [
      "Reweighted: Test Statistical Parity Difference (sex): -0.106951871657754\n",
      "Reweighted: Test Disparate Impact (sex): 0.8793363499245852\n"
     ]
    }
   ],
   "source": [
    "# Discriminación por sexo\n",
    "metric_sex_test_rw = get_aif_metrics(\"sex\", df_test_rw)\n",
    "print(\n",
    "    f\"Reweighted: Test Statistical Parity Difference (sex): {metric_sex_test_rw.mean_difference()}\"\n",
    ")\n",
    "print(\n",
    "    f\"Reweighted: Test Disparate Impact (sex): {metric_sex_test_rw.disparate_impact()}\"\n",
    ")"
   ]
  },
  {
   "cell_type": "markdown",
   "metadata": {
    "id": "tudhJeVoMT3_"
   },
   "source": [
    "**Pregunta**: ¿Es suficiente con aplicar estos tipos de algoritmos de mitigación de sesgo para resolver el problema? ¿Qué sucede con los problemas de fondo? Luego de implementar esta solución ¿Tenemos resuelto el tema de la discriminación algoritmica?\n"
   ]
  }
 ],
 "metadata": {
  "colab": {
   "authorship_tag": "ABX9TyNugyPPtUkbNckl+YGf6Z3B",
   "provenance": []
  },
  "kernelspec": {
   "display_name": "Python 3",
   "name": "python3"
  },
  "language_info": {
   "codemirror_mode": {
    "name": "ipython",
    "version": 3
   },
   "file_extension": ".py",
   "mimetype": "text/x-python",
   "name": "python",
   "nbconvert_exporter": "python",
   "pygments_lexer": "ipython3",
   "version": "3.13.2"
  }
 },
 "nbformat": 4,
 "nbformat_minor": 0
}
