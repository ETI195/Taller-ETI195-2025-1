{
 "cells": [
  {
   "cell_type": "markdown",
   "metadata": {
    "id": "kx57r62efB5k"
   },
   "source": [
    "<h1></h1>\n",
    "<h2><center> ETI195 - Ética para Ciencia de Datos y Estadística </center></h2>\n",
    "\n",
    "<h1></h1>\n",
    "<h2><center> Taller 3: Métricas grupales, Aequitas </center></h2>\n",
    "\n"
   ]
  },
  {
   "cell_type": "markdown",
   "metadata": {},
   "source": [
    "El objetivo de este taller es introducir el toolkit `Aequitas` y métricas grupales asociadas a fairness. En particular, veremos cómo obtener algunas métricas grupales que nos sirven para evaluar el comportamiento del algoritmo en los distintos grupos, primero mediante matrices de confusión (sklearn) y luego mediante `Aequitas`.\n",
    "\n",
    "**Recomendación**: Leer el paper de Aequitas [1]. Pueden encontrarlo en el Github del taller, sección Material Extra.\n",
    "\n",
    "[1] Saleiro, P., Kuester, B., Stevens, A., Anisfeld, A., Hinkson, L., London, J., & Ghani, R. (2018). Aequitas: A Bias and Fairness Audit Toolkit. CoRR, abs/1811.05577. http://arxiv.org/abs/1811.05577"
   ]
  },
  {
   "cell_type": "markdown",
   "metadata": {},
   "source": [
    "## Imports"
   ]
  },
  {
   "cell_type": "code",
   "execution_count": null,
   "metadata": {
    "executionInfo": {
     "elapsed": 3710,
     "status": "ok",
     "timestamp": 1711653396705,
     "user": {
      "displayName": "Diego Rodríguez",
      "userId": "02273920844464973837"
     },
     "user_tz": 180
    },
    "id": "DTRglEQvGSLM"
   },
   "outputs": [],
   "source": [
    "import pandas as pd\n",
    "\n",
    "from matplotlib import pyplot as plt\n",
    "\n",
    "from sklearn.metrics import confusion_matrix, ConfusionMatrixDisplay\n",
    "\n",
    "from aequitas.group import Group\n",
    "\n",
    "import warnings\n",
    "\n",
    "warnings.filterwarnings(\"ignore\")"
   ]
  },
  {
   "cell_type": "markdown",
   "metadata": {},
   "source": [
    "Ejecutar lo siguiente en consola para instalar `Aequitas`\n",
    "\n",
    "```python\n",
    "py -m pip install aequitas\n",
    "python3 -m pip install aequitas\n",
    "```"
   ]
  },
  {
   "cell_type": "markdown",
   "metadata": {},
   "source": [
    "## Recapitulación del taller pasado"
   ]
  },
  {
   "cell_type": "markdown",
   "metadata": {
    "id": "8ds8fjiifqja"
   },
   "source": [
    "<h2> COMPAS: Correctional Offender Management Profiling for Alternative Sanctions </h2>\n",
    "\n",
    "![imagen](https://static.propublica.org/projects/algorithmic-bias/assets/img/generated/opener-b-crop-960*540-00796e.jpg)\n",
    "<b><h6> Imagen 1 - Machine Bias (ProPublica) </h6></b>\n",
    "\n",
    "- Algoritmo utilizado en el sistema de justicia criminal de Estados Unidos para predecir la probabilidad o riesgo de reincidencia de un acusado.\n",
    "\n",
    "- Tiene por objetivo  ayudar a los jueces a tomar decisiones más informadas sobre el riesgo de reincidencia.\n",
    "\n",
    "Investigación hecha por ProPublica: Existe una clara diferencia en la distribución de los puntajes de riesgo según raza.\n",
    "\n",
    "<b><h3>Links de interés: </h3></b>\n",
    "\n",
    "- [Artículo ProPublica : Machine Bias](https://www.propublica.org/article/machine-bias-risk-assessments-in-criminal-sentencing)\n",
    "\n",
    "- [Metodología](https://www.propublica.org/article/how-we-analyzed-the-compas-recidivism-algorithm)\n",
    "\n",
    "- [Códigos originales de ProPublica](https://github.com/propublica/compas-analysis/tree/master)\n",
    "\n",
    "\n"
   ]
  },
  {
   "cell_type": "code",
   "execution_count": 5,
   "metadata": {
    "colab": {
     "base_uri": "https://localhost:8080/"
    },
    "executionInfo": {
     "elapsed": 425,
     "status": "ok",
     "timestamp": 1711653397120,
     "user": {
      "displayName": "Diego Rodríguez",
      "userId": "02273920844464973837"
     },
     "user_tz": 180
    },
    "id": "OJCeVwSAgds8",
    "outputId": "c4382a50-473f-4a30-f828-6e05eccd2dba"
   },
   "outputs": [
    {
     "data": {
      "text/plain": [
       "(7214, 53)"
      ]
     },
     "execution_count": 5,
     "metadata": {},
     "output_type": "execute_result"
    }
   ],
   "source": [
    "compas = pd.read_csv(\n",
    "    \"https://raw.githubusercontent.com/propublica/compas-analysis/master/compas-scores-two-years.csv\"\n",
    ")\n",
    "\n",
    "\n",
    "compas.shape"
   ]
  },
  {
   "cell_type": "code",
   "execution_count": 6,
   "metadata": {
    "colab": {
     "base_uri": "https://localhost:8080/",
     "height": 342
    },
    "executionInfo": {
     "elapsed": 20,
     "status": "ok",
     "timestamp": 1711653397120,
     "user": {
      "displayName": "Diego Rodríguez",
      "userId": "02273920844464973837"
     },
     "user_tz": 180
    },
    "id": "rt9_ISPzn8IV",
    "outputId": "fc9a0a16-2c8b-4d35-b983-af86c53ca24e"
   },
   "outputs": [
    {
     "data": {
      "text/html": [
       "<div>\n",
       "<style scoped>\n",
       "    .dataframe tbody tr th:only-of-type {\n",
       "        vertical-align: middle;\n",
       "    }\n",
       "\n",
       "    .dataframe tbody tr th {\n",
       "        vertical-align: top;\n",
       "    }\n",
       "\n",
       "    .dataframe thead th {\n",
       "        text-align: right;\n",
       "    }\n",
       "</style>\n",
       "<table border=\"1\" class=\"dataframe\">\n",
       "  <thead>\n",
       "    <tr style=\"text-align: right;\">\n",
       "      <th></th>\n",
       "      <th>id</th>\n",
       "      <th>name</th>\n",
       "      <th>first</th>\n",
       "      <th>last</th>\n",
       "      <th>compas_screening_date</th>\n",
       "      <th>sex</th>\n",
       "      <th>dob</th>\n",
       "      <th>age</th>\n",
       "      <th>age_cat</th>\n",
       "      <th>race</th>\n",
       "      <th>...</th>\n",
       "      <th>v_decile_score</th>\n",
       "      <th>v_score_text</th>\n",
       "      <th>v_screening_date</th>\n",
       "      <th>in_custody</th>\n",
       "      <th>out_custody</th>\n",
       "      <th>priors_count.1</th>\n",
       "      <th>start</th>\n",
       "      <th>end</th>\n",
       "      <th>event</th>\n",
       "      <th>two_year_recid</th>\n",
       "    </tr>\n",
       "  </thead>\n",
       "  <tbody>\n",
       "    <tr>\n",
       "      <th>0</th>\n",
       "      <td>1</td>\n",
       "      <td>miguel hernandez</td>\n",
       "      <td>miguel</td>\n",
       "      <td>hernandez</td>\n",
       "      <td>2013-08-14</td>\n",
       "      <td>Male</td>\n",
       "      <td>1947-04-18</td>\n",
       "      <td>69</td>\n",
       "      <td>Greater than 45</td>\n",
       "      <td>Other</td>\n",
       "      <td>...</td>\n",
       "      <td>1</td>\n",
       "      <td>Low</td>\n",
       "      <td>2013-08-14</td>\n",
       "      <td>2014-07-07</td>\n",
       "      <td>2014-07-14</td>\n",
       "      <td>0</td>\n",
       "      <td>0</td>\n",
       "      <td>327</td>\n",
       "      <td>0</td>\n",
       "      <td>0</td>\n",
       "    </tr>\n",
       "    <tr>\n",
       "      <th>1</th>\n",
       "      <td>3</td>\n",
       "      <td>kevon dixon</td>\n",
       "      <td>kevon</td>\n",
       "      <td>dixon</td>\n",
       "      <td>2013-01-27</td>\n",
       "      <td>Male</td>\n",
       "      <td>1982-01-22</td>\n",
       "      <td>34</td>\n",
       "      <td>25 - 45</td>\n",
       "      <td>African-American</td>\n",
       "      <td>...</td>\n",
       "      <td>1</td>\n",
       "      <td>Low</td>\n",
       "      <td>2013-01-27</td>\n",
       "      <td>2013-01-26</td>\n",
       "      <td>2013-02-05</td>\n",
       "      <td>0</td>\n",
       "      <td>9</td>\n",
       "      <td>159</td>\n",
       "      <td>1</td>\n",
       "      <td>1</td>\n",
       "    </tr>\n",
       "    <tr>\n",
       "      <th>2</th>\n",
       "      <td>4</td>\n",
       "      <td>ed philo</td>\n",
       "      <td>ed</td>\n",
       "      <td>philo</td>\n",
       "      <td>2013-04-14</td>\n",
       "      <td>Male</td>\n",
       "      <td>1991-05-14</td>\n",
       "      <td>24</td>\n",
       "      <td>Less than 25</td>\n",
       "      <td>African-American</td>\n",
       "      <td>...</td>\n",
       "      <td>3</td>\n",
       "      <td>Low</td>\n",
       "      <td>2013-04-14</td>\n",
       "      <td>2013-06-16</td>\n",
       "      <td>2013-06-16</td>\n",
       "      <td>4</td>\n",
       "      <td>0</td>\n",
       "      <td>63</td>\n",
       "      <td>0</td>\n",
       "      <td>1</td>\n",
       "    </tr>\n",
       "    <tr>\n",
       "      <th>3</th>\n",
       "      <td>5</td>\n",
       "      <td>marcu brown</td>\n",
       "      <td>marcu</td>\n",
       "      <td>brown</td>\n",
       "      <td>2013-01-13</td>\n",
       "      <td>Male</td>\n",
       "      <td>1993-01-21</td>\n",
       "      <td>23</td>\n",
       "      <td>Less than 25</td>\n",
       "      <td>African-American</td>\n",
       "      <td>...</td>\n",
       "      <td>6</td>\n",
       "      <td>Medium</td>\n",
       "      <td>2013-01-13</td>\n",
       "      <td>NaN</td>\n",
       "      <td>NaN</td>\n",
       "      <td>1</td>\n",
       "      <td>0</td>\n",
       "      <td>1174</td>\n",
       "      <td>0</td>\n",
       "      <td>0</td>\n",
       "    </tr>\n",
       "    <tr>\n",
       "      <th>4</th>\n",
       "      <td>6</td>\n",
       "      <td>bouthy pierrelouis</td>\n",
       "      <td>bouthy</td>\n",
       "      <td>pierrelouis</td>\n",
       "      <td>2013-03-26</td>\n",
       "      <td>Male</td>\n",
       "      <td>1973-01-22</td>\n",
       "      <td>43</td>\n",
       "      <td>25 - 45</td>\n",
       "      <td>Other</td>\n",
       "      <td>...</td>\n",
       "      <td>1</td>\n",
       "      <td>Low</td>\n",
       "      <td>2013-03-26</td>\n",
       "      <td>NaN</td>\n",
       "      <td>NaN</td>\n",
       "      <td>2</td>\n",
       "      <td>0</td>\n",
       "      <td>1102</td>\n",
       "      <td>0</td>\n",
       "      <td>0</td>\n",
       "    </tr>\n",
       "  </tbody>\n",
       "</table>\n",
       "<p>5 rows × 53 columns</p>\n",
       "</div>"
      ],
      "text/plain": [
       "   id                name   first         last compas_screening_date   sex  \\\n",
       "0   1    miguel hernandez  miguel    hernandez            2013-08-14  Male   \n",
       "1   3         kevon dixon   kevon        dixon            2013-01-27  Male   \n",
       "2   4            ed philo      ed        philo            2013-04-14  Male   \n",
       "3   5         marcu brown   marcu        brown            2013-01-13  Male   \n",
       "4   6  bouthy pierrelouis  bouthy  pierrelouis            2013-03-26  Male   \n",
       "\n",
       "          dob  age          age_cat              race  ...  v_decile_score  \\\n",
       "0  1947-04-18   69  Greater than 45             Other  ...               1   \n",
       "1  1982-01-22   34          25 - 45  African-American  ...               1   \n",
       "2  1991-05-14   24     Less than 25  African-American  ...               3   \n",
       "3  1993-01-21   23     Less than 25  African-American  ...               6   \n",
       "4  1973-01-22   43          25 - 45             Other  ...               1   \n",
       "\n",
       "   v_score_text  v_screening_date  in_custody  out_custody  priors_count.1  \\\n",
       "0           Low        2013-08-14  2014-07-07   2014-07-14               0   \n",
       "1           Low        2013-01-27  2013-01-26   2013-02-05               0   \n",
       "2           Low        2013-04-14  2013-06-16   2013-06-16               4   \n",
       "3        Medium        2013-01-13         NaN          NaN               1   \n",
       "4           Low        2013-03-26         NaN          NaN               2   \n",
       "\n",
       "  start   end event two_year_recid  \n",
       "0     0   327     0              0  \n",
       "1     9   159     1              1  \n",
       "2     0    63     0              1  \n",
       "3     0  1174     0              0  \n",
       "4     0  1102     0              0  \n",
       "\n",
       "[5 rows x 53 columns]"
      ]
     },
     "execution_count": 6,
     "metadata": {},
     "output_type": "execute_result"
    }
   ],
   "source": [
    "compas.head()"
   ]
  },
  {
   "cell_type": "markdown",
   "metadata": {
    "id": "5Fy-7oWplFhK"
   },
   "source": [
    "## Columnas de interés:\n",
    "\n",
    "1. `age` - Edad del acusado. Variable numérica.\n",
    "2. `age_cat` - Categoría de edad. Puede ser < 25, 25-45, >45.\n",
    "3. `sex` - Sexo del acusado. Puede ser  'Male' o 'Female'.\n",
    "4. `race` - Raza del acusado. Puede ser 'African-American', 'Caucasian', 'Hispanic', 'Asian', o 'Other'.\n",
    "5. `c_charge_degree` - Grado del crimen. Es o bien M (Misdemeanor), F (Felony), o O (Ordinary traffic offense).\n",
    "6. `priors_count` - Número de crimenes anteriores cometidos por el acusado. Variable numérica.\n",
    "7. `days_b_screening_arrest` - Días entre el arresto y la fecha del cargo por el delito registrado en COMPAS.\n",
    "8. `decile_score` - Puntaje COMPAS predicho por el sistema. Toma valores entre 0 y 10.\n",
    "9. `score_text` - Categoria de decile_score. Puede Low (1-4), Medium (5-7), y High (8-10).\n",
    "10. `is_recid` - Variable que indica si un acusado es reincidente o no. Puede tomar valores 1, 0 o -1.\n",
    "11. `two_year_recid` - Variable que indica si un acusado tuvo reincidencia dentro de un periodo de dos años.\n",
    "12. `c_jail_in` - Momento en que el acusado fue ingresado a la carcel.\n",
    "13. `c_jail_out` - Momento en que el acusado fue liberado de la carcel."
   ]
  },
  {
   "cell_type": "code",
   "execution_count": 7,
   "metadata": {
    "executionInfo": {
     "elapsed": 18,
     "status": "ok",
     "timestamp": 1711653397121,
     "user": {
      "displayName": "Diego Rodríguez",
      "userId": "02273920844464973837"
     },
     "user_tz": 180
    },
    "id": "M1MUoBHcjlnL"
   },
   "outputs": [],
   "source": [
    "# Mantenemos las columnas de interés.\n",
    "\n",
    "columns = [\n",
    "    \"age\",\n",
    "    \"c_charge_degree\",\n",
    "    \"race\",\n",
    "    \"age_cat\",\n",
    "    \"score_text\",\n",
    "    \"sex\",\n",
    "    \"priors_count\",\n",
    "    \"days_b_screening_arrest\",\n",
    "    \"decile_score\",\n",
    "    \"is_recid\",\n",
    "    \"two_year_recid\",\n",
    "    \"c_jail_in\",\n",
    "    \"c_jail_out\",\n",
    "]\n",
    "\n",
    "compas = compas[columns]"
   ]
  },
  {
   "cell_type": "markdown",
   "metadata": {
    "id": "basxaHnXwtFV"
   },
   "source": [
    "En la metodología propuesta por ProPublica (revisar <b>Links de interés</b>) se presentan los siguientes criterios para realizar la limpieza de los datos:\n",
    "\n",
    "- Si la fecha del cargo por el delito de un acusado evaluado por COMPAS no estaba dentro de los 30 días desde el momento en que la persona fue arrestada, asumimos que, debido a razones de calidad de datos, no tenemos el delito correcto.\n",
    "\n",
    "- Según se indica en el código publicado por ProPublica, se etiquetó con ```is_recid = -1``` los casos para los cuales no se encontró el caso de COMPAS.\n",
    "\n",
    "- En una línea similar, se eliminan las infracciones de tráfico comunes (aquellas con un grado de ```c_charge_degree``` <b>'O'</b>), que no resultarían en tiempo de prisión.\n"
   ]
  },
  {
   "cell_type": "code",
   "execution_count": 8,
   "metadata": {
    "colab": {
     "base_uri": "https://localhost:8080/"
    },
    "executionInfo": {
     "elapsed": 34,
     "status": "ok",
     "timestamp": 1711653397454,
     "user": {
      "displayName": "Diego Rodríguez",
      "userId": "02273920844464973837"
     },
     "user_tz": 180
    },
    "id": "NQKIEGGkzeKj",
    "outputId": "61da8d19-a312-4aa5-aa42-2105a168885b"
   },
   "outputs": [
    {
     "data": {
      "text/plain": [
       "(6172, 13)"
      ]
     },
     "execution_count": 8,
     "metadata": {},
     "output_type": "execute_result"
    }
   ],
   "source": [
    "clean_df = compas[\n",
    "    (\n",
    "        (compas[\"days_b_screening_arrest\"] <= 30)\n",
    "        & (compas[\"days_b_screening_arrest\"] >= -30)\n",
    "        & (compas[\"is_recid\"] != -1)\n",
    "        & (compas[\"c_charge_degree\"] != \"O\")\n",
    "    )\n",
    "]\n",
    "\n",
    "\n",
    "clean_df.shape"
   ]
  },
  {
   "cell_type": "code",
   "execution_count": 9,
   "metadata": {
    "colab": {
     "base_uri": "https://localhost:8080/"
    },
    "executionInfo": {
     "elapsed": 20,
     "status": "ok",
     "timestamp": 1711653397455,
     "user": {
      "displayName": "Diego Rodríguez",
      "userId": "02273920844464973837"
     },
     "user_tz": 180
    },
    "id": "-HaWd8ju6V-5",
    "outputId": "508f9bb2-5d9b-4e04-eff5-668dd9843427"
   },
   "outputs": [
    {
     "data": {
      "text/plain": [
       "(7214, 13)"
      ]
     },
     "execution_count": 9,
     "metadata": {},
     "output_type": "execute_result"
    }
   ],
   "source": [
    "compas.shape"
   ]
  },
  {
   "cell_type": "code",
   "execution_count": 10,
   "metadata": {
    "colab": {
     "base_uri": "https://localhost:8080/"
    },
    "executionInfo": {
     "elapsed": 17,
     "status": "ok",
     "timestamp": 1711653397455,
     "user": {
      "displayName": "Diego Rodríguez",
      "userId": "02273920844464973837"
     },
     "user_tz": 180
    },
    "id": "dVL-ZBpC6fzL",
    "outputId": "65b453af-6398-40eb-f2c6-75b8463e3a91"
   },
   "outputs": [
    {
     "name": "stdout",
     "output_type": "stream",
     "text": [
      "Se eliminaron 1042 registros.\n"
     ]
    }
   ],
   "source": [
    "print(f\"Se eliminaron {compas.shape[0] - clean_df.shape[0]} registros.\")"
   ]
  },
  {
   "cell_type": "code",
   "execution_count": 11,
   "metadata": {
    "colab": {
     "base_uri": "https://localhost:8080/"
    },
    "executionInfo": {
     "elapsed": 397,
     "status": "ok",
     "timestamp": 1711653397842,
     "user": {
      "displayName": "Diego Rodríguez",
      "userId": "02273920844464973837"
     },
     "user_tz": 180
    },
    "id": "RkGdDRqHpACb",
    "outputId": "af0d4651-4d72-4869-efac-1a606abac896"
   },
   "outputs": [
    {
     "name": "stdout",
     "output_type": "stream",
     "text": [
      "<class 'pandas.core.frame.DataFrame'>\n",
      "Index: 6172 entries, 0 to 7213\n",
      "Data columns (total 13 columns):\n",
      " #   Column                   Non-Null Count  Dtype  \n",
      "---  ------                   --------------  -----  \n",
      " 0   age                      6172 non-null   int64  \n",
      " 1   c_charge_degree          6172 non-null   object \n",
      " 2   race                     6172 non-null   object \n",
      " 3   age_cat                  6172 non-null   object \n",
      " 4   score_text               6172 non-null   object \n",
      " 5   sex                      6172 non-null   object \n",
      " 6   priors_count             6172 non-null   int64  \n",
      " 7   days_b_screening_arrest  6172 non-null   float64\n",
      " 8   decile_score             6172 non-null   int64  \n",
      " 9   is_recid                 6172 non-null   int64  \n",
      " 10  two_year_recid           6172 non-null   int64  \n",
      " 11  c_jail_in                6172 non-null   object \n",
      " 12  c_jail_out               6172 non-null   object \n",
      "dtypes: float64(1), int64(5), object(7)\n",
      "memory usage: 675.1+ KB\n"
     ]
    }
   ],
   "source": [
    "clean_df.info()"
   ]
  },
  {
   "cell_type": "code",
   "execution_count": 12,
   "metadata": {
    "executionInfo": {
     "elapsed": 8,
     "status": "ok",
     "timestamp": 1711653397842,
     "user": {
      "displayName": "Diego Rodríguez",
      "userId": "02273920844464973837"
     },
     "user_tz": 180
    },
    "id": "QgeWQaxJY-fi"
   },
   "outputs": [],
   "source": [
    "age_count = clean_df[\"age_cat\"].value_counts(normalize=True) * 100\n",
    "race_count = clean_df[\"race\"].value_counts(normalize=True) * 100\n",
    "sex_count = clean_df[\"sex\"].value_counts(normalize=True) * 100"
   ]
  },
  {
   "cell_type": "markdown",
   "metadata": {
    "id": "hTPwwqBhmoCH"
   },
   "source": [
    "## Pre - procesamiento (del taller previo)\n"
   ]
  },
  {
   "cell_type": "code",
   "execution_count": 13,
   "metadata": {
    "colab": {
     "base_uri": "https://localhost:8080/"
    },
    "executionInfo": {
     "elapsed": 447,
     "status": "ok",
     "timestamp": 1711653422270,
     "user": {
      "displayName": "Diego Rodríguez",
      "userId": "02273920844464973837"
     },
     "user_tz": 180
    },
    "id": "jlSvu04kY5yu",
    "outputId": "99998329-3239-45e0-e6f5-8613c97e260c"
   },
   "outputs": [
    {
     "name": "stdout",
     "output_type": "stream",
     "text": [
      "<class 'pandas.core.frame.DataFrame'>\n",
      "Index: 6172 entries, 0 to 7213\n",
      "Data columns (total 13 columns):\n",
      " #   Column                   Non-Null Count  Dtype  \n",
      "---  ------                   --------------  -----  \n",
      " 0   age                      6172 non-null   int64  \n",
      " 1   c_charge_degree          6172 non-null   object \n",
      " 2   race                     6172 non-null   object \n",
      " 3   age_cat                  6172 non-null   object \n",
      " 4   score_text               6172 non-null   object \n",
      " 5   sex                      6172 non-null   object \n",
      " 6   priors_count             6172 non-null   int64  \n",
      " 7   days_b_screening_arrest  6172 non-null   float64\n",
      " 8   decile_score             6172 non-null   int64  \n",
      " 9   is_recid                 6172 non-null   int64  \n",
      " 10  two_year_recid           6172 non-null   int64  \n",
      " 11  c_jail_in                6172 non-null   object \n",
      " 12  c_jail_out               6172 non-null   object \n",
      "dtypes: float64(1), int64(5), object(7)\n",
      "memory usage: 675.1+ KB\n"
     ]
    }
   ],
   "source": [
    "clean_df.info()"
   ]
  },
  {
   "cell_type": "code",
   "execution_count": 14,
   "metadata": {
    "colab": {
     "base_uri": "https://localhost:8080/"
    },
    "executionInfo": {
     "elapsed": 29,
     "status": "ok",
     "timestamp": 1711653422271,
     "user": {
      "displayName": "Diego Rodríguez",
      "userId": "02273920844464973837"
     },
     "user_tz": 180
    },
    "id": "HgDZO5Cfgpz6",
    "outputId": "26da367a-2298-402f-a5cd-2a1cb294d07c"
   },
   "outputs": [
    {
     "name": "stdout",
     "output_type": "stream",
     "text": [
      "Columna c_charge_degree: ['F' 'M']\n",
      "Columna race: ['Other' 'African-American' 'Caucasian' 'Hispanic' 'Asian'\n",
      " 'Native American']\n",
      "Columna age_cat: ['Greater than 45' '25 - 45' 'Less than 25']\n",
      "Columna score_text: ['Low' 'Medium' 'High']\n",
      "Columna sex: ['Male' 'Female']\n",
      "Columna c_jail_in: ['2013-08-13 06:03:42' '2013-01-26 03:45:27' '2013-04-13 04:58:34' ...\n",
      " '2014-01-13 05:48:01' '2014-03-08 08:06:02' '2014-06-28 12:16:41']\n",
      "Columna c_jail_out: ['2013-08-14 05:41:20' '2013-02-05 05:36:53' '2013-04-14 07:02:04' ...\n",
      " '2014-01-14 07:49:46' '2014-03-09 12:18:04' '2014-06-30 11:19:23']\n"
     ]
    }
   ],
   "source": [
    "object_columns = clean_df.select_dtypes(include=\"object\").columns\n",
    "for objcol in object_columns:\n",
    "    print(f\"Columna {objcol}: {clean_df[objcol].unique()}\")"
   ]
  },
  {
   "cell_type": "code",
   "execution_count": null,
   "metadata": {
    "executionInfo": {
     "elapsed": 20,
     "status": "ok",
     "timestamp": 1711653422271,
     "user": {
      "displayName": "Diego Rodríguez",
      "userId": "02273920844464973837"
     },
     "user_tz": 180
    },
    "id": "4sTYIqwihSdH"
   },
   "outputs": [],
   "source": [
    "object_columns = [\n",
    "    x\n",
    "    for x in clean_df.select_dtypes(include=\"object\").columns\n",
    "    if x != \"c_jail_in\" and x != \"c_jail_out\"\n",
    "]\n",
    "\n",
    "\n",
    "for objcol in object_columns:\n",
    "\n",
    "    clean_df[objcol] = clean_df[objcol].astype(\"category\")"
   ]
  },
  {
   "cell_type": "code",
   "execution_count": 16,
   "metadata": {
    "colab": {
     "base_uri": "https://localhost:8080/"
    },
    "executionInfo": {
     "elapsed": 19,
     "status": "ok",
     "timestamp": 1711653422271,
     "user": {
      "displayName": "Diego Rodríguez",
      "userId": "02273920844464973837"
     },
     "user_tz": 180
    },
    "id": "D-GlzwKwhpua",
    "outputId": "a81a2f40-0166-407d-9c1d-4d0b1a8b34b9"
   },
   "outputs": [
    {
     "name": "stdout",
     "output_type": "stream",
     "text": [
      "<class 'pandas.core.frame.DataFrame'>\n",
      "Index: 6172 entries, 0 to 7213\n",
      "Data columns (total 13 columns):\n",
      " #   Column                   Non-Null Count  Dtype   \n",
      "---  ------                   --------------  -----   \n",
      " 0   age                      6172 non-null   int64   \n",
      " 1   c_charge_degree          6172 non-null   category\n",
      " 2   race                     6172 non-null   category\n",
      " 3   age_cat                  6172 non-null   category\n",
      " 4   score_text               6172 non-null   category\n",
      " 5   sex                      6172 non-null   category\n",
      " 6   priors_count             6172 non-null   int64   \n",
      " 7   days_b_screening_arrest  6172 non-null   float64 \n",
      " 8   decile_score             6172 non-null   int64   \n",
      " 9   is_recid                 6172 non-null   int64   \n",
      " 10  two_year_recid           6172 non-null   int64   \n",
      " 11  c_jail_in                6172 non-null   object  \n",
      " 12  c_jail_out               6172 non-null   object  \n",
      "dtypes: category(5), float64(1), int64(5), object(2)\n",
      "memory usage: 464.8+ KB\n"
     ]
    }
   ],
   "source": [
    "clean_df.info()"
   ]
  },
  {
   "cell_type": "code",
   "execution_count": 17,
   "metadata": {
    "colab": {
     "base_uri": "https://localhost:8080/",
     "height": 206
    },
    "executionInfo": {
     "elapsed": 430,
     "status": "ok",
     "timestamp": 1711653422689,
     "user": {
      "displayName": "Diego Rodríguez",
      "userId": "02273920844464973837"
     },
     "user_tz": 180
    },
    "id": "cW-spGLPh7IP",
    "outputId": "d89484f5-9635-4a70-c936-6c21c47629ea"
   },
   "outputs": [
    {
     "data": {
      "text/html": [
       "<div>\n",
       "<style scoped>\n",
       "    .dataframe tbody tr th:only-of-type {\n",
       "        vertical-align: middle;\n",
       "    }\n",
       "\n",
       "    .dataframe tbody tr th {\n",
       "        vertical-align: top;\n",
       "    }\n",
       "\n",
       "    .dataframe thead th {\n",
       "        text-align: right;\n",
       "    }\n",
       "</style>\n",
       "<table border=\"1\" class=\"dataframe\">\n",
       "  <thead>\n",
       "    <tr style=\"text-align: right;\">\n",
       "      <th></th>\n",
       "      <th>age</th>\n",
       "      <th>c_charge_degree</th>\n",
       "      <th>race</th>\n",
       "      <th>age_cat</th>\n",
       "      <th>score_text</th>\n",
       "      <th>sex</th>\n",
       "      <th>priors_count</th>\n",
       "      <th>days_b_screening_arrest</th>\n",
       "      <th>decile_score</th>\n",
       "      <th>is_recid</th>\n",
       "      <th>two_year_recid</th>\n",
       "      <th>c_jail_in</th>\n",
       "      <th>c_jail_out</th>\n",
       "    </tr>\n",
       "  </thead>\n",
       "  <tbody>\n",
       "    <tr>\n",
       "      <th>0</th>\n",
       "      <td>69</td>\n",
       "      <td>F</td>\n",
       "      <td>Other</td>\n",
       "      <td>Greater than 45</td>\n",
       "      <td>Low</td>\n",
       "      <td>Male</td>\n",
       "      <td>0</td>\n",
       "      <td>-1.0</td>\n",
       "      <td>1</td>\n",
       "      <td>0</td>\n",
       "      <td>0</td>\n",
       "      <td>2013-08-13 06:03:42</td>\n",
       "      <td>2013-08-14 05:41:20</td>\n",
       "    </tr>\n",
       "    <tr>\n",
       "      <th>1</th>\n",
       "      <td>34</td>\n",
       "      <td>F</td>\n",
       "      <td>African-American</td>\n",
       "      <td>25 - 45</td>\n",
       "      <td>Low</td>\n",
       "      <td>Male</td>\n",
       "      <td>0</td>\n",
       "      <td>-1.0</td>\n",
       "      <td>3</td>\n",
       "      <td>1</td>\n",
       "      <td>1</td>\n",
       "      <td>2013-01-26 03:45:27</td>\n",
       "      <td>2013-02-05 05:36:53</td>\n",
       "    </tr>\n",
       "    <tr>\n",
       "      <th>2</th>\n",
       "      <td>24</td>\n",
       "      <td>F</td>\n",
       "      <td>African-American</td>\n",
       "      <td>Less than 25</td>\n",
       "      <td>Low</td>\n",
       "      <td>Male</td>\n",
       "      <td>4</td>\n",
       "      <td>-1.0</td>\n",
       "      <td>4</td>\n",
       "      <td>1</td>\n",
       "      <td>1</td>\n",
       "      <td>2013-04-13 04:58:34</td>\n",
       "      <td>2013-04-14 07:02:04</td>\n",
       "    </tr>\n",
       "    <tr>\n",
       "      <th>5</th>\n",
       "      <td>44</td>\n",
       "      <td>M</td>\n",
       "      <td>Other</td>\n",
       "      <td>25 - 45</td>\n",
       "      <td>Low</td>\n",
       "      <td>Male</td>\n",
       "      <td>0</td>\n",
       "      <td>0.0</td>\n",
       "      <td>1</td>\n",
       "      <td>0</td>\n",
       "      <td>0</td>\n",
       "      <td>2013-11-30 04:50:18</td>\n",
       "      <td>2013-12-01 12:28:56</td>\n",
       "    </tr>\n",
       "    <tr>\n",
       "      <th>6</th>\n",
       "      <td>41</td>\n",
       "      <td>F</td>\n",
       "      <td>Caucasian</td>\n",
       "      <td>25 - 45</td>\n",
       "      <td>Medium</td>\n",
       "      <td>Male</td>\n",
       "      <td>14</td>\n",
       "      <td>-1.0</td>\n",
       "      <td>6</td>\n",
       "      <td>1</td>\n",
       "      <td>1</td>\n",
       "      <td>2014-02-18 05:08:24</td>\n",
       "      <td>2014-02-24 12:18:30</td>\n",
       "    </tr>\n",
       "  </tbody>\n",
       "</table>\n",
       "</div>"
      ],
      "text/plain": [
       "   age c_charge_degree              race          age_cat score_text   sex  \\\n",
       "0   69               F             Other  Greater than 45        Low  Male   \n",
       "1   34               F  African-American          25 - 45        Low  Male   \n",
       "2   24               F  African-American     Less than 25        Low  Male   \n",
       "5   44               M             Other          25 - 45        Low  Male   \n",
       "6   41               F         Caucasian          25 - 45     Medium  Male   \n",
       "\n",
       "   priors_count  days_b_screening_arrest  decile_score  is_recid  \\\n",
       "0             0                     -1.0             1         0   \n",
       "1             0                     -1.0             3         1   \n",
       "2             4                     -1.0             4         1   \n",
       "5             0                      0.0             1         0   \n",
       "6            14                     -1.0             6         1   \n",
       "\n",
       "   two_year_recid            c_jail_in           c_jail_out  \n",
       "0               0  2013-08-13 06:03:42  2013-08-14 05:41:20  \n",
       "1               1  2013-01-26 03:45:27  2013-02-05 05:36:53  \n",
       "2               1  2013-04-13 04:58:34  2013-04-14 07:02:04  \n",
       "5               0  2013-11-30 04:50:18  2013-12-01 12:28:56  \n",
       "6               1  2014-02-18 05:08:24  2014-02-24 12:18:30  "
      ]
     },
     "execution_count": 17,
     "metadata": {},
     "output_type": "execute_result"
    }
   ],
   "source": [
    "clean_df.head()"
   ]
  },
  {
   "cell_type": "code",
   "execution_count": 18,
   "metadata": {
    "colab": {
     "base_uri": "https://localhost:8080/",
     "height": 206
    },
    "executionInfo": {
     "elapsed": 20,
     "status": "ok",
     "timestamp": 1711653422691,
     "user": {
      "displayName": "Diego Rodríguez",
      "userId": "02273920844464973837"
     },
     "user_tz": 180
    },
    "id": "uFAmkIfcwxjM",
    "outputId": "166c11e5-ef9d-4ca0-8b7c-529bb25217ad"
   },
   "outputs": [
    {
     "data": {
      "text/html": [
       "<div>\n",
       "<style scoped>\n",
       "    .dataframe tbody tr th:only-of-type {\n",
       "        vertical-align: middle;\n",
       "    }\n",
       "\n",
       "    .dataframe tbody tr th {\n",
       "        vertical-align: top;\n",
       "    }\n",
       "\n",
       "    .dataframe thead th {\n",
       "        text-align: right;\n",
       "    }\n",
       "</style>\n",
       "<table border=\"1\" class=\"dataframe\">\n",
       "  <thead>\n",
       "    <tr style=\"text-align: right;\">\n",
       "      <th></th>\n",
       "      <th>African-American</th>\n",
       "      <th>Asian</th>\n",
       "      <th>Caucasian</th>\n",
       "      <th>Hispanic</th>\n",
       "      <th>Native American</th>\n",
       "      <th>Other</th>\n",
       "    </tr>\n",
       "  </thead>\n",
       "  <tbody>\n",
       "    <tr>\n",
       "      <th>0</th>\n",
       "      <td>False</td>\n",
       "      <td>False</td>\n",
       "      <td>False</td>\n",
       "      <td>False</td>\n",
       "      <td>False</td>\n",
       "      <td>True</td>\n",
       "    </tr>\n",
       "    <tr>\n",
       "      <th>1</th>\n",
       "      <td>True</td>\n",
       "      <td>False</td>\n",
       "      <td>False</td>\n",
       "      <td>False</td>\n",
       "      <td>False</td>\n",
       "      <td>False</td>\n",
       "    </tr>\n",
       "    <tr>\n",
       "      <th>2</th>\n",
       "      <td>True</td>\n",
       "      <td>False</td>\n",
       "      <td>False</td>\n",
       "      <td>False</td>\n",
       "      <td>False</td>\n",
       "      <td>False</td>\n",
       "    </tr>\n",
       "    <tr>\n",
       "      <th>5</th>\n",
       "      <td>False</td>\n",
       "      <td>False</td>\n",
       "      <td>False</td>\n",
       "      <td>False</td>\n",
       "      <td>False</td>\n",
       "      <td>True</td>\n",
       "    </tr>\n",
       "    <tr>\n",
       "      <th>6</th>\n",
       "      <td>False</td>\n",
       "      <td>False</td>\n",
       "      <td>True</td>\n",
       "      <td>False</td>\n",
       "      <td>False</td>\n",
       "      <td>False</td>\n",
       "    </tr>\n",
       "  </tbody>\n",
       "</table>\n",
       "</div>"
      ],
      "text/plain": [
       "   African-American  Asian  Caucasian  Hispanic  Native American  Other\n",
       "0             False  False      False     False            False   True\n",
       "1              True  False      False     False            False  False\n",
       "2              True  False      False     False            False  False\n",
       "5             False  False      False     False            False   True\n",
       "6             False  False       True     False            False  False"
      ]
     },
     "execution_count": 18,
     "metadata": {},
     "output_type": "execute_result"
    }
   ],
   "source": [
    "pd.get_dummies(clean_df[\"race\"]).head()"
   ]
  },
  {
   "cell_type": "code",
   "execution_count": 19,
   "metadata": {
    "executionInfo": {
     "elapsed": 18,
     "status": "ok",
     "timestamp": 1711653422693,
     "user": {
      "displayName": "Diego Rodríguez",
      "userId": "02273920844464973837"
     },
     "user_tz": 180
    },
    "id": "hLdAwo3PjTbN"
   },
   "outputs": [],
   "source": [
    "post_df = clean_df.copy()"
   ]
  },
  {
   "cell_type": "code",
   "execution_count": 20,
   "metadata": {
    "executionInfo": {
     "elapsed": 18,
     "status": "ok",
     "timestamp": 1711653422694,
     "user": {
      "displayName": "Diego Rodríguez",
      "userId": "02273920844464973837"
     },
     "user_tz": 180
    },
    "id": "EAY6U5e8od8p"
   },
   "outputs": [],
   "source": [
    "dummies = pd.get_dummies(post_df[\"race\"])\n",
    "post_df = pd.concat([post_df, dummies], axis=1)\n",
    "post_df.drop(columns=[\"race\", \"Caucasian\"], inplace=True)"
   ]
  },
  {
   "cell_type": "code",
   "execution_count": 21,
   "metadata": {
    "colab": {
     "base_uri": "https://localhost:8080/",
     "height": 206
    },
    "executionInfo": {
     "elapsed": 291,
     "status": "ok",
     "timestamp": 1711653422968,
     "user": {
      "displayName": "Diego Rodríguez",
      "userId": "02273920844464973837"
     },
     "user_tz": 180
    },
    "id": "mRppY4BwqDj1",
    "outputId": "582c6801-1bc1-4052-85a7-38c412509835"
   },
   "outputs": [
    {
     "data": {
      "text/html": [
       "<div>\n",
       "<style scoped>\n",
       "    .dataframe tbody tr th:only-of-type {\n",
       "        vertical-align: middle;\n",
       "    }\n",
       "\n",
       "    .dataframe tbody tr th {\n",
       "        vertical-align: top;\n",
       "    }\n",
       "\n",
       "    .dataframe thead th {\n",
       "        text-align: right;\n",
       "    }\n",
       "</style>\n",
       "<table border=\"1\" class=\"dataframe\">\n",
       "  <thead>\n",
       "    <tr style=\"text-align: right;\">\n",
       "      <th></th>\n",
       "      <th>age</th>\n",
       "      <th>c_charge_degree</th>\n",
       "      <th>race</th>\n",
       "      <th>age_cat</th>\n",
       "      <th>score_text</th>\n",
       "      <th>sex</th>\n",
       "      <th>priors_count</th>\n",
       "      <th>days_b_screening_arrest</th>\n",
       "      <th>decile_score</th>\n",
       "      <th>is_recid</th>\n",
       "      <th>two_year_recid</th>\n",
       "      <th>c_jail_in</th>\n",
       "      <th>c_jail_out</th>\n",
       "    </tr>\n",
       "  </thead>\n",
       "  <tbody>\n",
       "    <tr>\n",
       "      <th>0</th>\n",
       "      <td>69</td>\n",
       "      <td>F</td>\n",
       "      <td>Other</td>\n",
       "      <td>Greater than 45</td>\n",
       "      <td>Low</td>\n",
       "      <td>Male</td>\n",
       "      <td>0</td>\n",
       "      <td>-1.0</td>\n",
       "      <td>1</td>\n",
       "      <td>0</td>\n",
       "      <td>0</td>\n",
       "      <td>2013-08-13 06:03:42</td>\n",
       "      <td>2013-08-14 05:41:20</td>\n",
       "    </tr>\n",
       "    <tr>\n",
       "      <th>1</th>\n",
       "      <td>34</td>\n",
       "      <td>F</td>\n",
       "      <td>African-American</td>\n",
       "      <td>25 - 45</td>\n",
       "      <td>Low</td>\n",
       "      <td>Male</td>\n",
       "      <td>0</td>\n",
       "      <td>-1.0</td>\n",
       "      <td>3</td>\n",
       "      <td>1</td>\n",
       "      <td>1</td>\n",
       "      <td>2013-01-26 03:45:27</td>\n",
       "      <td>2013-02-05 05:36:53</td>\n",
       "    </tr>\n",
       "    <tr>\n",
       "      <th>2</th>\n",
       "      <td>24</td>\n",
       "      <td>F</td>\n",
       "      <td>African-American</td>\n",
       "      <td>Less than 25</td>\n",
       "      <td>Low</td>\n",
       "      <td>Male</td>\n",
       "      <td>4</td>\n",
       "      <td>-1.0</td>\n",
       "      <td>4</td>\n",
       "      <td>1</td>\n",
       "      <td>1</td>\n",
       "      <td>2013-04-13 04:58:34</td>\n",
       "      <td>2013-04-14 07:02:04</td>\n",
       "    </tr>\n",
       "    <tr>\n",
       "      <th>5</th>\n",
       "      <td>44</td>\n",
       "      <td>M</td>\n",
       "      <td>Other</td>\n",
       "      <td>25 - 45</td>\n",
       "      <td>Low</td>\n",
       "      <td>Male</td>\n",
       "      <td>0</td>\n",
       "      <td>0.0</td>\n",
       "      <td>1</td>\n",
       "      <td>0</td>\n",
       "      <td>0</td>\n",
       "      <td>2013-11-30 04:50:18</td>\n",
       "      <td>2013-12-01 12:28:56</td>\n",
       "    </tr>\n",
       "    <tr>\n",
       "      <th>6</th>\n",
       "      <td>41</td>\n",
       "      <td>F</td>\n",
       "      <td>Caucasian</td>\n",
       "      <td>25 - 45</td>\n",
       "      <td>Medium</td>\n",
       "      <td>Male</td>\n",
       "      <td>14</td>\n",
       "      <td>-1.0</td>\n",
       "      <td>6</td>\n",
       "      <td>1</td>\n",
       "      <td>1</td>\n",
       "      <td>2014-02-18 05:08:24</td>\n",
       "      <td>2014-02-24 12:18:30</td>\n",
       "    </tr>\n",
       "  </tbody>\n",
       "</table>\n",
       "</div>"
      ],
      "text/plain": [
       "   age c_charge_degree              race          age_cat score_text   sex  \\\n",
       "0   69               F             Other  Greater than 45        Low  Male   \n",
       "1   34               F  African-American          25 - 45        Low  Male   \n",
       "2   24               F  African-American     Less than 25        Low  Male   \n",
       "5   44               M             Other          25 - 45        Low  Male   \n",
       "6   41               F         Caucasian          25 - 45     Medium  Male   \n",
       "\n",
       "   priors_count  days_b_screening_arrest  decile_score  is_recid  \\\n",
       "0             0                     -1.0             1         0   \n",
       "1             0                     -1.0             3         1   \n",
       "2             4                     -1.0             4         1   \n",
       "5             0                      0.0             1         0   \n",
       "6            14                     -1.0             6         1   \n",
       "\n",
       "   two_year_recid            c_jail_in           c_jail_out  \n",
       "0               0  2013-08-13 06:03:42  2013-08-14 05:41:20  \n",
       "1               1  2013-01-26 03:45:27  2013-02-05 05:36:53  \n",
       "2               1  2013-04-13 04:58:34  2013-04-14 07:02:04  \n",
       "5               0  2013-11-30 04:50:18  2013-12-01 12:28:56  \n",
       "6               1  2014-02-18 05:08:24  2014-02-24 12:18:30  "
      ]
     },
     "execution_count": 21,
     "metadata": {},
     "output_type": "execute_result"
    }
   ],
   "source": [
    "clean_df.head()"
   ]
  },
  {
   "cell_type": "code",
   "execution_count": 22,
   "metadata": {
    "executionInfo": {
     "elapsed": 10,
     "status": "ok",
     "timestamp": 1711653422969,
     "user": {
      "displayName": "Diego Rodríguez",
      "userId": "02273920844464973837"
     },
     "user_tz": 180
    },
    "id": "51RZgRuSqEN_"
   },
   "outputs": [],
   "source": [
    "dummies = pd.get_dummies(post_df[\"age_cat\"])\n",
    "post_df = pd.concat([post_df, dummies], axis=1)\n",
    "post_df.drop(columns=[\"age_cat\", \"25 - 45\"], inplace=True)"
   ]
  },
  {
   "cell_type": "code",
   "execution_count": 23,
   "metadata": {
    "executionInfo": {
     "elapsed": 508,
     "status": "ok",
     "timestamp": 1711653423468,
     "user": {
      "displayName": "Diego Rodríguez",
      "userId": "02273920844464973837"
     },
     "user_tz": 180
    },
    "id": "T8_yUZviqUTC"
   },
   "outputs": [],
   "source": [
    "dummies = pd.get_dummies(post_df[\"sex\"])\n",
    "post_df = pd.concat([post_df, dummies], axis=1)\n",
    "post_df.drop(columns=[\"sex\", \"Male\"], inplace=True)"
   ]
  },
  {
   "cell_type": "code",
   "execution_count": 24,
   "metadata": {
    "executionInfo": {
     "elapsed": 21,
     "status": "ok",
     "timestamp": 1711653423469,
     "user": {
      "displayName": "Diego Rodríguez",
      "userId": "02273920844464973837"
     },
     "user_tz": 180
    },
    "id": "VwqfrgYdq69g"
   },
   "outputs": [],
   "source": [
    "dummies = pd.get_dummies(post_df[\"c_charge_degree\"])\n",
    "post_df = pd.concat([post_df, dummies], axis=1)\n",
    "post_df.drop(columns=[\"c_charge_degree\", \"F\"], inplace=True)"
   ]
  },
  {
   "cell_type": "code",
   "execution_count": 25,
   "metadata": {
    "colab": {
     "base_uri": "https://localhost:8080/",
     "height": 327
    },
    "executionInfo": {
     "elapsed": 21,
     "status": "ok",
     "timestamp": 1711653423470,
     "user": {
      "displayName": "Diego Rodríguez",
      "userId": "02273920844464973837"
     },
     "user_tz": 180
    },
    "id": "mQL6-e23tFX2",
    "outputId": "b4db01b1-c443-4a51-b3e9-0459826e67a3"
   },
   "outputs": [
    {
     "data": {
      "text/html": [
       "<div>\n",
       "<style scoped>\n",
       "    .dataframe tbody tr th:only-of-type {\n",
       "        vertical-align: middle;\n",
       "    }\n",
       "\n",
       "    .dataframe tbody tr th {\n",
       "        vertical-align: top;\n",
       "    }\n",
       "\n",
       "    .dataframe thead th {\n",
       "        text-align: right;\n",
       "    }\n",
       "</style>\n",
       "<table border=\"1\" class=\"dataframe\">\n",
       "  <thead>\n",
       "    <tr style=\"text-align: right;\">\n",
       "      <th></th>\n",
       "      <th>age</th>\n",
       "      <th>score_text</th>\n",
       "      <th>priors_count</th>\n",
       "      <th>days_b_screening_arrest</th>\n",
       "      <th>decile_score</th>\n",
       "      <th>is_recid</th>\n",
       "      <th>two_year_recid</th>\n",
       "      <th>c_jail_in</th>\n",
       "      <th>c_jail_out</th>\n",
       "      <th>African-American</th>\n",
       "      <th>Asian</th>\n",
       "      <th>Hispanic</th>\n",
       "      <th>Native American</th>\n",
       "      <th>Other</th>\n",
       "      <th>Greater than 45</th>\n",
       "      <th>Less than 25</th>\n",
       "      <th>Female</th>\n",
       "      <th>M</th>\n",
       "    </tr>\n",
       "  </thead>\n",
       "  <tbody>\n",
       "    <tr>\n",
       "      <th>0</th>\n",
       "      <td>69</td>\n",
       "      <td>Low</td>\n",
       "      <td>0</td>\n",
       "      <td>-1.0</td>\n",
       "      <td>1</td>\n",
       "      <td>0</td>\n",
       "      <td>0</td>\n",
       "      <td>2013-08-13 06:03:42</td>\n",
       "      <td>2013-08-14 05:41:20</td>\n",
       "      <td>False</td>\n",
       "      <td>False</td>\n",
       "      <td>False</td>\n",
       "      <td>False</td>\n",
       "      <td>True</td>\n",
       "      <td>True</td>\n",
       "      <td>False</td>\n",
       "      <td>False</td>\n",
       "      <td>False</td>\n",
       "    </tr>\n",
       "    <tr>\n",
       "      <th>1</th>\n",
       "      <td>34</td>\n",
       "      <td>Low</td>\n",
       "      <td>0</td>\n",
       "      <td>-1.0</td>\n",
       "      <td>3</td>\n",
       "      <td>1</td>\n",
       "      <td>1</td>\n",
       "      <td>2013-01-26 03:45:27</td>\n",
       "      <td>2013-02-05 05:36:53</td>\n",
       "      <td>True</td>\n",
       "      <td>False</td>\n",
       "      <td>False</td>\n",
       "      <td>False</td>\n",
       "      <td>False</td>\n",
       "      <td>False</td>\n",
       "      <td>False</td>\n",
       "      <td>False</td>\n",
       "      <td>False</td>\n",
       "    </tr>\n",
       "    <tr>\n",
       "      <th>2</th>\n",
       "      <td>24</td>\n",
       "      <td>Low</td>\n",
       "      <td>4</td>\n",
       "      <td>-1.0</td>\n",
       "      <td>4</td>\n",
       "      <td>1</td>\n",
       "      <td>1</td>\n",
       "      <td>2013-04-13 04:58:34</td>\n",
       "      <td>2013-04-14 07:02:04</td>\n",
       "      <td>True</td>\n",
       "      <td>False</td>\n",
       "      <td>False</td>\n",
       "      <td>False</td>\n",
       "      <td>False</td>\n",
       "      <td>False</td>\n",
       "      <td>True</td>\n",
       "      <td>False</td>\n",
       "      <td>False</td>\n",
       "    </tr>\n",
       "    <tr>\n",
       "      <th>5</th>\n",
       "      <td>44</td>\n",
       "      <td>Low</td>\n",
       "      <td>0</td>\n",
       "      <td>0.0</td>\n",
       "      <td>1</td>\n",
       "      <td>0</td>\n",
       "      <td>0</td>\n",
       "      <td>2013-11-30 04:50:18</td>\n",
       "      <td>2013-12-01 12:28:56</td>\n",
       "      <td>False</td>\n",
       "      <td>False</td>\n",
       "      <td>False</td>\n",
       "      <td>False</td>\n",
       "      <td>True</td>\n",
       "      <td>False</td>\n",
       "      <td>False</td>\n",
       "      <td>False</td>\n",
       "      <td>True</td>\n",
       "    </tr>\n",
       "    <tr>\n",
       "      <th>6</th>\n",
       "      <td>41</td>\n",
       "      <td>Medium</td>\n",
       "      <td>14</td>\n",
       "      <td>-1.0</td>\n",
       "      <td>6</td>\n",
       "      <td>1</td>\n",
       "      <td>1</td>\n",
       "      <td>2014-02-18 05:08:24</td>\n",
       "      <td>2014-02-24 12:18:30</td>\n",
       "      <td>False</td>\n",
       "      <td>False</td>\n",
       "      <td>False</td>\n",
       "      <td>False</td>\n",
       "      <td>False</td>\n",
       "      <td>False</td>\n",
       "      <td>False</td>\n",
       "      <td>False</td>\n",
       "      <td>False</td>\n",
       "    </tr>\n",
       "  </tbody>\n",
       "</table>\n",
       "</div>"
      ],
      "text/plain": [
       "   age score_text  priors_count  days_b_screening_arrest  decile_score  \\\n",
       "0   69        Low             0                     -1.0             1   \n",
       "1   34        Low             0                     -1.0             3   \n",
       "2   24        Low             4                     -1.0             4   \n",
       "5   44        Low             0                      0.0             1   \n",
       "6   41     Medium            14                     -1.0             6   \n",
       "\n",
       "   is_recid  two_year_recid            c_jail_in           c_jail_out  \\\n",
       "0         0               0  2013-08-13 06:03:42  2013-08-14 05:41:20   \n",
       "1         1               1  2013-01-26 03:45:27  2013-02-05 05:36:53   \n",
       "2         1               1  2013-04-13 04:58:34  2013-04-14 07:02:04   \n",
       "5         0               0  2013-11-30 04:50:18  2013-12-01 12:28:56   \n",
       "6         1               1  2014-02-18 05:08:24  2014-02-24 12:18:30   \n",
       "\n",
       "   African-American  Asian  Hispanic  Native American  Other  Greater than 45  \\\n",
       "0             False  False     False            False   True             True   \n",
       "1              True  False     False            False  False            False   \n",
       "2              True  False     False            False  False            False   \n",
       "5             False  False     False            False   True            False   \n",
       "6             False  False     False            False  False            False   \n",
       "\n",
       "   Less than 25  Female      M  \n",
       "0         False   False  False  \n",
       "1         False   False  False  \n",
       "2          True   False  False  \n",
       "5         False   False   True  \n",
       "6         False   False  False  "
      ]
     },
     "execution_count": 25,
     "metadata": {},
     "output_type": "execute_result"
    }
   ],
   "source": [
    "post_df.head()"
   ]
  },
  {
   "cell_type": "markdown",
   "metadata": {
    "id": "bfLSKIFvDTbl"
   },
   "source": [
    "Lo primero será convertir la variable `score_text` a binario. Para ello, mapearemos `Low` $\\to$ 0, `Medium` $\\to$ 1, `High` $\\to$ 1."
   ]
  },
  {
   "cell_type": "code",
   "execution_count": 26,
   "metadata": {
    "colab": {
     "base_uri": "https://localhost:8080/",
     "height": 327
    },
    "executionInfo": {
     "elapsed": 14,
     "status": "ok",
     "timestamp": 1711653423748,
     "user": {
      "displayName": "Diego Rodríguez",
      "userId": "02273920844464973837"
     },
     "user_tz": 180
    },
    "id": "WpRAxqHlYhLe",
    "outputId": "b118d506-b9b1-4e61-89b7-e8a78c0e58c9"
   },
   "outputs": [
    {
     "data": {
      "text/html": [
       "<div>\n",
       "<style scoped>\n",
       "    .dataframe tbody tr th:only-of-type {\n",
       "        vertical-align: middle;\n",
       "    }\n",
       "\n",
       "    .dataframe tbody tr th {\n",
       "        vertical-align: top;\n",
       "    }\n",
       "\n",
       "    .dataframe thead th {\n",
       "        text-align: right;\n",
       "    }\n",
       "</style>\n",
       "<table border=\"1\" class=\"dataframe\">\n",
       "  <thead>\n",
       "    <tr style=\"text-align: right;\">\n",
       "      <th></th>\n",
       "      <th>age</th>\n",
       "      <th>score_text</th>\n",
       "      <th>priors_count</th>\n",
       "      <th>days_b_screening_arrest</th>\n",
       "      <th>decile_score</th>\n",
       "      <th>is_recid</th>\n",
       "      <th>two_year_recid</th>\n",
       "      <th>c_jail_in</th>\n",
       "      <th>c_jail_out</th>\n",
       "      <th>African-American</th>\n",
       "      <th>Asian</th>\n",
       "      <th>Hispanic</th>\n",
       "      <th>Native American</th>\n",
       "      <th>Other</th>\n",
       "      <th>Greater than 45</th>\n",
       "      <th>Less than 25</th>\n",
       "      <th>Female</th>\n",
       "      <th>M</th>\n",
       "    </tr>\n",
       "  </thead>\n",
       "  <tbody>\n",
       "    <tr>\n",
       "      <th>0</th>\n",
       "      <td>69</td>\n",
       "      <td>0</td>\n",
       "      <td>0</td>\n",
       "      <td>-1.0</td>\n",
       "      <td>1</td>\n",
       "      <td>0</td>\n",
       "      <td>0</td>\n",
       "      <td>2013-08-13 06:03:42</td>\n",
       "      <td>2013-08-14 05:41:20</td>\n",
       "      <td>False</td>\n",
       "      <td>False</td>\n",
       "      <td>False</td>\n",
       "      <td>False</td>\n",
       "      <td>True</td>\n",
       "      <td>True</td>\n",
       "      <td>False</td>\n",
       "      <td>False</td>\n",
       "      <td>False</td>\n",
       "    </tr>\n",
       "    <tr>\n",
       "      <th>1</th>\n",
       "      <td>34</td>\n",
       "      <td>0</td>\n",
       "      <td>0</td>\n",
       "      <td>-1.0</td>\n",
       "      <td>3</td>\n",
       "      <td>1</td>\n",
       "      <td>1</td>\n",
       "      <td>2013-01-26 03:45:27</td>\n",
       "      <td>2013-02-05 05:36:53</td>\n",
       "      <td>True</td>\n",
       "      <td>False</td>\n",
       "      <td>False</td>\n",
       "      <td>False</td>\n",
       "      <td>False</td>\n",
       "      <td>False</td>\n",
       "      <td>False</td>\n",
       "      <td>False</td>\n",
       "      <td>False</td>\n",
       "    </tr>\n",
       "    <tr>\n",
       "      <th>2</th>\n",
       "      <td>24</td>\n",
       "      <td>0</td>\n",
       "      <td>4</td>\n",
       "      <td>-1.0</td>\n",
       "      <td>4</td>\n",
       "      <td>1</td>\n",
       "      <td>1</td>\n",
       "      <td>2013-04-13 04:58:34</td>\n",
       "      <td>2013-04-14 07:02:04</td>\n",
       "      <td>True</td>\n",
       "      <td>False</td>\n",
       "      <td>False</td>\n",
       "      <td>False</td>\n",
       "      <td>False</td>\n",
       "      <td>False</td>\n",
       "      <td>True</td>\n",
       "      <td>False</td>\n",
       "      <td>False</td>\n",
       "    </tr>\n",
       "    <tr>\n",
       "      <th>5</th>\n",
       "      <td>44</td>\n",
       "      <td>0</td>\n",
       "      <td>0</td>\n",
       "      <td>0.0</td>\n",
       "      <td>1</td>\n",
       "      <td>0</td>\n",
       "      <td>0</td>\n",
       "      <td>2013-11-30 04:50:18</td>\n",
       "      <td>2013-12-01 12:28:56</td>\n",
       "      <td>False</td>\n",
       "      <td>False</td>\n",
       "      <td>False</td>\n",
       "      <td>False</td>\n",
       "      <td>True</td>\n",
       "      <td>False</td>\n",
       "      <td>False</td>\n",
       "      <td>False</td>\n",
       "      <td>True</td>\n",
       "    </tr>\n",
       "    <tr>\n",
       "      <th>6</th>\n",
       "      <td>41</td>\n",
       "      <td>1</td>\n",
       "      <td>14</td>\n",
       "      <td>-1.0</td>\n",
       "      <td>6</td>\n",
       "      <td>1</td>\n",
       "      <td>1</td>\n",
       "      <td>2014-02-18 05:08:24</td>\n",
       "      <td>2014-02-24 12:18:30</td>\n",
       "      <td>False</td>\n",
       "      <td>False</td>\n",
       "      <td>False</td>\n",
       "      <td>False</td>\n",
       "      <td>False</td>\n",
       "      <td>False</td>\n",
       "      <td>False</td>\n",
       "      <td>False</td>\n",
       "      <td>False</td>\n",
       "    </tr>\n",
       "  </tbody>\n",
       "</table>\n",
       "</div>"
      ],
      "text/plain": [
       "   age  score_text  priors_count  days_b_screening_arrest  decile_score  \\\n",
       "0   69           0             0                     -1.0             1   \n",
       "1   34           0             0                     -1.0             3   \n",
       "2   24           0             4                     -1.0             4   \n",
       "5   44           0             0                      0.0             1   \n",
       "6   41           1            14                     -1.0             6   \n",
       "\n",
       "   is_recid  two_year_recid            c_jail_in           c_jail_out  \\\n",
       "0         0               0  2013-08-13 06:03:42  2013-08-14 05:41:20   \n",
       "1         1               1  2013-01-26 03:45:27  2013-02-05 05:36:53   \n",
       "2         1               1  2013-04-13 04:58:34  2013-04-14 07:02:04   \n",
       "5         0               0  2013-11-30 04:50:18  2013-12-01 12:28:56   \n",
       "6         1               1  2014-02-18 05:08:24  2014-02-24 12:18:30   \n",
       "\n",
       "   African-American  Asian  Hispanic  Native American  Other  Greater than 45  \\\n",
       "0             False  False     False            False   True             True   \n",
       "1              True  False     False            False  False            False   \n",
       "2              True  False     False            False  False            False   \n",
       "5             False  False     False            False   True            False   \n",
       "6             False  False     False            False  False            False   \n",
       "\n",
       "   Less than 25  Female      M  \n",
       "0         False   False  False  \n",
       "1         False   False  False  \n",
       "2          True   False  False  \n",
       "5         False   False   True  \n",
       "6         False   False  False  "
      ]
     },
     "execution_count": 26,
     "metadata": {},
     "output_type": "execute_result"
    }
   ],
   "source": [
    "post_df[\"score_text\"] = post_df[\"score_text\"].map({\"Low\": 0, \"Medium\": 1, \"High\": 1})\n",
    "post_df.head()"
   ]
  },
  {
   "cell_type": "markdown",
   "metadata": {},
   "source": [
    "Rename de columnas:"
   ]
  },
  {
   "cell_type": "code",
   "execution_count": 27,
   "metadata": {},
   "outputs": [
    {
     "data": {
      "text/html": [
       "<div>\n",
       "<style scoped>\n",
       "    .dataframe tbody tr th:only-of-type {\n",
       "        vertical-align: middle;\n",
       "    }\n",
       "\n",
       "    .dataframe tbody tr th {\n",
       "        vertical-align: top;\n",
       "    }\n",
       "\n",
       "    .dataframe thead th {\n",
       "        text-align: right;\n",
       "    }\n",
       "</style>\n",
       "<table border=\"1\" class=\"dataframe\">\n",
       "  <thead>\n",
       "    <tr style=\"text-align: right;\">\n",
       "      <th></th>\n",
       "      <th>age</th>\n",
       "      <th>score_text</th>\n",
       "      <th>priors_count</th>\n",
       "      <th>days_b_screening_arrest</th>\n",
       "      <th>decile_score</th>\n",
       "      <th>is_recid</th>\n",
       "      <th>two_year_recid</th>\n",
       "      <th>c_jail_in</th>\n",
       "      <th>c_jail_out</th>\n",
       "      <th>African_American</th>\n",
       "      <th>Asian</th>\n",
       "      <th>Hispanic</th>\n",
       "      <th>Native_American</th>\n",
       "      <th>Other</th>\n",
       "      <th>Greater_than_45</th>\n",
       "      <th>Less_than_25</th>\n",
       "      <th>Female</th>\n",
       "      <th>M</th>\n",
       "    </tr>\n",
       "  </thead>\n",
       "  <tbody>\n",
       "    <tr>\n",
       "      <th>0</th>\n",
       "      <td>69</td>\n",
       "      <td>0</td>\n",
       "      <td>0</td>\n",
       "      <td>-1.0</td>\n",
       "      <td>1</td>\n",
       "      <td>0</td>\n",
       "      <td>0</td>\n",
       "      <td>2013-08-13 06:03:42</td>\n",
       "      <td>2013-08-14 05:41:20</td>\n",
       "      <td>False</td>\n",
       "      <td>False</td>\n",
       "      <td>False</td>\n",
       "      <td>False</td>\n",
       "      <td>True</td>\n",
       "      <td>True</td>\n",
       "      <td>False</td>\n",
       "      <td>False</td>\n",
       "      <td>False</td>\n",
       "    </tr>\n",
       "    <tr>\n",
       "      <th>1</th>\n",
       "      <td>34</td>\n",
       "      <td>0</td>\n",
       "      <td>0</td>\n",
       "      <td>-1.0</td>\n",
       "      <td>3</td>\n",
       "      <td>1</td>\n",
       "      <td>1</td>\n",
       "      <td>2013-01-26 03:45:27</td>\n",
       "      <td>2013-02-05 05:36:53</td>\n",
       "      <td>True</td>\n",
       "      <td>False</td>\n",
       "      <td>False</td>\n",
       "      <td>False</td>\n",
       "      <td>False</td>\n",
       "      <td>False</td>\n",
       "      <td>False</td>\n",
       "      <td>False</td>\n",
       "      <td>False</td>\n",
       "    </tr>\n",
       "    <tr>\n",
       "      <th>2</th>\n",
       "      <td>24</td>\n",
       "      <td>0</td>\n",
       "      <td>4</td>\n",
       "      <td>-1.0</td>\n",
       "      <td>4</td>\n",
       "      <td>1</td>\n",
       "      <td>1</td>\n",
       "      <td>2013-04-13 04:58:34</td>\n",
       "      <td>2013-04-14 07:02:04</td>\n",
       "      <td>True</td>\n",
       "      <td>False</td>\n",
       "      <td>False</td>\n",
       "      <td>False</td>\n",
       "      <td>False</td>\n",
       "      <td>False</td>\n",
       "      <td>True</td>\n",
       "      <td>False</td>\n",
       "      <td>False</td>\n",
       "    </tr>\n",
       "    <tr>\n",
       "      <th>5</th>\n",
       "      <td>44</td>\n",
       "      <td>0</td>\n",
       "      <td>0</td>\n",
       "      <td>0.0</td>\n",
       "      <td>1</td>\n",
       "      <td>0</td>\n",
       "      <td>0</td>\n",
       "      <td>2013-11-30 04:50:18</td>\n",
       "      <td>2013-12-01 12:28:56</td>\n",
       "      <td>False</td>\n",
       "      <td>False</td>\n",
       "      <td>False</td>\n",
       "      <td>False</td>\n",
       "      <td>True</td>\n",
       "      <td>False</td>\n",
       "      <td>False</td>\n",
       "      <td>False</td>\n",
       "      <td>True</td>\n",
       "    </tr>\n",
       "    <tr>\n",
       "      <th>6</th>\n",
       "      <td>41</td>\n",
       "      <td>1</td>\n",
       "      <td>14</td>\n",
       "      <td>-1.0</td>\n",
       "      <td>6</td>\n",
       "      <td>1</td>\n",
       "      <td>1</td>\n",
       "      <td>2014-02-18 05:08:24</td>\n",
       "      <td>2014-02-24 12:18:30</td>\n",
       "      <td>False</td>\n",
       "      <td>False</td>\n",
       "      <td>False</td>\n",
       "      <td>False</td>\n",
       "      <td>False</td>\n",
       "      <td>False</td>\n",
       "      <td>False</td>\n",
       "      <td>False</td>\n",
       "      <td>False</td>\n",
       "    </tr>\n",
       "  </tbody>\n",
       "</table>\n",
       "</div>"
      ],
      "text/plain": [
       "   age  score_text  priors_count  days_b_screening_arrest  decile_score  \\\n",
       "0   69           0             0                     -1.0             1   \n",
       "1   34           0             0                     -1.0             3   \n",
       "2   24           0             4                     -1.0             4   \n",
       "5   44           0             0                      0.0             1   \n",
       "6   41           1            14                     -1.0             6   \n",
       "\n",
       "   is_recid  two_year_recid            c_jail_in           c_jail_out  \\\n",
       "0         0               0  2013-08-13 06:03:42  2013-08-14 05:41:20   \n",
       "1         1               1  2013-01-26 03:45:27  2013-02-05 05:36:53   \n",
       "2         1               1  2013-04-13 04:58:34  2013-04-14 07:02:04   \n",
       "5         0               0  2013-11-30 04:50:18  2013-12-01 12:28:56   \n",
       "6         1               1  2014-02-18 05:08:24  2014-02-24 12:18:30   \n",
       "\n",
       "   African_American  Asian  Hispanic  Native_American  Other  Greater_than_45  \\\n",
       "0             False  False     False            False   True             True   \n",
       "1              True  False     False            False  False            False   \n",
       "2              True  False     False            False  False            False   \n",
       "5             False  False     False            False   True            False   \n",
       "6             False  False     False            False  False            False   \n",
       "\n",
       "   Less_than_25  Female      M  \n",
       "0         False   False  False  \n",
       "1         False   False  False  \n",
       "2          True   False  False  \n",
       "5         False   False   True  \n",
       "6         False   False  False  "
      ]
     },
     "execution_count": 27,
     "metadata": {},
     "output_type": "execute_result"
    }
   ],
   "source": [
    "post_df.rename(\n",
    "    columns={\n",
    "        \"Native American\": \"Native_American\",\n",
    "        \"Greater than 45\": \"Greater_than_45\",\n",
    "        \"Less than 25\": \"Less_than_25\",\n",
    "        \"African-American\": \"African_American\",\n",
    "    },\n",
    "    inplace=True,\n",
    ")\n",
    "\n",
    "\n",
    "post_df.head()"
   ]
  },
  {
   "cell_type": "markdown",
   "metadata": {
    "id": "3KoFIkzkDA9c"
   },
   "source": [
    "## Conceptos preliminares y métricas (extraídas del paper de Aequitas)\n",
    "\n",
    "![Conceptos Preliminares](https://github.com/dssg/aequitas/blob/master/docs/_images/preliminary_concepts.jpg?raw=true)\n",
    "\n",
    "![Métricas](https://github.com/dssg/aequitas/blob/master/docs/_images/metrics.jpg?raw=true)"
   ]
  },
  {
   "cell_type": "markdown",
   "metadata": {
    "id": "TR3L7oF-Guln"
   },
   "source": [
    "## Obteniendo las métricas a través de matrices de confusión"
   ]
  },
  {
   "cell_type": "code",
   "execution_count": 28,
   "metadata": {
    "executionInfo": {
     "elapsed": 9,
     "status": "ok",
     "timestamp": 1711653424641,
     "user": {
      "displayName": "Diego Rodríguez",
      "userId": "02273920844464973837"
     },
     "user_tz": 180
    },
    "id": "E84OFecJwfln"
   },
   "outputs": [],
   "source": [
    "# Datos por sexo\n",
    "male_data = post_df[post_df[\"Female\"] == 0]\n",
    "female_data = post_df[post_df[\"Female\"] == 1]\n",
    "\n",
    "# Datos por raza\n",
    "am_data = post_df[post_df[\"African_American\"] == 1]\n",
    "\n",
    "cau_data = post_df[\n",
    "    (\n",
    "        (post_df[\"African_American\"] == 0)\n",
    "        & (post_df[\"Asian\"] == 0)\n",
    "        & (post_df[\"Native_American\"] == 0)\n",
    "        & (post_df[\"Hispanic\"] == 0)\n",
    "    )\n",
    "]\n",
    "\n",
    "# Datos por categoria de edad\n",
    "less25_data = post_df[post_df[\"Less_than_25\"] == 1]\n",
    "greater45_data = post_df[post_df[\"Greater_than_45\"] == 1]\n",
    "\n",
    "from25to45_data = post_df[\n",
    "    ((post_df[\"Less_than_25\"] == 0) & (post_df[\"Greater_than_45\"] == 0))\n",
    "]\n",
    "\n",
    "\n",
    "labels = [\"No Reincide\", \"Reincide\"]"
   ]
  },
  {
   "cell_type": "code",
   "execution_count": 29,
   "metadata": {
    "colab": {
     "base_uri": "https://localhost:8080/",
     "height": 487
    },
    "executionInfo": {
     "elapsed": 2364,
     "status": "ok",
     "timestamp": 1711653426997,
     "user": {
      "displayName": "Diego Rodríguez",
      "userId": "02273920844464973837"
     },
     "user_tz": 180
    },
    "id": "qhN-Rt8IjOEa",
    "outputId": "f95bef74-2885-4233-a8de-d4382e57798c"
   },
   "outputs": [
    {
     "data": {
      "image/png": "[encoded data removed]",
      "text/plain": [
       "<Figure size 1500x500 with 4 Axes>"
      ]
     },
     "metadata": {},
     "output_type": "display_data"
    }
   ],
   "source": [
    "# Comparando matrices de confusión por grupo etáreo (absoluta).\n",
    "\n",
    "fig, ax = plt.subplots(1, 2, figsize=(15, 5))\n",
    "ax = ax.flatten()\n",
    "cm1 = ConfusionMatrixDisplay(\n",
    "    confusion_matrix(less25_data[\"two_year_recid\"], less25_data[\"score_text\"]),\n",
    "    display_labels=labels,\n",
    ")\n",
    "cm2 = ConfusionMatrixDisplay(\n",
    "    confusion_matrix(from25to45_data[\"two_year_recid\"], from25to45_data[\"score_text\"]),\n",
    "    display_labels=labels,\n",
    ")\n",
    "\n",
    "cm1.plot(ax=ax[0])\n",
    "cm2.plot(ax=ax[1])\n",
    "\n",
    "ax[0].set_title(\"Less than 25\")\n",
    "ax[1].set_title(\"25 - 45\")\n",
    "plt.show()"
   ]
  },
  {
   "cell_type": "code",
   "execution_count": 49,
   "metadata": {
    "colab": {
     "base_uri": "https://localhost:8080/",
     "height": 487
    },
    "executionInfo": {
     "elapsed": 1176,
     "status": "ok",
     "timestamp": 1711653428164,
     "user": {
      "displayName": "Diego Rodríguez",
      "userId": "02273920844464973837"
     },
     "user_tz": 180
    },
    "id": "l21qqFRNjd_l",
    "outputId": "6456ae22-9c2a-4295-cbc5-2ffea073a5bb"
   },
   "outputs": [
    {
     "data": {
      "image/png": "[encoded data removed]",
      "text/plain": [
       "<Figure size 1500x500 with 4 Axes>"
      ]
     },
     "metadata": {},
     "output_type": "display_data"
    }
   ],
   "source": [
    "# Comparando matrices de confusión por grupo etáreo (relativa a las etiquetas: FPR, FNR).\n",
    "# Con el parámetro normalize=\"true\".\n",
    "\n",
    "fig, ax = plt.subplots(1, 2, figsize=(15, 5))\n",
    "ax = ax.flatten()\n",
    "cm1 = ConfusionMatrixDisplay(\n",
    "    confusion_matrix(\n",
    "        less25_data[\"two_year_recid\"], less25_data[\"score_text\"], normalize=\"true\"\n",
    "    ),\n",
    "    display_labels=labels,\n",
    ")\n",
    "cm2 = ConfusionMatrixDisplay(\n",
    "    confusion_matrix(\n",
    "        from25to45_data[\"two_year_recid\"],\n",
    "        from25to45_data[\"score_text\"],\n",
    "        normalize=\"true\",\n",
    "    ),\n",
    "    display_labels=labels,\n",
    ")\n",
    "\n",
    "cm1.plot(ax=ax[0])\n",
    "cm2.plot(ax=ax[1])\n",
    "\n",
    "ax[0].set_title(\"Less than 25\")\n",
    "ax[1].set_title(\"25 - 45\")\n",
    "plt.show()"
   ]
  },
  {
   "cell_type": "markdown",
   "metadata": {},
   "source": [
    "![imagen](https://miro.medium.com/v2/resize:fit:1400/1*VSchph99Wiv6tQpNIvMJbw.png)\n"
   ]
  },
  {
   "cell_type": "markdown",
   "metadata": {
    "id": "0dMOoQRcSH5g"
   },
   "source": [
    "Vemos que el FPR para el grupo de menores de 25 años es de 0.53 mientras que el FPR para el grupo de entre 25 y 45 años es de 0.31 $\\to$ Las predicciones del algoritmo tienden a equivocarse más etiquetando como reincidente a aquellos que no reindiden en el grupo de menores de 25 años respecto del grupo de entre 25 y 45 años.\n",
    "\n",
    "Por otro lado, el FNR para el grupo de menores de 25 años es de 0.27 mientras que el FPR para el grupo de entre 25 y 45 años es de 0.38 $\\to$ Las predicciones del algoritmo tienden a equivocarse más etiquetando como no reincidente a aquellos que sí reinciden en el grupo de entre 25 y 45 años respecto del grupo de menores de 25 años."
   ]
  },
  {
   "cell_type": "code",
   "execution_count": 31,
   "metadata": {
    "colab": {
     "base_uri": "https://localhost:8080/"
    },
    "executionInfo": {
     "elapsed": 27,
     "status": "ok",
     "timestamp": 1711653428165,
     "user": {
      "displayName": "Diego Rodríguez",
      "userId": "02273920844464973837"
     },
     "user_tz": 180
    },
    "id": "B537lRpnHfVE",
    "outputId": "bccdc07f-bf26-4a19-feaf-1f3e26158d25"
   },
   "outputs": [
    {
     "data": {
      "text/plain": [
       "array([0.46543002, 0.53456998, 0.27188329, 0.72811671])"
      ]
     },
     "execution_count": 31,
     "metadata": {},
     "output_type": "execute_result"
    }
   ],
   "source": [
    "conf = confusion_matrix(\n",
    "    less25_data[\"two_year_recid\"], less25_data[\"score_text\"], normalize=\"true\"\n",
    ").flatten()\n",
    "\n",
    "\n",
    "conf"
   ]
  },
  {
   "cell_type": "code",
   "execution_count": 32,
   "metadata": {
    "colab": {
     "base_uri": "https://localhost:8080/",
     "height": 487
    },
    "executionInfo": {
     "elapsed": 1188,
     "status": "ok",
     "timestamp": 1711653429336,
     "user": {
      "displayName": "Diego Rodríguez",
      "userId": "02273920844464973837"
     },
     "user_tz": 180
    },
    "id": "OhLW1-HkUqcx",
    "outputId": "5de495c4-48fd-4721-d4c9-1ce53a8a0a23"
   },
   "outputs": [
    {
     "data": {
      "image/png": "[encoded data removed]",
      "text/plain": [
       "<Figure size 1500x500 with 4 Axes>"
      ]
     },
     "metadata": {},
     "output_type": "display_data"
    }
   ],
   "source": [
    "# Comparando matrices de confusión por grupo etáreo (relativa a las predicciones: FDR, FOR).\n",
    "# Nótese el normalize=\"pred\", que cambia el eje de normalización.\n",
    "\n",
    "fig, ax = plt.subplots(1, 2, figsize=(15, 5))\n",
    "ax = ax.flatten()\n",
    "cm1 = ConfusionMatrixDisplay(\n",
    "    confusion_matrix(\n",
    "        less25_data[\"two_year_recid\"], less25_data[\"score_text\"], normalize=\"pred\"\n",
    "    ),\n",
    "    display_labels=labels,\n",
    ")\n",
    "cm2 = ConfusionMatrixDisplay(\n",
    "    confusion_matrix(\n",
    "        from25to45_data[\"two_year_recid\"],\n",
    "        from25to45_data[\"score_text\"],\n",
    "        normalize=\"pred\",\n",
    "    ),\n",
    "    display_labels=labels,\n",
    ")\n",
    "\n",
    "cm1.plot(ax=ax[0])\n",
    "cm2.plot(ax=ax[1])\n",
    "\n",
    "ax[0].set_title(\"Less than 25\")\n",
    "ax[1].set_title(\"25 - 45\")\n",
    "plt.show()"
   ]
  },
  {
   "cell_type": "markdown",
   "metadata": {
    "id": "7zG4q-6JUjY8"
   },
   "source": [
    "El FOR (False Omission Rate) es mayor en el grupo de menores de 25 años que en el grupo de 25 a 45\n",
    "años $\\to$ El algoritmo \"deja pasar\" más casos positivos (se le escapan) en el grupo de menores de\n",
    "25 años que en el grupo de 25 a 45 años.\n",
    "\n",
    "0.43 > 0.32"
   ]
  },
  {
   "cell_type": "markdown",
   "metadata": {},
   "source": [
    "Una versión normalizada facilita la interpretación visual de cómo se están prediciendo las\n",
    "etiquetas, además de permitir comparaciones. \n",
    "\n",
    "También se puede pasar el parámetro `values_format='.0%'` para\n",
    "mostrar los valores como porcentajes. El parámetro `normalize` especifica qué se debe usar como\n",
    "denominador:\n",
    "\n",
    "- `'true'`: suma de las filas (Etiqueta verdadera)\n",
    "- `'pred'`: suma de las columnas (Etiqueta predicha)\n",
    "- `'all'`: suma de todos\n"
   ]
  },
  {
   "cell_type": "markdown",
   "metadata": {},
   "source": [
    "![imagen](https://miro.medium.com/v2/resize:fit:1400/1*o9HNABfdXQG-UhzmfpgQxA.png)"
   ]
  },
  {
   "cell_type": "code",
   "execution_count": 56,
   "metadata": {},
   "outputs": [
    {
     "data": {
      "image/png": "[encoded data removed]",
      "text/plain": [
       "<Figure size 1500x500 with 4 Axes>"
      ]
     },
     "metadata": {},
     "output_type": "display_data"
    }
   ],
   "source": [
    "# Ejemplo con normalize=\"all\"\n",
    "\n",
    "fig, ax = plt.subplots(1, 2, figsize=(15, 5))\n",
    "ax = ax.flatten()\n",
    "cm1 = ConfusionMatrixDisplay(\n",
    "    confusion_matrix(\n",
    "        less25_data[\"two_year_recid\"], less25_data[\"score_text\"], normalize=\"all\"\n",
    "    ),\n",
    "    display_labels=labels,\n",
    ")\n",
    "cm2 = ConfusionMatrixDisplay(\n",
    "    confusion_matrix(\n",
    "        from25to45_data[\"two_year_recid\"],\n",
    "        from25to45_data[\"score_text\"],\n",
    "        normalize=\"all\",\n",
    "    ),\n",
    "    display_labels=labels,\n",
    ")\n",
    "\n",
    "cm1.plot(ax=ax[0])\n",
    "cm2.plot(ax=ax[1])\n",
    "\n",
    "ax[0].set_title(\"Less than 25\")\n",
    "ax[1].set_title(\"25 - 45\")\n",
    "plt.show()"
   ]
  },
  {
   "cell_type": "code",
   "execution_count": 33,
   "metadata": {
    "colab": {
     "base_uri": "https://localhost:8080/",
     "height": 206
    },
    "executionInfo": {
     "elapsed": 67,
     "status": "ok",
     "timestamp": 1711653454350,
     "user": {
      "displayName": "Diego Rodríguez",
      "userId": "02273920844464973837"
     },
     "user_tz": 180
    },
    "id": "EmJZ1RwJx3ht",
    "outputId": "d206ae75-7995-4778-8519-92a9961ed9f2"
   },
   "outputs": [
    {
     "data": {
      "text/html": [
       "<div>\n",
       "<style scoped>\n",
       "    .dataframe tbody tr th:only-of-type {\n",
       "        vertical-align: middle;\n",
       "    }\n",
       "\n",
       "    .dataframe tbody tr th {\n",
       "        vertical-align: top;\n",
       "    }\n",
       "\n",
       "    .dataframe thead th {\n",
       "        text-align: right;\n",
       "    }\n",
       "</style>\n",
       "<table border=\"1\" class=\"dataframe\">\n",
       "  <thead>\n",
       "    <tr style=\"text-align: right;\">\n",
       "      <th></th>\n",
       "      <th>age</th>\n",
       "      <th>c_charge_degree</th>\n",
       "      <th>race</th>\n",
       "      <th>age_cat</th>\n",
       "      <th>score_text</th>\n",
       "      <th>sex</th>\n",
       "      <th>priors_count</th>\n",
       "      <th>days_b_screening_arrest</th>\n",
       "      <th>decile_score</th>\n",
       "      <th>is_recid</th>\n",
       "      <th>two_year_recid</th>\n",
       "      <th>c_jail_in</th>\n",
       "      <th>c_jail_out</th>\n",
       "    </tr>\n",
       "  </thead>\n",
       "  <tbody>\n",
       "    <tr>\n",
       "      <th>0</th>\n",
       "      <td>69</td>\n",
       "      <td>F</td>\n",
       "      <td>Other</td>\n",
       "      <td>Greater than 45</td>\n",
       "      <td>Low</td>\n",
       "      <td>Male</td>\n",
       "      <td>0</td>\n",
       "      <td>-1.0</td>\n",
       "      <td>1</td>\n",
       "      <td>0</td>\n",
       "      <td>0</td>\n",
       "      <td>2013-08-13 06:03:42</td>\n",
       "      <td>2013-08-14 05:41:20</td>\n",
       "    </tr>\n",
       "    <tr>\n",
       "      <th>1</th>\n",
       "      <td>34</td>\n",
       "      <td>F</td>\n",
       "      <td>African-American</td>\n",
       "      <td>25 - 45</td>\n",
       "      <td>Low</td>\n",
       "      <td>Male</td>\n",
       "      <td>0</td>\n",
       "      <td>-1.0</td>\n",
       "      <td>3</td>\n",
       "      <td>1</td>\n",
       "      <td>1</td>\n",
       "      <td>2013-01-26 03:45:27</td>\n",
       "      <td>2013-02-05 05:36:53</td>\n",
       "    </tr>\n",
       "    <tr>\n",
       "      <th>2</th>\n",
       "      <td>24</td>\n",
       "      <td>F</td>\n",
       "      <td>African-American</td>\n",
       "      <td>Less than 25</td>\n",
       "      <td>Low</td>\n",
       "      <td>Male</td>\n",
       "      <td>4</td>\n",
       "      <td>-1.0</td>\n",
       "      <td>4</td>\n",
       "      <td>1</td>\n",
       "      <td>1</td>\n",
       "      <td>2013-04-13 04:58:34</td>\n",
       "      <td>2013-04-14 07:02:04</td>\n",
       "    </tr>\n",
       "    <tr>\n",
       "      <th>5</th>\n",
       "      <td>44</td>\n",
       "      <td>M</td>\n",
       "      <td>Other</td>\n",
       "      <td>25 - 45</td>\n",
       "      <td>Low</td>\n",
       "      <td>Male</td>\n",
       "      <td>0</td>\n",
       "      <td>0.0</td>\n",
       "      <td>1</td>\n",
       "      <td>0</td>\n",
       "      <td>0</td>\n",
       "      <td>2013-11-30 04:50:18</td>\n",
       "      <td>2013-12-01 12:28:56</td>\n",
       "    </tr>\n",
       "    <tr>\n",
       "      <th>6</th>\n",
       "      <td>41</td>\n",
       "      <td>F</td>\n",
       "      <td>Caucasian</td>\n",
       "      <td>25 - 45</td>\n",
       "      <td>Medium</td>\n",
       "      <td>Male</td>\n",
       "      <td>14</td>\n",
       "      <td>-1.0</td>\n",
       "      <td>6</td>\n",
       "      <td>1</td>\n",
       "      <td>1</td>\n",
       "      <td>2014-02-18 05:08:24</td>\n",
       "      <td>2014-02-24 12:18:30</td>\n",
       "    </tr>\n",
       "  </tbody>\n",
       "</table>\n",
       "</div>"
      ],
      "text/plain": [
       "   age c_charge_degree              race          age_cat score_text   sex  \\\n",
       "0   69               F             Other  Greater than 45        Low  Male   \n",
       "1   34               F  African-American          25 - 45        Low  Male   \n",
       "2   24               F  African-American     Less than 25        Low  Male   \n",
       "5   44               M             Other          25 - 45        Low  Male   \n",
       "6   41               F         Caucasian          25 - 45     Medium  Male   \n",
       "\n",
       "   priors_count  days_b_screening_arrest  decile_score  is_recid  \\\n",
       "0             0                     -1.0             1         0   \n",
       "1             0                     -1.0             3         1   \n",
       "2             4                     -1.0             4         1   \n",
       "5             0                      0.0             1         0   \n",
       "6            14                     -1.0             6         1   \n",
       "\n",
       "   two_year_recid            c_jail_in           c_jail_out  \n",
       "0               0  2013-08-13 06:03:42  2013-08-14 05:41:20  \n",
       "1               1  2013-01-26 03:45:27  2013-02-05 05:36:53  \n",
       "2               1  2013-04-13 04:58:34  2013-04-14 07:02:04  \n",
       "5               0  2013-11-30 04:50:18  2013-12-01 12:28:56  \n",
       "6               1  2014-02-18 05:08:24  2014-02-24 12:18:30  "
      ]
     },
     "execution_count": 33,
     "metadata": {},
     "output_type": "execute_result"
    }
   ],
   "source": [
    "# Teníamos los datos de esta forma.\n",
    "\n",
    "clean_df.head()"
   ]
  },
  {
   "cell_type": "markdown",
   "metadata": {
    "id": "KlfDsE2HV6yO"
   },
   "source": [
    "Para utilizar Aequitas con nuestros datos, estos deben tener una estructura en específico. Los detalles se encuentran en la [Documentación de Aequitas](https://dssg.github.io/aequitas/input_data.html#Input-data-for-Python-package)."
   ]
  },
  {
   "cell_type": "code",
   "execution_count": 34,
   "metadata": {
    "colab": {
     "base_uri": "https://localhost:8080/",
     "height": 206
    },
    "executionInfo": {
     "elapsed": 55,
     "status": "ok",
     "timestamp": 1711653454350,
     "user": {
      "displayName": "Diego Rodríguez",
      "userId": "02273920844464973837"
     },
     "user_tz": 180
    },
    "id": "XZbGoHyjx4PP",
    "outputId": "b0de7cbf-5b08-4cd6-f15d-cd71fdab69e4"
   },
   "outputs": [
    {
     "data": {
      "text/html": [
       "<div>\n",
       "<style scoped>\n",
       "    .dataframe tbody tr th:only-of-type {\n",
       "        vertical-align: middle;\n",
       "    }\n",
       "\n",
       "    .dataframe tbody tr th {\n",
       "        vertical-align: top;\n",
       "    }\n",
       "\n",
       "    .dataframe thead th {\n",
       "        text-align: right;\n",
       "    }\n",
       "</style>\n",
       "<table border=\"1\" class=\"dataframe\">\n",
       "  <thead>\n",
       "    <tr style=\"text-align: right;\">\n",
       "      <th></th>\n",
       "      <th>score_text</th>\n",
       "      <th>two_year_recid</th>\n",
       "      <th>race</th>\n",
       "      <th>age_cat</th>\n",
       "      <th>sex</th>\n",
       "    </tr>\n",
       "  </thead>\n",
       "  <tbody>\n",
       "    <tr>\n",
       "      <th>0</th>\n",
       "      <td>Low</td>\n",
       "      <td>0</td>\n",
       "      <td>Other</td>\n",
       "      <td>Greater than 45</td>\n",
       "      <td>Male</td>\n",
       "    </tr>\n",
       "    <tr>\n",
       "      <th>1</th>\n",
       "      <td>Low</td>\n",
       "      <td>1</td>\n",
       "      <td>African-American</td>\n",
       "      <td>25 - 45</td>\n",
       "      <td>Male</td>\n",
       "    </tr>\n",
       "    <tr>\n",
       "      <th>2</th>\n",
       "      <td>Low</td>\n",
       "      <td>1</td>\n",
       "      <td>African-American</td>\n",
       "      <td>Less than 25</td>\n",
       "      <td>Male</td>\n",
       "    </tr>\n",
       "    <tr>\n",
       "      <th>5</th>\n",
       "      <td>Low</td>\n",
       "      <td>0</td>\n",
       "      <td>Other</td>\n",
       "      <td>25 - 45</td>\n",
       "      <td>Male</td>\n",
       "    </tr>\n",
       "    <tr>\n",
       "      <th>6</th>\n",
       "      <td>Medium</td>\n",
       "      <td>1</td>\n",
       "      <td>Caucasian</td>\n",
       "      <td>25 - 45</td>\n",
       "      <td>Male</td>\n",
       "    </tr>\n",
       "  </tbody>\n",
       "</table>\n",
       "</div>"
      ],
      "text/plain": [
       "  score_text  two_year_recid              race          age_cat   sex\n",
       "0        Low               0             Other  Greater than 45  Male\n",
       "1        Low               1  African-American          25 - 45  Male\n",
       "2        Low               1  African-American     Less than 25  Male\n",
       "5        Low               0             Other          25 - 45  Male\n",
       "6     Medium               1         Caucasian          25 - 45  Male"
      ]
     },
     "execution_count": 34,
     "metadata": {},
     "output_type": "execute_result"
    }
   ],
   "source": [
    "# Seleccionamos las columnas necesarias.\n",
    "\n",
    "df = clean_df[[\"score_text\", \"two_year_recid\", \"race\", \"age_cat\", \"sex\"]]\n",
    "df.head()"
   ]
  },
  {
   "cell_type": "code",
   "execution_count": 35,
   "metadata": {
    "colab": {
     "base_uri": "https://localhost:8080/",
     "height": 206
    },
    "executionInfo": {
     "elapsed": 53,
     "status": "ok",
     "timestamp": 1711653454351,
     "user": {
      "displayName": "Diego Rodríguez",
      "userId": "02273920844464973837"
     },
     "user_tz": 180
    },
    "id": "C9sERX1VyIh8",
    "outputId": "837b7d07-0916-44e8-9c72-63313a478d68"
   },
   "outputs": [
    {
     "data": {
      "text/html": [
       "<div>\n",
       "<style scoped>\n",
       "    .dataframe tbody tr th:only-of-type {\n",
       "        vertical-align: middle;\n",
       "    }\n",
       "\n",
       "    .dataframe tbody tr th {\n",
       "        vertical-align: top;\n",
       "    }\n",
       "\n",
       "    .dataframe thead th {\n",
       "        text-align: right;\n",
       "    }\n",
       "</style>\n",
       "<table border=\"1\" class=\"dataframe\">\n",
       "  <thead>\n",
       "    <tr style=\"text-align: right;\">\n",
       "      <th></th>\n",
       "      <th>score_text</th>\n",
       "      <th>two_year_recid</th>\n",
       "      <th>race</th>\n",
       "      <th>age_cat</th>\n",
       "      <th>sex</th>\n",
       "    </tr>\n",
       "  </thead>\n",
       "  <tbody>\n",
       "    <tr>\n",
       "      <th>0</th>\n",
       "      <td>0</td>\n",
       "      <td>0</td>\n",
       "      <td>Other</td>\n",
       "      <td>Greater than 45</td>\n",
       "      <td>Male</td>\n",
       "    </tr>\n",
       "    <tr>\n",
       "      <th>1</th>\n",
       "      <td>0</td>\n",
       "      <td>1</td>\n",
       "      <td>African-American</td>\n",
       "      <td>25 - 45</td>\n",
       "      <td>Male</td>\n",
       "    </tr>\n",
       "    <tr>\n",
       "      <th>2</th>\n",
       "      <td>0</td>\n",
       "      <td>1</td>\n",
       "      <td>African-American</td>\n",
       "      <td>Less than 25</td>\n",
       "      <td>Male</td>\n",
       "    </tr>\n",
       "    <tr>\n",
       "      <th>5</th>\n",
       "      <td>0</td>\n",
       "      <td>0</td>\n",
       "      <td>Other</td>\n",
       "      <td>25 - 45</td>\n",
       "      <td>Male</td>\n",
       "    </tr>\n",
       "    <tr>\n",
       "      <th>6</th>\n",
       "      <td>1</td>\n",
       "      <td>1</td>\n",
       "      <td>Caucasian</td>\n",
       "      <td>25 - 45</td>\n",
       "      <td>Male</td>\n",
       "    </tr>\n",
       "  </tbody>\n",
       "</table>\n",
       "</div>"
      ],
      "text/plain": [
       "   score_text  two_year_recid              race          age_cat   sex\n",
       "0           0               0             Other  Greater than 45  Male\n",
       "1           0               1  African-American          25 - 45  Male\n",
       "2           0               1  African-American     Less than 25  Male\n",
       "5           0               0             Other          25 - 45  Male\n",
       "6           1               1         Caucasian          25 - 45  Male"
      ]
     },
     "execution_count": 35,
     "metadata": {},
     "output_type": "execute_result"
    }
   ],
   "source": [
    "# score_text a variable binaria.\n",
    "\n",
    "df[\"score_text\"] = df[\"score_text\"].map({\"Low\": 0, \"Medium\": 1, \"High\": 1})\n",
    "df.head()"
   ]
  },
  {
   "cell_type": "code",
   "execution_count": 36,
   "metadata": {
    "colab": {
     "base_uri": "https://localhost:8080/"
    },
    "executionInfo": {
     "elapsed": 49,
     "status": "ok",
     "timestamp": 1711653454352,
     "user": {
      "displayName": "Diego Rodríguez",
      "userId": "02273920844464973837"
     },
     "user_tz": 180
    },
    "id": "1Xkf9K6gyVzL",
    "outputId": "d04a6c47-a31a-4b1c-9cdb-da0ba15bb819"
   },
   "outputs": [
    {
     "name": "stdout",
     "output_type": "stream",
     "text": [
      "<class 'pandas.core.frame.DataFrame'>\n",
      "Index: 6172 entries, 0 to 7213\n",
      "Data columns (total 5 columns):\n",
      " #   Column          Non-Null Count  Dtype   \n",
      "---  ------          --------------  -----   \n",
      " 0   score_text      6172 non-null   int64   \n",
      " 1   two_year_recid  6172 non-null   int64   \n",
      " 2   race            6172 non-null   category\n",
      " 3   age_cat         6172 non-null   category\n",
      " 4   sex             6172 non-null   category\n",
      "dtypes: category(3), int64(2)\n",
      "memory usage: 163.2 KB\n"
     ]
    }
   ],
   "source": [
    "df.info()"
   ]
  },
  {
   "cell_type": "code",
   "execution_count": 37,
   "metadata": {
    "executionInfo": {
     "elapsed": 41,
     "status": "ok",
     "timestamp": 1711653454353,
     "user": {
      "displayName": "Diego Rodríguez",
      "userId": "02273920844464973837"
     },
     "user_tz": 180
    },
    "id": "2mqZJi2ByW_U"
   },
   "outputs": [],
   "source": [
    "cat_cols = df.select_dtypes(include=\"category\").columns\n",
    "for col in cat_cols:\n",
    "    df[col] = df[col].astype(str)"
   ]
  },
  {
   "cell_type": "code",
   "execution_count": 38,
   "metadata": {
    "colab": {
     "base_uri": "https://localhost:8080/"
    },
    "executionInfo": {
     "elapsed": 41,
     "status": "ok",
     "timestamp": 1711653454354,
     "user": {
      "displayName": "Diego Rodríguez",
      "userId": "02273920844464973837"
     },
     "user_tz": 180
    },
    "id": "xtak_wbWyhgu",
    "outputId": "65b89838-9019-4c5f-e2b8-0e3b63260ad6"
   },
   "outputs": [
    {
     "name": "stdout",
     "output_type": "stream",
     "text": [
      "<class 'pandas.core.frame.DataFrame'>\n",
      "Index: 6172 entries, 0 to 7213\n",
      "Data columns (total 5 columns):\n",
      " #   Column          Non-Null Count  Dtype \n",
      "---  ------          --------------  ----- \n",
      " 0   score_text      6172 non-null   int64 \n",
      " 1   two_year_recid  6172 non-null   int64 \n",
      " 2   race            6172 non-null   object\n",
      " 3   age_cat         6172 non-null   object\n",
      " 4   sex             6172 non-null   object\n",
      "dtypes: int64(2), object(3)\n",
      "memory usage: 289.3+ KB\n"
     ]
    }
   ],
   "source": [
    "df.info()"
   ]
  },
  {
   "cell_type": "code",
   "execution_count": 39,
   "metadata": {
    "executionInfo": {
     "elapsed": 37,
     "status": "ok",
     "timestamp": 1711653454355,
     "user": {
      "displayName": "Diego Rodríguez",
      "userId": "02273920844464973837"
     },
     "user_tz": 180
    },
    "id": "GiHS-zXB2PJ6"
   },
   "outputs": [],
   "source": [
    "# Renombrar las columnas\n",
    "\n",
    "df.rename(\n",
    "    columns={\"score_text\": \"score\", \"two_year_recid\": \"label_value\"}, inplace=True\n",
    ")"
   ]
  },
  {
   "cell_type": "code",
   "execution_count": 40,
   "metadata": {
    "colab": {
     "base_uri": "https://localhost:8080/",
     "height": 206
    },
    "executionInfo": {
     "elapsed": 37,
     "status": "ok",
     "timestamp": 1711653454356,
     "user": {
      "displayName": "Diego Rodríguez",
      "userId": "02273920844464973837"
     },
     "user_tz": 180
    },
    "id": "5g4RQyVFdZQo",
    "outputId": "e32de656-d9b5-4cea-989b-59459ef96bfb"
   },
   "outputs": [
    {
     "data": {
      "text/html": [
       "<div>\n",
       "<style scoped>\n",
       "    .dataframe tbody tr th:only-of-type {\n",
       "        vertical-align: middle;\n",
       "    }\n",
       "\n",
       "    .dataframe tbody tr th {\n",
       "        vertical-align: top;\n",
       "    }\n",
       "\n",
       "    .dataframe thead th {\n",
       "        text-align: right;\n",
       "    }\n",
       "</style>\n",
       "<table border=\"1\" class=\"dataframe\">\n",
       "  <thead>\n",
       "    <tr style=\"text-align: right;\">\n",
       "      <th></th>\n",
       "      <th>score</th>\n",
       "      <th>label_value</th>\n",
       "      <th>race</th>\n",
       "      <th>age_cat</th>\n",
       "      <th>sex</th>\n",
       "    </tr>\n",
       "  </thead>\n",
       "  <tbody>\n",
       "    <tr>\n",
       "      <th>0</th>\n",
       "      <td>0</td>\n",
       "      <td>0</td>\n",
       "      <td>Other</td>\n",
       "      <td>Greater than 45</td>\n",
       "      <td>Male</td>\n",
       "    </tr>\n",
       "    <tr>\n",
       "      <th>1</th>\n",
       "      <td>0</td>\n",
       "      <td>1</td>\n",
       "      <td>African-American</td>\n",
       "      <td>25 - 45</td>\n",
       "      <td>Male</td>\n",
       "    </tr>\n",
       "    <tr>\n",
       "      <th>2</th>\n",
       "      <td>0</td>\n",
       "      <td>1</td>\n",
       "      <td>African-American</td>\n",
       "      <td>Less than 25</td>\n",
       "      <td>Male</td>\n",
       "    </tr>\n",
       "    <tr>\n",
       "      <th>5</th>\n",
       "      <td>0</td>\n",
       "      <td>0</td>\n",
       "      <td>Other</td>\n",
       "      <td>25 - 45</td>\n",
       "      <td>Male</td>\n",
       "    </tr>\n",
       "    <tr>\n",
       "      <th>6</th>\n",
       "      <td>1</td>\n",
       "      <td>1</td>\n",
       "      <td>Caucasian</td>\n",
       "      <td>25 - 45</td>\n",
       "      <td>Male</td>\n",
       "    </tr>\n",
       "  </tbody>\n",
       "</table>\n",
       "</div>"
      ],
      "text/plain": [
       "   score  label_value              race          age_cat   sex\n",
       "0      0            0             Other  Greater than 45  Male\n",
       "1      0            1  African-American          25 - 45  Male\n",
       "2      0            1  African-American     Less than 25  Male\n",
       "5      0            0             Other          25 - 45  Male\n",
       "6      1            1         Caucasian          25 - 45  Male"
      ]
     },
     "execution_count": 40,
     "metadata": {},
     "output_type": "execute_result"
    }
   ],
   "source": [
    "df.head()"
   ]
  },
  {
   "cell_type": "code",
   "execution_count": 41,
   "metadata": {
    "executionInfo": {
     "elapsed": 700,
     "status": "ok",
     "timestamp": 1711653455024,
     "user": {
      "displayName": "Diego Rodríguez",
      "userId": "02273920844464973837"
     },
     "user_tz": 180
    },
    "id": "r4BUR-Ityi63"
   },
   "outputs": [],
   "source": [
    "group = Group()\n",
    "xtab, _ = group.get_crosstabs(df)"
   ]
  },
  {
   "cell_type": "code",
   "execution_count": 51,
   "metadata": {
    "colab": {
     "base_uri": "https://localhost:8080/",
     "height": 255
    },
    "executionInfo": {
     "elapsed": 702,
     "status": "ok",
     "timestamp": 1711653455027,
     "user": {
      "displayName": "Diego Rodríguez",
      "userId": "02273920844464973837"
     },
     "user_tz": 180
    },
    "id": "Y9XIZ42u2AjC",
    "outputId": "4e8ceb07-773d-4cb4-b0e1-f094ea20fd1b"
   },
   "outputs": [
    {
     "data": {
      "text/html": [
       "<div>\n",
       "<style scoped>\n",
       "    .dataframe tbody tr th:only-of-type {\n",
       "        vertical-align: middle;\n",
       "    }\n",
       "\n",
       "    .dataframe tbody tr th {\n",
       "        vertical-align: top;\n",
       "    }\n",
       "\n",
       "    .dataframe thead th {\n",
       "        text-align: right;\n",
       "    }\n",
       "</style>\n",
       "<table border=\"1\" class=\"dataframe\">\n",
       "  <thead>\n",
       "    <tr style=\"text-align: right;\">\n",
       "      <th></th>\n",
       "      <th>model_id</th>\n",
       "      <th>score_threshold</th>\n",
       "      <th>k</th>\n",
       "      <th>attribute_name</th>\n",
       "      <th>attribute_value</th>\n",
       "      <th>tpr</th>\n",
       "      <th>tnr</th>\n",
       "      <th>for</th>\n",
       "      <th>fdr</th>\n",
       "      <th>fpr</th>\n",
       "      <th>...</th>\n",
       "      <th>pprev</th>\n",
       "      <th>fp</th>\n",
       "      <th>fn</th>\n",
       "      <th>tn</th>\n",
       "      <th>tp</th>\n",
       "      <th>group_label_pos</th>\n",
       "      <th>group_label_neg</th>\n",
       "      <th>group_size</th>\n",
       "      <th>total_entities</th>\n",
       "      <th>prev</th>\n",
       "    </tr>\n",
       "  </thead>\n",
       "  <tbody>\n",
       "    <tr>\n",
       "      <th>0</th>\n",
       "      <td>0</td>\n",
       "      <td>binary 0/1</td>\n",
       "      <td>2751</td>\n",
       "      <td>race</td>\n",
       "      <td>African-American</td>\n",
       "      <td>0.715232</td>\n",
       "      <td>0.576618</td>\n",
       "      <td>0.351412</td>\n",
       "      <td>0.350465</td>\n",
       "      <td>0.423382</td>\n",
       "      <td>...</td>\n",
       "      <td>0.576063</td>\n",
       "      <td>641</td>\n",
       "      <td>473</td>\n",
       "      <td>873</td>\n",
       "      <td>1188</td>\n",
       "      <td>1661</td>\n",
       "      <td>1514</td>\n",
       "      <td>3175</td>\n",
       "      <td>6172</td>\n",
       "      <td>0.523150</td>\n",
       "    </tr>\n",
       "    <tr>\n",
       "      <th>1</th>\n",
       "      <td>0</td>\n",
       "      <td>binary 0/1</td>\n",
       "      <td>2751</td>\n",
       "      <td>race</td>\n",
       "      <td>Asian</td>\n",
       "      <td>0.625000</td>\n",
       "      <td>0.913043</td>\n",
       "      <td>0.125000</td>\n",
       "      <td>0.285714</td>\n",
       "      <td>0.086957</td>\n",
       "      <td>...</td>\n",
       "      <td>0.225806</td>\n",
       "      <td>2</td>\n",
       "      <td>3</td>\n",
       "      <td>21</td>\n",
       "      <td>5</td>\n",
       "      <td>8</td>\n",
       "      <td>23</td>\n",
       "      <td>31</td>\n",
       "      <td>6172</td>\n",
       "      <td>0.258065</td>\n",
       "    </tr>\n",
       "    <tr>\n",
       "      <th>2</th>\n",
       "      <td>0</td>\n",
       "      <td>binary 0/1</td>\n",
       "      <td>2751</td>\n",
       "      <td>race</td>\n",
       "      <td>Caucasian</td>\n",
       "      <td>0.503650</td>\n",
       "      <td>0.779859</td>\n",
       "      <td>0.289979</td>\n",
       "      <td>0.405172</td>\n",
       "      <td>0.220141</td>\n",
       "      <td>...</td>\n",
       "      <td>0.330956</td>\n",
       "      <td>282</td>\n",
       "      <td>408</td>\n",
       "      <td>999</td>\n",
       "      <td>414</td>\n",
       "      <td>822</td>\n",
       "      <td>1281</td>\n",
       "      <td>2103</td>\n",
       "      <td>6172</td>\n",
       "      <td>0.390870</td>\n",
       "    </tr>\n",
       "    <tr>\n",
       "      <th>3</th>\n",
       "      <td>0</td>\n",
       "      <td>binary 0/1</td>\n",
       "      <td>2751</td>\n",
       "      <td>race</td>\n",
       "      <td>Hispanic</td>\n",
       "      <td>0.417989</td>\n",
       "      <td>0.806250</td>\n",
       "      <td>0.298913</td>\n",
       "      <td>0.439716</td>\n",
       "      <td>0.193750</td>\n",
       "      <td>...</td>\n",
       "      <td>0.277014</td>\n",
       "      <td>62</td>\n",
       "      <td>110</td>\n",
       "      <td>258</td>\n",
       "      <td>79</td>\n",
       "      <td>189</td>\n",
       "      <td>320</td>\n",
       "      <td>509</td>\n",
       "      <td>6172</td>\n",
       "      <td>0.371316</td>\n",
       "    </tr>\n",
       "    <tr>\n",
       "      <th>4</th>\n",
       "      <td>0</td>\n",
       "      <td>binary 0/1</td>\n",
       "      <td>2751</td>\n",
       "      <td>race</td>\n",
       "      <td>Native American</td>\n",
       "      <td>1.000000</td>\n",
       "      <td>0.500000</td>\n",
       "      <td>0.000000</td>\n",
       "      <td>0.375000</td>\n",
       "      <td>0.500000</td>\n",
       "      <td>...</td>\n",
       "      <td>0.727273</td>\n",
       "      <td>3</td>\n",
       "      <td>0</td>\n",
       "      <td>3</td>\n",
       "      <td>5</td>\n",
       "      <td>5</td>\n",
       "      <td>6</td>\n",
       "      <td>11</td>\n",
       "      <td>6172</td>\n",
       "      <td>0.454545</td>\n",
       "    </tr>\n",
       "    <tr>\n",
       "      <th>5</th>\n",
       "      <td>0</td>\n",
       "      <td>binary 0/1</td>\n",
       "      <td>2751</td>\n",
       "      <td>race</td>\n",
       "      <td>Other</td>\n",
       "      <td>0.338710</td>\n",
       "      <td>0.872146</td>\n",
       "      <td>0.300366</td>\n",
       "      <td>0.400000</td>\n",
       "      <td>0.127854</td>\n",
       "      <td>...</td>\n",
       "      <td>0.204082</td>\n",
       "      <td>28</td>\n",
       "      <td>82</td>\n",
       "      <td>191</td>\n",
       "      <td>42</td>\n",
       "      <td>124</td>\n",
       "      <td>219</td>\n",
       "      <td>343</td>\n",
       "      <td>6172</td>\n",
       "      <td>0.361516</td>\n",
       "    </tr>\n",
       "    <tr>\n",
       "      <th>6</th>\n",
       "      <td>0</td>\n",
       "      <td>binary 0/1</td>\n",
       "      <td>2751</td>\n",
       "      <td>age_cat</td>\n",
       "      <td>25 - 45</td>\n",
       "      <td>0.617916</td>\n",
       "      <td>0.690111</td>\n",
       "      <td>0.324534</td>\n",
       "      <td>0.366250</td>\n",
       "      <td>0.309889</td>\n",
       "      <td>...</td>\n",
       "      <td>0.453001</td>\n",
       "      <td>586</td>\n",
       "      <td>627</td>\n",
       "      <td>1305</td>\n",
       "      <td>1014</td>\n",
       "      <td>1641</td>\n",
       "      <td>1891</td>\n",
       "      <td>3532</td>\n",
       "      <td>6172</td>\n",
       "      <td>0.464609</td>\n",
       "    </tr>\n",
       "    <tr>\n",
       "      <th>7</th>\n",
       "      <td>0</td>\n",
       "      <td>binary 0/1</td>\n",
       "      <td>2751</td>\n",
       "      <td>age_cat</td>\n",
       "      <td>Greater than 45</td>\n",
       "      <td>0.410628</td>\n",
       "      <td>0.869170</td>\n",
       "      <td>0.242063</td>\n",
       "      <td>0.403509</td>\n",
       "      <td>0.130830</td>\n",
       "      <td>...</td>\n",
       "      <td>0.220418</td>\n",
       "      <td>115</td>\n",
       "      <td>244</td>\n",
       "      <td>764</td>\n",
       "      <td>170</td>\n",
       "      <td>414</td>\n",
       "      <td>879</td>\n",
       "      <td>1293</td>\n",
       "      <td>6172</td>\n",
       "      <td>0.320186</td>\n",
       "    </tr>\n",
       "    <tr>\n",
       "      <th>8</th>\n",
       "      <td>0</td>\n",
       "      <td>binary 0/1</td>\n",
       "      <td>2751</td>\n",
       "      <td>age_cat</td>\n",
       "      <td>Less than 25</td>\n",
       "      <td>0.728117</td>\n",
       "      <td>0.465430</td>\n",
       "      <td>0.426195</td>\n",
       "      <td>0.366051</td>\n",
       "      <td>0.534570</td>\n",
       "      <td>...</td>\n",
       "      <td>0.642910</td>\n",
       "      <td>317</td>\n",
       "      <td>205</td>\n",
       "      <td>276</td>\n",
       "      <td>549</td>\n",
       "      <td>754</td>\n",
       "      <td>593</td>\n",
       "      <td>1347</td>\n",
       "      <td>6172</td>\n",
       "      <td>0.559762</td>\n",
       "    </tr>\n",
       "    <tr>\n",
       "      <th>9</th>\n",
       "      <td>0</td>\n",
       "      <td>binary 0/1</td>\n",
       "      <td>2751</td>\n",
       "      <td>sex</td>\n",
       "      <td>Female</td>\n",
       "      <td>0.595642</td>\n",
       "      <td>0.698163</td>\n",
       "      <td>0.238913</td>\n",
       "      <td>0.483193</td>\n",
       "      <td>0.301837</td>\n",
       "      <td>...</td>\n",
       "      <td>0.405106</td>\n",
       "      <td>230</td>\n",
       "      <td>167</td>\n",
       "      <td>532</td>\n",
       "      <td>246</td>\n",
       "      <td>413</td>\n",
       "      <td>762</td>\n",
       "      <td>1175</td>\n",
       "      <td>6172</td>\n",
       "      <td>0.351489</td>\n",
       "    </tr>\n",
       "    <tr>\n",
       "      <th>10</th>\n",
       "      <td>0</td>\n",
       "      <td>binary 0/1</td>\n",
       "      <td>2751</td>\n",
       "      <td>sex</td>\n",
       "      <td>Male</td>\n",
       "      <td>0.620618</td>\n",
       "      <td>0.697040</td>\n",
       "      <td>0.333946</td>\n",
       "      <td>0.346374</td>\n",
       "      <td>0.302960</td>\n",
       "      <td>...</td>\n",
       "      <td>0.455273</td>\n",
       "      <td>788</td>\n",
       "      <td>909</td>\n",
       "      <td>1813</td>\n",
       "      <td>1487</td>\n",
       "      <td>2396</td>\n",
       "      <td>2601</td>\n",
       "      <td>4997</td>\n",
       "      <td>6172</td>\n",
       "      <td>0.479488</td>\n",
       "    </tr>\n",
       "  </tbody>\n",
       "</table>\n",
       "<p>11 rows × 26 columns</p>\n",
       "</div>"
      ],
      "text/plain": [
       "    model_id score_threshold     k attribute_name   attribute_value       tpr  \\\n",
       "0          0      binary 0/1  2751           race  African-American  0.715232   \n",
       "1          0      binary 0/1  2751           race             Asian  0.625000   \n",
       "2          0      binary 0/1  2751           race         Caucasian  0.503650   \n",
       "3          0      binary 0/1  2751           race          Hispanic  0.417989   \n",
       "4          0      binary 0/1  2751           race   Native American  1.000000   \n",
       "5          0      binary 0/1  2751           race             Other  0.338710   \n",
       "6          0      binary 0/1  2751        age_cat           25 - 45  0.617916   \n",
       "7          0      binary 0/1  2751        age_cat   Greater than 45  0.410628   \n",
       "8          0      binary 0/1  2751        age_cat      Less than 25  0.728117   \n",
       "9          0      binary 0/1  2751            sex            Female  0.595642   \n",
       "10         0      binary 0/1  2751            sex              Male  0.620618   \n",
       "\n",
       "         tnr       for       fdr       fpr  ...     pprev   fp   fn    tn  \\\n",
       "0   0.576618  0.351412  0.350465  0.423382  ...  0.576063  641  473   873   \n",
       "1   0.913043  0.125000  0.285714  0.086957  ...  0.225806    2    3    21   \n",
       "2   0.779859  0.289979  0.405172  0.220141  ...  0.330956  282  408   999   \n",
       "3   0.806250  0.298913  0.439716  0.193750  ...  0.277014   62  110   258   \n",
       "4   0.500000  0.000000  0.375000  0.500000  ...  0.727273    3    0     3   \n",
       "5   0.872146  0.300366  0.400000  0.127854  ...  0.204082   28   82   191   \n",
       "6   0.690111  0.324534  0.366250  0.309889  ...  0.453001  586  627  1305   \n",
       "7   0.869170  0.242063  0.403509  0.130830  ...  0.220418  115  244   764   \n",
       "8   0.465430  0.426195  0.366051  0.534570  ...  0.642910  317  205   276   \n",
       "9   0.698163  0.238913  0.483193  0.301837  ...  0.405106  230  167   532   \n",
       "10  0.697040  0.333946  0.346374  0.302960  ...  0.455273  788  909  1813   \n",
       "\n",
       "      tp  group_label_pos  group_label_neg  group_size  total_entities  \\\n",
       "0   1188             1661             1514        3175            6172   \n",
       "1      5                8               23          31            6172   \n",
       "2    414              822             1281        2103            6172   \n",
       "3     79              189              320         509            6172   \n",
       "4      5                5                6          11            6172   \n",
       "5     42              124              219         343            6172   \n",
       "6   1014             1641             1891        3532            6172   \n",
       "7    170              414              879        1293            6172   \n",
       "8    549              754              593        1347            6172   \n",
       "9    246              413              762        1175            6172   \n",
       "10  1487             2396             2601        4997            6172   \n",
       "\n",
       "        prev  \n",
       "0   0.523150  \n",
       "1   0.258065  \n",
       "2   0.390870  \n",
       "3   0.371316  \n",
       "4   0.454545  \n",
       "5   0.361516  \n",
       "6   0.464609  \n",
       "7   0.320186  \n",
       "8   0.559762  \n",
       "9   0.351489  \n",
       "10  0.479488  \n",
       "\n",
       "[11 rows x 26 columns]"
      ]
     },
     "execution_count": 51,
     "metadata": {},
     "output_type": "execute_result"
    }
   ],
   "source": [
    "xtab"
   ]
  },
  {
   "cell_type": "code",
   "execution_count": 43,
   "metadata": {
    "colab": {
     "base_uri": "https://localhost:8080/"
    },
    "executionInfo": {
     "elapsed": 41,
     "status": "ok",
     "timestamp": 1711653455028,
     "user": {
      "displayName": "Diego Rodríguez",
      "userId": "02273920844464973837"
     },
     "user_tz": 180
    },
    "id": "4FMMYv3ndlhg",
    "outputId": "7b3d5a7e-3d6c-407b-ae20-9092a24e143a"
   },
   "outputs": [
    {
     "data": {
      "text/plain": [
       "Index(['model_id', 'score_threshold', 'k', 'attribute_name', 'attribute_value',\n",
       "       'tpr', 'tnr', 'for', 'fdr', 'fpr', 'fnr', 'npv', 'precision', 'pp',\n",
       "       'pn', 'ppr', 'pprev', 'fp', 'fn', 'tn', 'tp', 'group_label_pos',\n",
       "       'group_label_neg', 'group_size', 'total_entities', 'prev'],\n",
       "      dtype='object')"
      ]
     },
     "execution_count": 43,
     "metadata": {},
     "output_type": "execute_result"
    }
   ],
   "source": [
    "xtab.columns"
   ]
  },
  {
   "cell_type": "code",
   "execution_count": 44,
   "metadata": {},
   "outputs": [
    {
     "data": {
      "text/plain": [
       "26"
      ]
     },
     "execution_count": 44,
     "metadata": {},
     "output_type": "execute_result"
    }
   ],
   "source": [
    "len(xtab.columns)"
   ]
  },
  {
   "cell_type": "markdown",
   "metadata": {
    "id": "u-xKfwAc6eRr"
   },
   "source": [
    "#### Group Counts Calculated:\n",
    "\n",
    "| Count Type | Column Name |\n",
    "| --- | --- |\n",
    "| False Positive Count | 'fp' |\n",
    "| False Negative Count | 'fn' |\n",
    "| True Negative Count | 'tn' |\n",
    "| True Positive Count | 'tp' |\n",
    "| Predicted Positive Count | 'pp' |\n",
    "| Predicted Negative Count | 'pn' |\n",
    "| Count of Negative Labels in Group | 'group_label_neg' |\n",
    "| Count of Positive Labels in Group | 'group_label_pos' |\n",
    "| Group Size | 'group_size'|\n",
    "| Total Entities | 'total_entities' |\n",
    "\n",
    "#### Absolute Metrics Calculated:\n",
    "\n",
    "| Metric | Column Name |\n",
    "| --- | --- |\n",
    "| True Positive Rate | 'tpr' |\n",
    "| True Negative Rate | 'tnr' |\n",
    "| False Omission Rate | 'for' |\n",
    "| False Discovery Rate | 'fdr' |\n",
    "| False Positive Rate | 'fpr' |\n",
    "| False Negative Rate | 'fnr' |\n",
    "| Negative Predictive Value | 'npv' |\n",
    "| Precision | 'precision' |\n",
    "| Predicted Positive Ratio$_k$ | 'ppr' |\n",
    "| Predicted Positive Ratio$_g$ | 'pprev' |\n",
    "| Group Prevalence | 'prev' |\n"
   ]
  },
  {
   "cell_type": "code",
   "execution_count": 45,
   "metadata": {
    "colab": {
     "base_uri": "https://localhost:8080/"
    },
    "executionInfo": {
     "elapsed": 29,
     "status": "ok",
     "timestamp": 1711653455028,
     "user": {
      "displayName": "Diego Rodríguez",
      "userId": "02273920844464973837"
     },
     "user_tz": 180
    },
    "id": "QImejaKZIVdx",
    "outputId": "70fc0957-e143-40a6-b086-b72d8eb209b5"
   },
   "outputs": [
    {
     "data": {
      "text/plain": [
       "['tpr',\n",
       " 'tnr',\n",
       " 'for',\n",
       " 'fdr',\n",
       " 'fpr',\n",
       " 'fnr',\n",
       " 'npv',\n",
       " 'precision',\n",
       " 'ppr',\n",
       " 'pprev',\n",
       " 'prev']"
      ]
     },
     "execution_count": 45,
     "metadata": {},
     "output_type": "execute_result"
    }
   ],
   "source": [
    "absolute_metrics = group.list_absolute_metrics(xtab)\n",
    "absolute_metrics"
   ]
  },
  {
   "cell_type": "code",
   "execution_count": 46,
   "metadata": {
    "colab": {
     "base_uri": "https://localhost:8080/",
     "height": 394
    },
    "executionInfo": {
     "elapsed": 23,
     "status": "ok",
     "timestamp": 1711653455028,
     "user": {
      "displayName": "Diego Rodríguez",
      "userId": "02273920844464973837"
     },
     "user_tz": 180
    },
    "id": "YUaqhCiCIVts",
    "outputId": "7b2ab0cc-eed6-4908-bf9a-09723d3dbe7e"
   },
   "outputs": [
    {
     "data": {
      "text/html": [
       "<div>\n",
       "<style scoped>\n",
       "    .dataframe tbody tr th:only-of-type {\n",
       "        vertical-align: middle;\n",
       "    }\n",
       "\n",
       "    .dataframe tbody tr th {\n",
       "        vertical-align: top;\n",
       "    }\n",
       "\n",
       "    .dataframe thead th {\n",
       "        text-align: right;\n",
       "    }\n",
       "</style>\n",
       "<table border=\"1\" class=\"dataframe\">\n",
       "  <thead>\n",
       "    <tr style=\"text-align: right;\">\n",
       "      <th></th>\n",
       "      <th>attribute_name</th>\n",
       "      <th>attribute_value</th>\n",
       "      <th>tpr</th>\n",
       "      <th>tnr</th>\n",
       "      <th>for</th>\n",
       "      <th>fdr</th>\n",
       "      <th>fpr</th>\n",
       "      <th>fnr</th>\n",
       "      <th>npv</th>\n",
       "      <th>precision</th>\n",
       "      <th>ppr</th>\n",
       "      <th>pprev</th>\n",
       "      <th>prev</th>\n",
       "    </tr>\n",
       "  </thead>\n",
       "  <tbody>\n",
       "    <tr>\n",
       "      <th>0</th>\n",
       "      <td>race</td>\n",
       "      <td>African-American</td>\n",
       "      <td>0.715232</td>\n",
       "      <td>0.576618</td>\n",
       "      <td>0.351412</td>\n",
       "      <td>0.350465</td>\n",
       "      <td>0.423382</td>\n",
       "      <td>0.284768</td>\n",
       "      <td>0.648588</td>\n",
       "      <td>0.649535</td>\n",
       "      <td>0.664849</td>\n",
       "      <td>0.576063</td>\n",
       "      <td>0.523150</td>\n",
       "    </tr>\n",
       "    <tr>\n",
       "      <th>1</th>\n",
       "      <td>race</td>\n",
       "      <td>Asian</td>\n",
       "      <td>0.625000</td>\n",
       "      <td>0.913043</td>\n",
       "      <td>0.125000</td>\n",
       "      <td>0.285714</td>\n",
       "      <td>0.086957</td>\n",
       "      <td>0.375000</td>\n",
       "      <td>0.875000</td>\n",
       "      <td>0.714286</td>\n",
       "      <td>0.002545</td>\n",
       "      <td>0.225806</td>\n",
       "      <td>0.258065</td>\n",
       "    </tr>\n",
       "    <tr>\n",
       "      <th>2</th>\n",
       "      <td>race</td>\n",
       "      <td>Caucasian</td>\n",
       "      <td>0.503650</td>\n",
       "      <td>0.779859</td>\n",
       "      <td>0.289979</td>\n",
       "      <td>0.405172</td>\n",
       "      <td>0.220141</td>\n",
       "      <td>0.496350</td>\n",
       "      <td>0.710021</td>\n",
       "      <td>0.594828</td>\n",
       "      <td>0.252999</td>\n",
       "      <td>0.330956</td>\n",
       "      <td>0.390870</td>\n",
       "    </tr>\n",
       "    <tr>\n",
       "      <th>3</th>\n",
       "      <td>race</td>\n",
       "      <td>Hispanic</td>\n",
       "      <td>0.417989</td>\n",
       "      <td>0.806250</td>\n",
       "      <td>0.298913</td>\n",
       "      <td>0.439716</td>\n",
       "      <td>0.193750</td>\n",
       "      <td>0.582011</td>\n",
       "      <td>0.701087</td>\n",
       "      <td>0.560284</td>\n",
       "      <td>0.051254</td>\n",
       "      <td>0.277014</td>\n",
       "      <td>0.371316</td>\n",
       "    </tr>\n",
       "    <tr>\n",
       "      <th>4</th>\n",
       "      <td>race</td>\n",
       "      <td>Native American</td>\n",
       "      <td>1.000000</td>\n",
       "      <td>0.500000</td>\n",
       "      <td>0.000000</td>\n",
       "      <td>0.375000</td>\n",
       "      <td>0.500000</td>\n",
       "      <td>0.000000</td>\n",
       "      <td>1.000000</td>\n",
       "      <td>0.625000</td>\n",
       "      <td>0.002908</td>\n",
       "      <td>0.727273</td>\n",
       "      <td>0.454545</td>\n",
       "    </tr>\n",
       "    <tr>\n",
       "      <th>5</th>\n",
       "      <td>race</td>\n",
       "      <td>Other</td>\n",
       "      <td>0.338710</td>\n",
       "      <td>0.872146</td>\n",
       "      <td>0.300366</td>\n",
       "      <td>0.400000</td>\n",
       "      <td>0.127854</td>\n",
       "      <td>0.661290</td>\n",
       "      <td>0.699634</td>\n",
       "      <td>0.600000</td>\n",
       "      <td>0.025445</td>\n",
       "      <td>0.204082</td>\n",
       "      <td>0.361516</td>\n",
       "    </tr>\n",
       "    <tr>\n",
       "      <th>6</th>\n",
       "      <td>age_cat</td>\n",
       "      <td>25 - 45</td>\n",
       "      <td>0.617916</td>\n",
       "      <td>0.690111</td>\n",
       "      <td>0.324534</td>\n",
       "      <td>0.366250</td>\n",
       "      <td>0.309889</td>\n",
       "      <td>0.382084</td>\n",
       "      <td>0.675466</td>\n",
       "      <td>0.633750</td>\n",
       "      <td>0.581607</td>\n",
       "      <td>0.453001</td>\n",
       "      <td>0.464609</td>\n",
       "    </tr>\n",
       "    <tr>\n",
       "      <th>7</th>\n",
       "      <td>age_cat</td>\n",
       "      <td>Greater than 45</td>\n",
       "      <td>0.410628</td>\n",
       "      <td>0.869170</td>\n",
       "      <td>0.242063</td>\n",
       "      <td>0.403509</td>\n",
       "      <td>0.130830</td>\n",
       "      <td>0.589372</td>\n",
       "      <td>0.757937</td>\n",
       "      <td>0.596491</td>\n",
       "      <td>0.103599</td>\n",
       "      <td>0.220418</td>\n",
       "      <td>0.320186</td>\n",
       "    </tr>\n",
       "    <tr>\n",
       "      <th>8</th>\n",
       "      <td>age_cat</td>\n",
       "      <td>Less than 25</td>\n",
       "      <td>0.728117</td>\n",
       "      <td>0.465430</td>\n",
       "      <td>0.426195</td>\n",
       "      <td>0.366051</td>\n",
       "      <td>0.534570</td>\n",
       "      <td>0.271883</td>\n",
       "      <td>0.573805</td>\n",
       "      <td>0.633949</td>\n",
       "      <td>0.314795</td>\n",
       "      <td>0.642910</td>\n",
       "      <td>0.559762</td>\n",
       "    </tr>\n",
       "    <tr>\n",
       "      <th>9</th>\n",
       "      <td>sex</td>\n",
       "      <td>Female</td>\n",
       "      <td>0.595642</td>\n",
       "      <td>0.698163</td>\n",
       "      <td>0.238913</td>\n",
       "      <td>0.483193</td>\n",
       "      <td>0.301837</td>\n",
       "      <td>0.404358</td>\n",
       "      <td>0.761087</td>\n",
       "      <td>0.516807</td>\n",
       "      <td>0.173028</td>\n",
       "      <td>0.405106</td>\n",
       "      <td>0.351489</td>\n",
       "    </tr>\n",
       "    <tr>\n",
       "      <th>10</th>\n",
       "      <td>sex</td>\n",
       "      <td>Male</td>\n",
       "      <td>0.620618</td>\n",
       "      <td>0.697040</td>\n",
       "      <td>0.333946</td>\n",
       "      <td>0.346374</td>\n",
       "      <td>0.302960</td>\n",
       "      <td>0.379382</td>\n",
       "      <td>0.666054</td>\n",
       "      <td>0.653626</td>\n",
       "      <td>0.826972</td>\n",
       "      <td>0.455273</td>\n",
       "      <td>0.479488</td>\n",
       "    </tr>\n",
       "  </tbody>\n",
       "</table>\n",
       "</div>"
      ],
      "text/plain": [
       "   attribute_name   attribute_value       tpr       tnr       for       fdr  \\\n",
       "0            race  African-American  0.715232  0.576618  0.351412  0.350465   \n",
       "1            race             Asian  0.625000  0.913043  0.125000  0.285714   \n",
       "2            race         Caucasian  0.503650  0.779859  0.289979  0.405172   \n",
       "3            race          Hispanic  0.417989  0.806250  0.298913  0.439716   \n",
       "4            race   Native American  1.000000  0.500000  0.000000  0.375000   \n",
       "5            race             Other  0.338710  0.872146  0.300366  0.400000   \n",
       "6         age_cat           25 - 45  0.617916  0.690111  0.324534  0.366250   \n",
       "7         age_cat   Greater than 45  0.410628  0.869170  0.242063  0.403509   \n",
       "8         age_cat      Less than 25  0.728117  0.465430  0.426195  0.366051   \n",
       "9             sex            Female  0.595642  0.698163  0.238913  0.483193   \n",
       "10            sex              Male  0.620618  0.697040  0.333946  0.346374   \n",
       "\n",
       "         fpr       fnr       npv  precision       ppr     pprev      prev  \n",
       "0   0.423382  0.284768  0.648588   0.649535  0.664849  0.576063  0.523150  \n",
       "1   0.086957  0.375000  0.875000   0.714286  0.002545  0.225806  0.258065  \n",
       "2   0.220141  0.496350  0.710021   0.594828  0.252999  0.330956  0.390870  \n",
       "3   0.193750  0.582011  0.701087   0.560284  0.051254  0.277014  0.371316  \n",
       "4   0.500000  0.000000  1.000000   0.625000  0.002908  0.727273  0.454545  \n",
       "5   0.127854  0.661290  0.699634   0.600000  0.025445  0.204082  0.361516  \n",
       "6   0.309889  0.382084  0.675466   0.633750  0.581607  0.453001  0.464609  \n",
       "7   0.130830  0.589372  0.757937   0.596491  0.103599  0.220418  0.320186  \n",
       "8   0.534570  0.271883  0.573805   0.633949  0.314795  0.642910  0.559762  \n",
       "9   0.301837  0.404358  0.761087   0.516807  0.173028  0.405106  0.351489  \n",
       "10  0.302960  0.379382  0.666054   0.653626  0.826972  0.455273  0.479488  "
      ]
     },
     "execution_count": 46,
     "metadata": {},
     "output_type": "execute_result"
    }
   ],
   "source": [
    "absolute_xtab = xtab[[\"attribute_name\", \"attribute_value\"] + absolute_metrics]\n",
    "absolute_xtab"
   ]
  },
  {
   "cell_type": "code",
   "execution_count": 47,
   "metadata": {
    "colab": {
     "base_uri": "https://localhost:8080/"
    },
    "executionInfo": {
     "elapsed": 256,
     "status": "ok",
     "timestamp": 1711653466725,
     "user": {
      "displayName": "Diego Rodríguez",
      "userId": "02273920844464973837"
     },
     "user_tz": 180
    },
    "id": "YNGpk0Y-fe65",
    "outputId": "ef180791-419a-4600-efe6-393d3e00f5d3"
   },
   "outputs": [
    {
     "data": {
      "text/plain": [
       "(11, 26)"
      ]
     },
     "execution_count": 47,
     "metadata": {},
     "output_type": "execute_result"
    }
   ],
   "source": [
    "xtab.shape"
   ]
  }
 ],
 "metadata": {
  "colab": {
   "authorship_tag": "ABX9TyOFYKxMnzhs3n1FOSt0oyUO",
   "provenance": [
    {
     "file_id": "12LyKRUBS-dsqt5-FNJBYoi7xgce90WJh",
     "timestamp": 1711465659674
    },
    {
     "file_id": "1TrpdgQ-wANobfl6j5qIXW5SgijT5Uats",
     "timestamp": 1691786325364
    }
   ]
  },
  "kernelspec": {
   "display_name": "Python 3",
   "name": "python3"
  },
  "language_info": {
   "codemirror_mode": {
    "name": "ipython",
    "version": 3
   },
   "file_extension": ".py",
   "mimetype": "text/x-python",
   "name": "python",
   "nbconvert_exporter": "python",
   "pygments_lexer": "ipython3",
   "version": "3.13.2"
  }
 },
 "nbformat": 4,
 "nbformat_minor": 0
}
