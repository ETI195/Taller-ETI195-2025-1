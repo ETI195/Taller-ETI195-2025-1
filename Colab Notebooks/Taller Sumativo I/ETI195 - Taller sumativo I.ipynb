{
 "cells": [
  {
   "cell_type": "markdown",
   "metadata": {},
   "source": [
    "<center><h1> ETI195 - Ética para Ciencia de Datos y Estadística </h1><center>\n",
    "<center><h2> Taller Sumativo I: Análisis demográfico  <h2><center>    "
   ]
  },
  {
   "cell_type": "markdown",
   "metadata": {},
   "source": [
    "## Instrucciones:\n",
    "\n",
    "- La siguiente tarea es **individual**. \n",
    "- Cuenta con intentos ilimitados para el envío de su tarea."
   ]
  },
  {
   "cell_type": "markdown",
   "metadata": {},
   "source": [
    "## Import de librerías"
   ]
  },
  {
   "cell_type": "code",
   "execution_count": 1,
   "metadata": {
    "executionInfo": {
     "elapsed": 2143,
     "status": "ok",
     "timestamp": 1710886045803,
     "user": {
      "displayName": "Diego Rodríguez",
      "userId": "02273920844464973837"
     },
     "user_tz": 180
    },
    "id": "3kN0xEr39AuR"
   },
   "outputs": [],
   "source": [
    "import pandas as pd\n",
    "from matplotlib import pyplot as plt\n",
    "import seaborn as sns"
   ]
  },
  {
   "cell_type": "markdown",
   "metadata": {},
   "source": [
    "## Descripción de los datos a utilizar"
   ]
  },
  {
   "cell_type": "markdown",
   "metadata": {
    "id": "w4OTfWZeKpFV"
   },
   "source": [
    "\n",
    "Este conjunto de datos clasifica a las personas descritas por un conjunto de atributos con buenos o malos riesgos crediticios."
   ]
  },
  {
   "cell_type": "code",
   "execution_count": 2,
   "metadata": {
    "colab": {
     "base_uri": "https://localhost:8080/",
     "height": 307
    },
    "executionInfo": {
     "elapsed": 354,
     "status": "ok",
     "timestamp": 1710886082324,
     "user": {
      "displayName": "Diego Rodríguez",
      "userId": "02273920844464973837"
     },
     "user_tz": 180
    },
    "id": "IfGM1eTu9MLz",
    "outputId": "dadc49c2-42b6-46c5-80da-8952acde46d5"
   },
   "outputs": [
    {
     "data": {
      "text/html": [
       "<div>\n",
       "<style scoped>\n",
       "    .dataframe tbody tr th:only-of-type {\n",
       "        vertical-align: middle;\n",
       "    }\n",
       "\n",
       "    .dataframe tbody tr th {\n",
       "        vertical-align: top;\n",
       "    }\n",
       "\n",
       "    .dataframe thead th {\n",
       "        text-align: right;\n",
       "    }\n",
       "</style>\n",
       "<table border=\"1\" class=\"dataframe\">\n",
       "  <thead>\n",
       "    <tr style=\"text-align: right;\">\n",
       "      <th></th>\n",
       "      <th>sex</th>\n",
       "      <th>age_cat</th>\n",
       "      <th>foreign_worker</th>\n",
       "      <th>checking_status</th>\n",
       "      <th>duration</th>\n",
       "      <th>credit_history</th>\n",
       "      <th>purpose</th>\n",
       "      <th>credit_amount</th>\n",
       "      <th>savings_status</th>\n",
       "      <th>employment</th>\n",
       "      <th>...</th>\n",
       "      <th>property_magnitude</th>\n",
       "      <th>age</th>\n",
       "      <th>other_payment_plans</th>\n",
       "      <th>housing</th>\n",
       "      <th>existing_credits</th>\n",
       "      <th>job</th>\n",
       "      <th>num_dependents</th>\n",
       "      <th>own_telephone</th>\n",
       "      <th>marital_status</th>\n",
       "      <th>credit-risk</th>\n",
       "    </tr>\n",
       "  </thead>\n",
       "  <tbody>\n",
       "    <tr>\n",
       "      <th>0</th>\n",
       "      <td>male</td>\n",
       "      <td>aged</td>\n",
       "      <td>yes</td>\n",
       "      <td>&lt;0</td>\n",
       "      <td>6.0</td>\n",
       "      <td>critical/other existing credit</td>\n",
       "      <td>radio/tv</td>\n",
       "      <td>1169.0</td>\n",
       "      <td>no known savings</td>\n",
       "      <td>&gt;=7</td>\n",
       "      <td>...</td>\n",
       "      <td>real estate</td>\n",
       "      <td>67.0</td>\n",
       "      <td>none</td>\n",
       "      <td>own</td>\n",
       "      <td>2.0</td>\n",
       "      <td>skilled</td>\n",
       "      <td>1.0</td>\n",
       "      <td>yes</td>\n",
       "      <td>single</td>\n",
       "      <td>good</td>\n",
       "    </tr>\n",
       "    <tr>\n",
       "      <th>1</th>\n",
       "      <td>female</td>\n",
       "      <td>young</td>\n",
       "      <td>yes</td>\n",
       "      <td>0&lt;=X&lt;200</td>\n",
       "      <td>48.0</td>\n",
       "      <td>existing paid</td>\n",
       "      <td>radio/tv</td>\n",
       "      <td>5951.0</td>\n",
       "      <td>&lt;100</td>\n",
       "      <td>1&lt;=X&lt;4</td>\n",
       "      <td>...</td>\n",
       "      <td>real estate</td>\n",
       "      <td>22.0</td>\n",
       "      <td>none</td>\n",
       "      <td>own</td>\n",
       "      <td>1.0</td>\n",
       "      <td>skilled</td>\n",
       "      <td>1.0</td>\n",
       "      <td>none</td>\n",
       "      <td>div/dep/mar</td>\n",
       "      <td>bad</td>\n",
       "    </tr>\n",
       "    <tr>\n",
       "      <th>2</th>\n",
       "      <td>male</td>\n",
       "      <td>aged</td>\n",
       "      <td>yes</td>\n",
       "      <td>no checking</td>\n",
       "      <td>12.0</td>\n",
       "      <td>critical/other existing credit</td>\n",
       "      <td>education</td>\n",
       "      <td>2096.0</td>\n",
       "      <td>&lt;100</td>\n",
       "      <td>4&lt;=X&lt;7</td>\n",
       "      <td>...</td>\n",
       "      <td>real estate</td>\n",
       "      <td>49.0</td>\n",
       "      <td>none</td>\n",
       "      <td>own</td>\n",
       "      <td>1.0</td>\n",
       "      <td>unskilled resident</td>\n",
       "      <td>2.0</td>\n",
       "      <td>none</td>\n",
       "      <td>single</td>\n",
       "      <td>good</td>\n",
       "    </tr>\n",
       "    <tr>\n",
       "      <th>3</th>\n",
       "      <td>male</td>\n",
       "      <td>aged</td>\n",
       "      <td>yes</td>\n",
       "      <td>&lt;0</td>\n",
       "      <td>42.0</td>\n",
       "      <td>existing paid</td>\n",
       "      <td>furniture/equipment</td>\n",
       "      <td>7882.0</td>\n",
       "      <td>&lt;100</td>\n",
       "      <td>4&lt;=X&lt;7</td>\n",
       "      <td>...</td>\n",
       "      <td>life insurance</td>\n",
       "      <td>45.0</td>\n",
       "      <td>none</td>\n",
       "      <td>for free</td>\n",
       "      <td>1.0</td>\n",
       "      <td>skilled</td>\n",
       "      <td>2.0</td>\n",
       "      <td>none</td>\n",
       "      <td>single</td>\n",
       "      <td>good</td>\n",
       "    </tr>\n",
       "    <tr>\n",
       "      <th>4</th>\n",
       "      <td>male</td>\n",
       "      <td>aged</td>\n",
       "      <td>yes</td>\n",
       "      <td>&lt;0</td>\n",
       "      <td>24.0</td>\n",
       "      <td>delayed previously</td>\n",
       "      <td>new car</td>\n",
       "      <td>4870.0</td>\n",
       "      <td>&lt;100</td>\n",
       "      <td>1&lt;=X&lt;4</td>\n",
       "      <td>...</td>\n",
       "      <td>no known property</td>\n",
       "      <td>53.0</td>\n",
       "      <td>none</td>\n",
       "      <td>for free</td>\n",
       "      <td>2.0</td>\n",
       "      <td>skilled</td>\n",
       "      <td>2.0</td>\n",
       "      <td>none</td>\n",
       "      <td>single</td>\n",
       "      <td>bad</td>\n",
       "    </tr>\n",
       "  </tbody>\n",
       "</table>\n",
       "<p>5 rows × 23 columns</p>\n",
       "</div>"
      ],
      "text/plain": [
       "      sex age_cat foreign_worker checking_status  duration  \\\n",
       "0    male    aged            yes              <0       6.0   \n",
       "1  female   young            yes        0<=X<200      48.0   \n",
       "2    male    aged            yes     no checking      12.0   \n",
       "3    male    aged            yes              <0      42.0   \n",
       "4    male    aged            yes              <0      24.0   \n",
       "\n",
       "                   credit_history              purpose  credit_amount  \\\n",
       "0  critical/other existing credit             radio/tv         1169.0   \n",
       "1                   existing paid             radio/tv         5951.0   \n",
       "2  critical/other existing credit            education         2096.0   \n",
       "3                   existing paid  furniture/equipment         7882.0   \n",
       "4              delayed previously              new car         4870.0   \n",
       "\n",
       "     savings_status employment  ...  property_magnitude   age  \\\n",
       "0  no known savings        >=7  ...         real estate  67.0   \n",
       "1              <100     1<=X<4  ...         real estate  22.0   \n",
       "2              <100     4<=X<7  ...         real estate  49.0   \n",
       "3              <100     4<=X<7  ...      life insurance  45.0   \n",
       "4              <100     1<=X<4  ...   no known property  53.0   \n",
       "\n",
       "   other_payment_plans   housing  existing_credits                 job  \\\n",
       "0                 none       own               2.0             skilled   \n",
       "1                 none       own               1.0             skilled   \n",
       "2                 none       own               1.0  unskilled resident   \n",
       "3                 none  for free               1.0             skilled   \n",
       "4                 none  for free               2.0             skilled   \n",
       "\n",
       "  num_dependents  own_telephone marital_status  credit-risk  \n",
       "0            1.0            yes         single         good  \n",
       "1            1.0           none    div/dep/mar          bad  \n",
       "2            2.0           none         single         good  \n",
       "3            2.0           none         single         good  \n",
       "4            2.0           none         single          bad  \n",
       "\n",
       "[5 rows x 23 columns]"
      ]
     },
     "execution_count": 2,
     "metadata": {},
     "output_type": "execute_result"
    }
   ],
   "source": [
    "df = pd.read_csv(\"german_risk.csv\")\n",
    "df.head()"
   ]
  },
  {
   "cell_type": "code",
   "execution_count": 3,
   "metadata": {
    "colab": {
     "base_uri": "https://localhost:8080/"
    },
    "executionInfo": {
     "elapsed": 336,
     "status": "ok",
     "timestamp": 1710886084152,
     "user": {
      "displayName": "Diego Rodríguez",
      "userId": "02273920844464973837"
     },
     "user_tz": 180
    },
    "id": "VF9uyg7d-EaD",
    "outputId": "533efa94-d597-4ffa-f07f-73d46e04b3f6"
   },
   "outputs": [
    {
     "data": {
      "text/plain": [
       "Index(['sex', 'age_cat', 'foreign_worker', 'checking_status', 'duration',\n",
       "       'credit_history', 'purpose', 'credit_amount', 'savings_status',\n",
       "       'employment', 'installment_commitment', 'other_parties',\n",
       "       'residence_since', 'property_magnitude', 'age', 'other_payment_plans',\n",
       "       'housing', 'existing_credits', 'job', 'num_dependents', 'own_telephone',\n",
       "       'marital_status', 'credit-risk'],\n",
       "      dtype='object')"
      ]
     },
     "execution_count": 3,
     "metadata": {},
     "output_type": "execute_result"
    }
   ],
   "source": [
    "df.columns"
   ]
  },
  {
   "cell_type": "markdown",
   "metadata": {
    "id": "K_QimK_q-2KK"
   },
   "source": [
    "**Columnas Numéricas**\n",
    "\n",
    "- `duration`: Duración en meses. Rango (4,72).\n",
    "- `credit_amount`: Cantidad de crédito solicitada. Rango (250, 18424) en DM - Marco alemán.\n",
    "- `installment_commitment`: Tasa de cuota en porcentaje del ingreso disponible. Rango (1,4).\n",
    "- `residence_since`: Tiempo de residencia actual. Rango (1,4).\n",
    "- `age`: Edad en años. Rango (19, 75).\n",
    "- `existing_credits`: Número de créditos existentes en este banco. Rango (1,4) en DM - Marco alemán.\n",
    "- `num_dependents`: Número de personas responsables de proveer el mantenimiento. Rango (1,2).\n",
    "\n",
    "**Columnas Categóricas**\n",
    "\n",
    "- `checking_status`: Valores `'0<=X<200', '<0', '>=200', 'no checking'`.\n",
    "- `credit_history`: Historial crediticio del solicitante. Valores `['all paid', 'critical/other existing credit', 'delayed previously', 'existing paid', 'no credits/all paid']`.\n",
    "- `purpose`: Motivo por el cual el solicitante solicitó un préstamo. Valores `['business', 'domestic appliance', 'education', 'furniture/equipment', 'new car', 'other', 'radio/tv', 'repairs', 'retraining', 'used car']`.\n",
    "- `savings_status`: Cuenta de ahorros/bonos. Valores `['100<=X<500', '500<=X<1000', '<100', '>=1000', 'no known savings']`.\n",
    "- `employment`: Empleo actual desde (en años). Valores `['1<=X<4', '4<=X<7', '<1', '>=7', 'unemployed']`.\n",
    "- `other_parties`: Otros deudores / garantes. Valores `['co applicant', 'guarantor', 'none']`.\n",
    "- `property_magnitude`: Bienes del solicitante. Valores `['car', 'life insurance', 'no known property', 'real estate']`.\n",
    "- `other_payment_plans`: Otros planes de pago a plazos. Valores `['bank', 'none', 'stores']`.\n",
    "- `housing`: Situación de vivienda del solicitante. Valores `['for free', 'own', 'rent']`.\n",
    "- `job`: Categorías de empleo definidas por el banco. Valores `['high qualif/self emp/mgmt', 'skilled', 'unemp/unskilled non res', 'unskilled resident']`.\n",
    "- `own_telephone`: Si hay un teléfono registrado a nombre del cliente. Valores `['none', 'yes']`.\n",
    "- `foreign_worker`: Variable protegida. Valores `['no', 'yes']`.\n",
    "- `sex`: Variable protegida. Valores `['female', 'male']`.\n",
    "- `marital_status`: Estado personal. Valores `['div/dep/mar', 'div/sep', 'mar/wid', 'single']`.\n",
    "\n",
    "**Etiqueta (variable objetivo)**\n",
    "\n",
    "- `credit-risk`: `'good'` (favorable) o `'bad'` (desfavorable)."
   ]
  },
  {
   "cell_type": "markdown",
   "metadata": {
    "id": "ShAjXsoMBc-G"
   },
   "source": [
    "## **Pregunta 1**: ¿Qué atributos demográficos puedes identificar? ¿Cómo son las distribuciones de estas variables?"
   ]
  },
  {
   "cell_type": "markdown",
   "metadata": {},
   "source": [
    "Se deja a continuación un ejemplo de respuesta con un atributo; la idea es que después se analice el resto de atributos de manera análoga.\t"
   ]
  },
  {
   "cell_type": "code",
   "execution_count": 4,
   "metadata": {
    "colab": {
     "base_uri": "https://localhost:8080/",
     "height": 472
    },
    "executionInfo": {
     "elapsed": 462,
     "status": "ok",
     "timestamp": 1710886109107,
     "user": {
      "displayName": "Diego Rodríguez",
      "userId": "02273920844464973837"
     },
     "user_tz": 180
    },
    "id": "YPF_vEgEBOIK",
    "outputId": "8f453fd8-bcc2-49d9-c96f-16eef696a2bf"
   },
   "outputs": [
    {
     "data": {
      "image/png": "[encoded data removed]",
      "text/plain": [
       "<Figure size 640x480 with 1 Axes>"
      ]
     },
     "metadata": {},
     "output_type": "display_data"
    }
   ],
   "source": [
    "sns.countplot(data=df, x=\"sex\")\n",
    "plt.title(\"Distribución sexo\")\n",
    "plt.show()"
   ]
  },
  {
   "cell_type": "code",
   "execution_count": 5,
   "metadata": {
    "colab": {
     "base_uri": "https://localhost:8080/"
    },
    "id": "Ma_6P8ci_-Sl",
    "outputId": "9e6e7d59-926b-40b1-f1bd-60abe3673991"
   },
   "outputs": [
    {
     "data": {
      "text/plain": [
       "sex\n",
       "male      69.0\n",
       "female    31.0\n",
       "Name: proportion, dtype: float64"
      ]
     },
     "execution_count": 5,
     "metadata": {},
     "output_type": "execute_result"
    }
   ],
   "source": [
    "df[\"sex\"].value_counts(normalize=True) * 100"
   ]
  },
  {
   "cell_type": "markdown",
   "metadata": {
    "id": "UXHYZfJ3DRZw"
   },
   "source": [
    "En este caso, podemos ver que los hombres se encuentran sobrerepresentados en los datos, siendo más del doble que las mujeres. Esto significa un desbalanceo importante de nuestros datos, y podría afectar nuestros modelos."
   ]
  },
  {
   "cell_type": "markdown",
   "metadata": {
    "id": "82XGyqGxAl_2"
   },
   "source": [
    "## **Pregunta 2**: ¿Qué subpoblaciones interseccionales puedes identificar? Revisa su representación respecto del total de los datos."
   ]
  },
  {
   "cell_type": "markdown",
   "metadata": {
    "id": "xqQwJ_IfDCNr"
   },
   "source": [
    "## **Pregunta 3**: Revisa la distribución de algunos de los atributos dentro de las subpoblaciones."
   ]
  },
  {
   "cell_type": "markdown",
   "metadata": {},
   "source": [
    "Se deja a continuación una idea de lo que se puede hacer en código. "
   ]
  },
  {
   "cell_type": "code",
   "execution_count": 6,
   "metadata": {
    "colab": {
     "base_uri": "https://localhost:8080/",
     "height": 449
    },
    "id": "POYN0dPOEdlO",
    "outputId": "33fdbb5a-01c5-46a6-b607-54de9c58f245"
   },
   "outputs": [
    {
     "data": {
      "image/png": "[encoded data removed]",
      "text/plain": [
       "<Figure size 640x480 with 1 Axes>"
      ]
     },
     "metadata": {},
     "output_type": "display_data"
    }
   ],
   "source": [
    "sns.violinplot(y=\"sex\", x=\"age\", hue=\"credit-risk\", split=True, data=df)\n",
    "plt.show()"
   ]
  },
  {
   "cell_type": "markdown",
   "metadata": {
    "id": "0kjU-vlLGX3l"
   },
   "source": [
    "##  **Pregunta 4**: ¿Cómo distribuye la variable objetivo (credit-risk) dentro de las subpoblaciones? ¿Qué problemas identificas?"
   ]
  },
  {
   "cell_type": "markdown",
   "metadata": {
    "id": "42glrcgFGik9"
   },
   "source": [
    "## **Pregunta 5**: Reflexiona acerca de las consecuencias que podría tener implementar un algoritmo que participe en el proceso de decisión de un banco en la asignación de créditos."
   ]
  }
 ],
 "metadata": {
  "colab": {
   "provenance": []
  },
  "kernelspec": {
   "display_name": "Python 3",
   "language": "python",
   "name": "python3"
  },
  "language_info": {
   "codemirror_mode": {
    "name": "ipython",
    "version": 3
   },
   "file_extension": ".py",
   "mimetype": "text/x-python",
   "name": "python",
   "nbconvert_exporter": "python",
   "pygments_lexer": "ipython3",
   "version": "3.13.2"
  }
 },
 "nbformat": 4,
 "nbformat_minor": 0
}
